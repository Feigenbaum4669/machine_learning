{
 "cells": [
  {
   "cell_type": "markdown",
   "metadata": {
    "colab_type": "text",
    "id": "oMv_I3EiF6Rd"
   },
   "source": [
    "# Regresja logistyczna, walidacja, krzywe ROC"
   ]
  },
  {
   "cell_type": "markdown",
   "metadata": {
    "colab_type": "text",
    "id": "yJjklVp9F6Rg"
   },
   "source": [
    "## Część I: regresja logistyczna\n",
    "Ten notebook pomoże Ci zapoznać się z regresją logistyczną. \n",
    "\n",
    "Zbudujemy klasyfikator bazujący na regresji logistycznej. Jego zadaniem będzie określanie prawdopodobieństwa przyjęcia kandydata na studia na podstawie wyników z dwóch egzaminów maturalnych (każdy przeskalowany na zakres 0-100%): z matematyki i z biologii. \n",
    "\n",
    "Trzeba będzie uzupełnić kody funkcji:\n",
    "*     sigmoida\n",
    "*     funkcjaKosztu\n",
    "*     predykcja\n",
    "*     funkcjaKosztuReg"
   ]
  },
  {
   "cell_type": "markdown",
   "metadata": {
    "colab_type": "text",
    "id": "qpPO3J51F6Rj"
   },
   "source": [
    "Zanim przejdziemy do właściwych zadań zaimportujmy potrzebne moduły:"
   ]
  },
  {
   "cell_type": "code",
   "execution_count": 1,
   "metadata": {
    "colab": {},
    "colab_type": "code",
    "id": "8JCVALLJF6Rm"
   },
   "outputs": [],
   "source": [
    "import matplotlib\n",
    "import numpy as np\n",
    "import pylab as plt\n",
    "import scipy.optimize as so\n",
    "from ipywidgets import FloatProgress\n",
    "from IPython.display import display"
   ]
  },
  {
   "cell_type": "markdown",
   "metadata": {
    "colab_type": "text",
    "id": "WepJQFSkkMRK"
   },
   "source": [
    "Dane do ćwiczenia zostały już opracowane przez wykładowcę i znajdują się w pliku:\n",
    "\n",
    "https://brain.fuw.edu.pl/edu/images/d/d8/Reg_log_data1.txt.\n",
    "\n",
    "Proszę je pobrać i zapisać na dysku Google'a (lub w bieżącym katalogu, jeśli pracujecie lokalnie). Jeśli pracujecie w Google Colab, to aby mieć dostęp do plików na dysku Google'a, należy go najpierw podłączyć do projektu następującą komendą:"
   ]
  },
  {
   "cell_type": "code",
   "execution_count": null,
   "metadata": {
    "colab": {
     "base_uri": "https://localhost:8080/",
     "height": 34
    },
    "colab_type": "code",
    "executionInfo": {
     "elapsed": 634,
     "status": "ok",
     "timestamp": 1570784141471,
     "user": {
      "displayName": "Anna Dawid",
      "photoUrl": "https://lh3.googleusercontent.com/a-/AAuE7mBMAlqIzrWbyBbGSDvCFuCvvSN7Xx3h3HRKaToc0r4=s64",
      "userId": "02862484648310443813"
     },
     "user_tz": -120
    },
    "id": "j7Oda1zC_HAQ",
    "outputId": "bcd1e0df-eb13-46eb-f317-694010e9d5b0"
   },
   "outputs": [],
   "source": []
  },
  {
   "cell_type": "code",
   "execution_count": 3,
   "metadata": {
    "colab": {},
    "colab_type": "code",
    "id": "aGWrjsn6CDAw"
   },
   "outputs": [],
   "source": [
    "folder = '/home/feigenbaum/Downloads/' # podaj lokalizację pliku"
   ]
  },
  {
   "cell_type": "code",
   "execution_count": 4,
   "metadata": {
    "colab": {},
    "colab_type": "code",
    "id": "P-K2ajv4DH2N"
   },
   "outputs": [],
   "source": [
    "# W ten sposób można zapisywać dane do pliku na Google dysku\n",
    "x = np.array([1,2,3,4])\n",
    "np.savetxt(folder + 'test.txt', x, delimiter=',')"
   ]
  },
  {
   "cell_type": "markdown",
   "metadata": {
    "colab_type": "text",
    "id": "lysXJ3KrF6Rw"
   },
   "source": [
    "##  Wczytanie danych\n",
    "\n",
    "Zawsze dobrze jest rozpocząć pracę od zapoznania się z danymi. W tym celu powinniśmy poznać strukturę danych: \n",
    "* Pierwsze dwie kolumny zawierają wyniki egzaminów (pierwsza z matematyki, druga z biologii),\n",
    "* Trzecia kolumna zawiera etykietę (przynależność do grupy), po ang. *labels*\n",
    "\n",
    "Wczytajmy dane i zobaczmy pierwsze 10 linii."
   ]
  },
  {
   "cell_type": "code",
   "execution_count": 5,
   "metadata": {
    "colab": {},
    "colab_type": "code",
    "id": "R7Kho7fTF6Ry"
   },
   "outputs": [
    {
     "name": "stdout",
     "output_type": "stream",
     "text": [
      "[[34.62365962 78.02469282  0.        ]\n",
      " [30.28671077 43.89499752  0.        ]\n",
      " [35.84740877 72.90219803  0.        ]\n",
      " [60.18259939 86.3085521   1.        ]\n",
      " [79.03273605 75.34437644  1.        ]\n",
      " [45.08327748 56.31637178  0.        ]\n",
      " [61.10666454 96.51142588  1.        ]\n",
      " [75.02474557 46.55401354  1.        ]\n",
      " [76.0987867  87.42056972  1.        ]\n",
      " [84.43281996 43.53339331  1.        ]]\n"
     ]
    }
   ],
   "source": [
    "data = np.loadtxt(folder + 'Reg_log_data1.txt',delimiter=',')\n",
    "print(data[:10,:])"
   ]
  },
  {
   "cell_type": "markdown",
   "metadata": {
    "colab_type": "text",
    "id": "tK8shSDdF6R2"
   },
   "source": [
    "Aby łatwiej było się nimi posługiwać wydzielmy z nich dane wejściowe jako 'X' i wyjściowe jako 'Y':"
   ]
  },
  {
   "cell_type": "code",
   "execution_count": 6,
   "metadata": {
    "colab": {},
    "colab_type": "code",
    "id": "AynkbufIF6R3"
   },
   "outputs": [],
   "source": [
    "X = data[:,:2] \n",
    "y = data[:,2]"
   ]
  },
  {
   "cell_type": "markdown",
   "metadata": {
    "colab_type": "text",
    "id": "lzoi2OTNF6R7"
   },
   "source": [
    "O ile poziom skomplikowania problemu na to pozwala, zawsze dobrze jest zyskać dodatkową intuicję co do danych przez zobrazowanie ich. Zróbmy wykres punktowy (plt.scatter), w którym:\n",
    "* żółty symbol oznacza przykłady gdzie y = 1 (przyjęty na studia) zaś \n",
    "* niebieski te z y = 0 (nieprzyjęty na studia)"
   ]
  },
  {
   "cell_type": "code",
   "execution_count": 7,
   "metadata": {
    "colab": {},
    "colab_type": "code",
    "id": "FtNRta2aF6R8"
   },
   "outputs": [
    {
     "data": {
      "text/plain": [
       "Text(0, 0.5, 'wynik z biologii')"
      ]
     },
     "execution_count": 7,
     "metadata": {},
     "output_type": "execute_result"
    },
    {
     "data": {
      "image/png": "[encoded data removed]",
      "text/plain": [
       "<Figure size 432x288 with 1 Axes>"
      ]
     },
     "metadata": {
      "needs_background": "light"
     },
     "output_type": "display_data"
    }
   ],
   "source": [
    "plt.figure()\n",
    "plt.scatter(X[:,0], X[:,1], c=y, cmap=plt.cm.Set3)\n",
    "plt.xlabel('wynik z matematyki')\n",
    "plt.ylabel('wynik z biologii')"
   ]
  },
  {
   "cell_type": "markdown",
   "metadata": {
    "colab_type": "text",
    "id": "4pqxAPGYF6R_"
   },
   "source": [
    "Jak na poprzednich ćwiczeniach, wykorzystywany model ma wyraz wolny. Robimy to samo, co ostatnio, czyli aby wygodnie można było stosować oblicznia wektorowe do regresji logistycznej, to zmodyfikujemy macierz wejść X poprzez dodanie do niej z lewej strony kolumny jedynek. Będą one mnożyły  parametr $\\theta_0$:"
   ]
  },
  {
   "cell_type": "code",
   "execution_count": 8,
   "metadata": {
    "colab": {},
    "colab_type": "code",
    "id": "1HZTsg1QF6SB"
   },
   "outputs": [],
   "source": [
    "N = len(y) # liczba przykładów w zbiorze uczącym\n",
    "XX = np.concatenate((np.ones((N,1)), X),axis = 1)"
   ]
  },
  {
   "cell_type": "markdown",
   "metadata": {
    "colab_type": "text",
    "id": "7ujVHfntF6SD"
   },
   "source": [
    "Zobaczmy jak teraz wygląda macierz XX:    "
   ]
  },
  {
   "cell_type": "code",
   "execution_count": 9,
   "metadata": {
    "colab": {},
    "colab_type": "code",
    "id": "-GgrSxbMF6SE"
   },
   "outputs": [
    {
     "name": "stdout",
     "output_type": "stream",
     "text": [
      "[[ 1.         34.62365962 78.02469282]\n",
      " [ 1.         30.28671077 43.89499752]\n",
      " [ 1.         35.84740877 72.90219803]\n",
      " [ 1.         60.18259939 86.3085521 ]\n",
      " [ 1.         79.03273605 75.34437644]\n",
      " [ 1.         45.08327748 56.31637178]\n",
      " [ 1.         61.10666454 96.51142588]\n",
      " [ 1.         75.02474557 46.55401354]\n",
      " [ 1.         76.0987867  87.42056972]\n",
      " [ 1.         84.43281996 43.53339331]]\n"
     ]
    }
   ],
   "source": [
    "print(XX[:10,:])"
   ]
  },
  {
   "cell_type": "markdown",
   "metadata": {
    "colab_type": "text",
    "id": "KCic0Ta2F6SH"
   },
   "source": [
    "## Hipoteza\n",
    "Dla przypomnienia _hipoteza_ w regresji logistycznej ma postać: \n",
    "\n",
    "$\\qquad$ $h_\\theta(x) = \\frac{1}{1+\\exp(-\\theta^Tx)}$.\n",
    "\n",
    "W implementacji dobrze jest myśleć o tej funkcji tak:\n",
    "\n",
    "$\\qquad$ $h_\\theta(x) = \\frac{1}{1+f}$.\n",
    "\n",
    "gdzie: $f = \\exp(-\\theta^Tx)$\n",
    "\n",
    "* zaimplementuj  hipotezę dla regresji logistycznej, \n",
    "* ze względu na stabilność numeryczną obliczeń dobrze jest ograniczyć zakres zmienności $f$ np do zakresu [1e-8, 1e+8]:"
   ]
  },
  {
   "cell_type": "code",
   "execution_count": 10,
   "metadata": {
    "colab": {},
    "colab_type": "code",
    "id": "0lcVAq06F6SI"
   },
   "outputs": [],
   "source": [
    "def hipoteza(x, theta):\n",
    "    '''ta funkcja zwraca wartość hipotezy dla danego wejścia x i parametrów theta'''\n",
    "    p=np.dot(x,theta)\n",
    "    f = np.exp(-p)\n",
    "    if f < 1e-8:\n",
    "        f = 1e-8\n",
    "    if f > 1e8:\n",
    "        f = 1e8 \n",
    "    h = 1/(1+f)\n",
    "    return h"
   ]
  },
  {
   "cell_type": "markdown",
   "metadata": {
    "colab_type": "text",
    "id": "rAdRxKnlF6SL"
   },
   "source": [
    "Przetestuj funkcję:"
   ]
  },
  {
   "cell_type": "code",
   "execution_count": 11,
   "metadata": {
    "colab": {},
    "colab_type": "code",
    "id": "JosEFcAdF6SM"
   },
   "outputs": [
    {
     "name": "stdout",
     "output_type": "stream",
     "text": [
      "wartość hipotezy dla zerowego przykładu i dla początkowej thety: [0.5]\n"
     ]
    }
   ],
   "source": [
    "H0 = hipoteza(XX[0,:], np.zeros((3, 1)))\n",
    "print('wartość hipotezy dla zerowego przykładu i dla początkowej thety: '+ str(H0))"
   ]
  },
  {
   "cell_type": "markdown",
   "metadata": {
    "colab_type": "text",
    "id": "5LRjnS80F6SO"
   },
   "source": [
    "Powino wyjść:\n",
    "\n",
    "```wartość hipotezy dla zerowego przykładu i dla początkowej thety: [ 0.5]```"
   ]
  },
  {
   "cell_type": "markdown",
   "metadata": {
    "colab_type": "text",
    "id": "ARAowqB7F6SP"
   },
   "source": [
    "## Funkcja log-wiarygodności: \n",
    "* parametry regresji znajdujemy przez maksymalizację [funkcji log-wiarygodności](https://brain.fuw.edu.pl/edu/index.php/Uczenie_maszynowe_i_sztuczne_sieci_neuronowe/Wykład_6#Funkcja_wiarygodno.C5.9Bci):\n",
    "\n",
    "$\\qquad$ $l(\\theta) = \\log L(\\theta) = \\sum_{j=1}^m y^{(j)} \\log h(x^{(j)}) + (1 - y^{(j)}) \\log (1 - h(x^{(j)}))$"
   ]
  },
  {
   "cell_type": "code",
   "execution_count": 12,
   "metadata": {
    "colab": {},
    "colab_type": "code",
    "id": "BXfgc2lvF6SQ"
   },
   "outputs": [],
   "source": [
    "def funkcjaLogWiarygodnosci(theta, X, y):\n",
    "    '''Ta funkcja oblicza wartość funkcji log-wiarygodności  dla regresji logistycznej\n",
    "    używając theta jako parametrów oraz X i y jako zbioru uczącego'''\n",
    "    l=0.0\n",
    "    # pętla po przykładach ze zbioru uczącego\n",
    "    for j in range(len(y)): \n",
    "        h = hipoteza(X[j,:],theta)\n",
    "        l +=  y[j]*np.log(h)+(1-y[j])*np.log(1-h)   \n",
    "    return l   "
   ]
  },
  {
   "cell_type": "markdown",
   "metadata": {
    "colab_type": "text",
    "id": "7pCk325NF6SS"
   },
   "source": [
    "W tym ćwiczeniu zrobimy to za pomocą funkcji optymalizacyjnych z modułu [<tt>scipy.optimize</tt>]( http://docs.scipy.org/doc/scipy/reference/optimize.html#module-scipy.optimize). \n",
    "\n",
    "Wynikają z tego dwie konsekwencje:\n",
    "* Funkcje te są przystosowane do szukania minimów funkcji celu. Musimy więc podawać im jako argumenty funkcję minus log-wiarygodności"
   ]
  },
  {
   "cell_type": "code",
   "execution_count": 13,
   "metadata": {
    "colab": {},
    "colab_type": "code",
    "id": "3Mi44eHCF6ST"
   },
   "outputs": [],
   "source": [
    "def minusFunkcjaLogWiarygodnosci(theta, X, y):\n",
    "    return (-1.)*funkcjaLogWiarygodnosci(theta, X, y)"
   ]
  },
  {
   "cell_type": "markdown",
   "metadata": {
    "colab_type": "text",
    "id": "iay6KBUMF6SV"
   },
   "source": [
    "* Niektóre algorytmy mogą działać szybciej jeśli zaimplementujemy jawnie postać pochodnej:\n",
    "\n",
    "$\\qquad$ $\n",
    "\\begin{array}{lcl}\n",
    "\\frac{\\partial}{\\partial \\theta_i} l(\\theta)  =\\sum_{j=1}^m (y^{(j)}-h_\\theta(x^{(j)}))x_i^{(j)}\n",
    "\\end{array}\n",
    "$"
   ]
  },
  {
   "cell_type": "code",
   "execution_count": 14,
   "metadata": {
    "colab": {},
    "colab_type": "code",
    "id": "44yLZs7gF6SW"
   },
   "outputs": [],
   "source": [
    "def pochodnaLogWiarygodnosci(theta, X, y):\n",
    "    '''ta funkcja oblicza wartość pochodnej funkcji log-wiarygodności\n",
    "    dla podaanych wartości theta, X i y'''\n",
    "    dl_dtheta = np.zeros(len(theta))\n",
    "    for i in range(len(theta)): # dla i-tej współrzędnej theta\n",
    "        for j in range(len(y)):  # dodajemy przyczynki od przykładu j-ego \n",
    "            h = hipoteza(XX[j,:],theta)\n",
    "            dl_dtheta[i] += (y[j]-h)*(X[j,i])\n",
    "    return dl_dtheta"
   ]
  },
  {
   "cell_type": "code",
   "execution_count": 15,
   "metadata": {
    "colab": {},
    "colab_type": "code",
    "id": "vdkD82ifF6Sa"
   },
   "outputs": [],
   "source": [
    "def minusPochodnaLogWiarygodnosci(theta, X, y):\n",
    "    return (-1)*pochodnaLogWiarygodnosci(theta, X, y)"
   ]
  },
  {
   "cell_type": "markdown",
   "metadata": {
    "colab_type": "text",
    "id": "HgN1eW3HF6Sc"
   },
   "source": [
    "Inicjujemy parametry $\\theta$ na wartości 0:"
   ]
  },
  {
   "cell_type": "code",
   "execution_count": 16,
   "metadata": {
    "colab": {},
    "colab_type": "code",
    "id": "damrMeVNF6Sd"
   },
   "outputs": [],
   "source": [
    "xDim = XX.shape[1] # rozmiar wejścia rozszerzonego o jedynki\n",
    "theta0 = np.zeros((xDim, 1));"
   ]
  },
  {
   "cell_type": "markdown",
   "metadata": {
    "colab_type": "text",
    "id": "CaZf-dG6F6Sg"
   },
   "source": [
    "Zobaczmy jak wygląda początkowa $\\theta$:"
   ]
  },
  {
   "cell_type": "code",
   "execution_count": 17,
   "metadata": {
    "colab": {},
    "colab_type": "code",
    "id": "CSmpiyhxF6Sh"
   },
   "outputs": [
    {
     "name": "stdout",
     "output_type": "stream",
     "text": [
      "[[0.]\n",
      " [0.]\n",
      " [0.]]\n"
     ]
    }
   ],
   "source": [
    "print(theta0)"
   ]
  },
  {
   "cell_type": "markdown",
   "metadata": {
    "colab_type": "text",
    "id": "0KqdoKfpF6Sm"
   },
   "source": [
    "Obliczamy funkcje log-wiarygodności i jej pochodną dla danych początkowych:"
   ]
  },
  {
   "cell_type": "code",
   "execution_count": 18,
   "metadata": {
    "colab": {},
    "colab_type": "code",
    "id": "F3UZIocHF6So"
   },
   "outputs": [
    {
     "name": "stdout",
     "output_type": "stream",
     "text": [
      "wartość log-wiarygodności dla początkowej thety: [-69.31471806]\n",
      "pochodna log-wiarygodnosci dla poczatkowej thety: [  10.         1200.92165893 1126.28422055]\n"
     ]
    }
   ],
   "source": [
    "logWiar = funkcjaLogWiarygodnosci(theta0, XX, y)\n",
    "pochLogWiar = pochodnaLogWiarygodnosci(theta0, XX, y)\n",
    "\n",
    "print( 'wartość log-wiarygodności dla początkowej thety: '+ str(logWiar))\n",
    "print( 'pochodna log-wiarygodnosci dla poczatkowej thety: '+ str(pochLogWiar))"
   ]
  },
  {
   "cell_type": "markdown",
   "metadata": {
    "colab_type": "text",
    "id": "bXwTaW4uF6St"
   },
   "source": [
    "Przy prawidłowej implementacji pownino wyjść:\n",
    "```\n",
    "wartość log-wiarygodności dla początkowej thety: [-69.31471806]\n",
    "pochodna log-wiarygodnosci dla poczatkowej thety: [   10.          1200.92165893  1126.28422055]\n",
    "```"
   ]
  },
  {
   "cell_type": "markdown",
   "metadata": {
    "colab_type": "text",
    "id": "cxsFdI1sF6Sv"
   },
   "source": [
    "## Optymalizacja  \n",
    "\n",
    "* Funkcje optymalizujące zaczerpniemy z modułu scipy.optimize\n",
    "* Ponieważ funkcje te są zaimplementowane do mnimalizowania to zamiast maksymalizować funkcję low-wiarygodności będziemy minimalizować tą funkcje przemnożoną przez -1 czyli minusFunkcjaLogWiarygodnosci fprime=minusPochodnaLogWiarygodnosci,"
   ]
  },
  {
   "cell_type": "code",
   "execution_count": 19,
   "metadata": {
    "colab": {},
    "colab_type": "code",
    "id": "5oI_My7cF6Sw"
   },
   "outputs": [
    {
     "name": "stdout",
     "output_type": "stream",
     "text": [
      "Optimization terminated successfully.\n",
      "         Current function value: 20.349770\n",
      "         Iterations: 21\n",
      "         Function evaluations: 28\n",
      "         Gradient evaluations: 28\n"
     ]
    }
   ],
   "source": [
    "theta_opt = so.fmin_bfgs(minusFunkcjaLogWiarygodnosci, theta0, \n",
    "                         fprime=minusPochodnaLogWiarygodnosci, \n",
    "                         args=(XX,y), disp= True)"
   ]
  },
  {
   "cell_type": "markdown",
   "metadata": {
    "colab_type": "text",
    "id": "lTnSjRcxF6Sz"
   },
   "source": [
    "Wypiszmy dopasowane $\\theta$:"
   ]
  },
  {
   "cell_type": "code",
   "execution_count": 20,
   "metadata": {
    "colab": {},
    "colab_type": "code",
    "id": "aA1GAYOKF6S1"
   },
   "outputs": [
    {
     "name": "stdout",
     "output_type": "stream",
     "text": [
      "Wartość log wiarygodnosci  dla optymalnych parametrów: -20.349770158943993\n",
      "theta: [-25.16133357   0.20623171   0.2014716 ]\n"
     ]
    }
   ],
   "source": [
    "print( 'Wartość log wiarygodnosci  dla optymalnych parametrów: '+\n",
    "      str(funkcjaLogWiarygodnosci(theta_opt, XX, y)))\n",
    "print( 'theta: '+str(theta_opt))"
   ]
  },
  {
   "cell_type": "markdown",
   "metadata": {
    "colab_type": "text",
    "id": "UtH3eaZOF6S4"
   },
   "source": [
    "## Wyniki\n",
    "Wyniki regresji logistycznej możemy odbierać na dwa sposoby:\n",
    "* obliczyć wartość hipotezy dla badanego wejścia i dopasowanych parametrów: miara ta ma interpretację prawdopodobieństwa przynależności wejścia do klasy 1,\n",
    "* dopisać funkcję wykonującą klasyfikację, tzn. porównanie wartości hipotezy z 1/2: \n",
    "  * dla wartości hipotezy > 1/2 klasyfikacja zwraca 1, \n",
    "  * w przeciwnym razie 0."
   ]
  },
  {
   "cell_type": "code",
   "execution_count": 21,
   "metadata": {
    "colab": {},
    "colab_type": "code",
    "id": "FyxS8yVTF6S5"
   },
   "outputs": [],
   "source": [
    "def klasyfikacja(testX, theta):\n",
    "    ''' Ta funkcja zwraca wynik klasyfikacji przykładu testX przy parametrach theta.\n",
    "    Po obliczeniu hipotezy, jeśli otrzymane prawdopodobieństwo jest większe niż 0.5 to \n",
    "    zwraca 1 w przeciwnym wypadku zwraca 0'''\n",
    "    h = h = hipoteza(testX,theta)\n",
    "    if h > 0.5 :\n",
    "        klasa = 1\n",
    "    else:\n",
    "        klasa = 0\n",
    "        \n",
    "    return klasa"
   ]
  },
  {
   "cell_type": "markdown",
   "metadata": {
    "colab_type": "text",
    "id": "rUmEhM5WF6S8"
   },
   "source": [
    "## Przewidywanie \n",
    "Po dopasowaniu parametrów nadszedł czas aby zrobić predykcję.\n",
    "Obliczmy jakie prawdopodobieństwo przyjęcia ma kandydat z wynikami\n",
    "* 20 z matematyki\n",
    "*  80 z biologii\n",
    "Do przewidywania wykorzystujemy funkcję hipoteza, bo zgodnie z naszą interpretacją daje ona prawdopodobieństwo przyjęcia"
   ]
  },
  {
   "cell_type": "code",
   "execution_count": 22,
   "metadata": {
    "colab": {},
    "colab_type": "code",
    "id": "09jECLgbF6S9"
   },
   "outputs": [
    {
     "name": "stdout",
     "output_type": "stream",
     "text": [
      "dla kandydata z wymnikami 20 z matematyki i 80 z biologii prawdopodobieństwo przyjęcia wynosi: 0.007253643755667057\n"
     ]
    }
   ],
   "source": [
    "prob = hipoteza([1, 20, 80], theta_opt)\n",
    "print('dla kandydata z wymnikami 20 z matematyki i 80 z biologii prawdopodobieństwo przyjęcia wynosi: ' +str(prob))"
   ]
  },
  {
   "cell_type": "markdown",
   "metadata": {
    "colab_type": "text",
    "id": "ySrS9jrgF6TA"
   },
   "source": [
    "Używając funkcji <tt>klasyfikacja</tt> dostaniemy klasę:\n",
    "    "
   ]
  },
  {
   "cell_type": "code",
   "execution_count": 23,
   "metadata": {
    "colab": {},
    "colab_type": "code",
    "id": "uWmfzR4kF6TB"
   },
   "outputs": [
    {
     "name": "stdout",
     "output_type": "stream",
     "text": [
      "kandydat zalicza się do klasy: 0\n"
     ]
    }
   ],
   "source": [
    "klasa = klasyfikacja([1, 20, 80], theta_opt)\n",
    "print('kandydat zalicza się do klasy: ' +str(klasa))"
   ]
  },
  {
   "cell_type": "markdown",
   "metadata": {
    "colab_type": "text",
    "id": "YtZFghLDF6TE"
   },
   "source": [
    "Narysujmy uzyskany podział. Na tle punktów pokolorowanych zgodnie z przynalenością do klas dorysujemy prostą rozgraniczającą obszary \"1\" od \"0\".   Ma ona równanie \n",
    "\n",
    "$\\qquad$ $h_\\theta(x)=1/2$, \n",
    "\n",
    "tzn:\n",
    "\n",
    "$\\qquad$ $\\theta^T x = 0$\n",
    "\n",
    "czyli \n",
    "\n",
    "$\\theta_0 +\\theta_1 x_1 + \\theta_2 x_2 =0 $\n",
    "\n",
    "Przekształcając to do równania prostej we współrzędnych $(x_1,x_2)$ mamy:\n",
    "\n",
    "$- \\theta_2 x_2 = \\theta_0 +\\theta_1 x_1 $\n",
    "\n",
    "$ x_2 = - \\frac{1}{\\theta_2}( \\theta_0 +\\theta_1 x_1 )$"
   ]
  },
  {
   "cell_type": "code",
   "execution_count": 24,
   "metadata": {
    "colab": {},
    "colab_type": "code",
    "id": "CRMjxktIF6TF"
   },
   "outputs": [
    {
     "data": {
      "text/plain": [
       "[<matplotlib.lines.Line2D at 0x7f5f26cfc588>]"
      ]
     },
     "execution_count": 24,
     "metadata": {},
     "output_type": "execute_result"
    },
    {
     "data": {
      "image/png": "[encoded data removed]",
      "text/plain": [
       "<Figure size 432x288 with 1 Axes>"
      ]
     },
     "metadata": {
      "needs_background": "light"
     },
     "output_type": "display_data"
    }
   ],
   "source": [
    "plt.figure()\n",
    "plt.scatter(X[:, 0], X[:, 1], c=y, cmap=plt.cm.Set3)\n",
    "plt.xlabel('wynik z matematyki')\n",
    "plt.ylabel('wynik z biologii')\n",
    "\n",
    "x_plot = np.array([np.min(X[:,1]), np.max(X[:,1])])\n",
    "y_plot = -1./theta_opt[2]*(theta_opt[1]*x_plot + theta_opt[0])\n",
    "\n",
    "plt.plot(x_plot,y_plot,'b')"
   ]
  },
  {
   "cell_type": "markdown",
   "metadata": {
    "colab_type": "text",
    "id": "U8EZX9WNF6TH"
   },
   "source": [
    "## Walidacja\n",
    "Teoria do tej części znajduje się tu:\n",
    "\n",
    "https://brain.fuw.edu.pl/edu/index.php/Uczenie_maszynowe_i_sztuczne_sieci_neuronowe/Wykład_Ocena_jakości_klasyfikacji"
   ]
  },
  {
   "cell_type": "markdown",
   "metadata": {
    "colab_type": "text",
    "id": "qzYhR3-IF6TI"
   },
   "source": [
    "### Zastosowanie w naszym przykładzie\n",
    "Dodamy teraz kross-walidację typu leave-one-out.\n",
    "Po kolei odłożymy po jednym przykładzie ze zbioru uczącego i na takim zredukownaym zbiorze nauczymy regresję, a następnie sprawdzimy która z poniższych możliwych sytuacji zachodzi:\n",
    "* TP:  stan faktyczny jest pozytywny (y=1) i klasyfikator się nie myli (wynik = 1)\n",
    "* TN:  stan faktyczny jest negatywny (y=0) i klasyfikator się nie myli (wynik = 0) \n",
    "* FP:   wynik fałszywie pozytywny (fałszywy alarm): stan faktyczny jest negatywny (y=0) ale klasyfikator się  myli (wynik = 1)\n",
    "* FN: przegapiony alarm: stan faktyczny jest pozytywny (y=1) i klasyfikator się myli (wynik = 0)\n"
   ]
  },
  {
   "cell_type": "markdown",
   "metadata": {
    "colab_type": "text",
    "id": "Kp6Lqn2uF6TJ"
   },
   "source": [
    "Przygotowujemy liczniki:"
   ]
  },
  {
   "cell_type": "code",
   "execution_count": 25,
   "metadata": {
    "colab": {},
    "colab_type": "code",
    "id": "G4ng7S-TF6TJ"
   },
   "outputs": [],
   "source": [
    "TP = 0 \n",
    "TN = 0\n",
    "FP = 0 \n",
    "FN = 0"
   ]
  },
  {
   "cell_type": "markdown",
   "metadata": {
    "colab_type": "text",
    "id": "jww4GQF-F6TM"
   },
   "source": [
    " W pętli odkładamy przykład `v` do testowania:"
   ]
  },
  {
   "cell_type": "code",
   "execution_count": 26,
   "metadata": {
    "colab": {},
    "colab_type": "code",
    "id": "5u2Di0sXF6TN"
   },
   "outputs": [
    {
     "name": "stdout",
     "output_type": "stream",
     "text": [
      "TP:  56\n",
      "FP:  9\n",
      "TN:  31\n",
      "FN:  4\n"
     ]
    }
   ],
   "source": [
    "for v in range(len(y)):\n",
    "    testX = XX[v]\n",
    "    testY = y[v]\n",
    "    # robimy zredukowany zbiór uczący przez usunięcie przykładu v\n",
    "    uczX = np.delete(XX,v,axis=0)\n",
    "    uczY = np.delete(y,v)\n",
    "    # uczymy regresję na zredukowanym zbiorze uczącym\n",
    "    theta_opt_t = so.fmin_bfgs(minusFunkcjaLogWiarygodnosci, theta0,\n",
    "                             fprime=minusPochodnaLogWiarygodnosci, \n",
    "                             args=(uczX, uczY), disp= False)\n",
    "   # klasyfikujemy odłożony przykład : proszę uzupełnić funkcję klasyfikacja na początku pliku\n",
    "    wynik = klasyfikacja(testX , theta_opt_t)\n",
    "    # aktualizujemy liczniki; proszę uzupełnić kod:\n",
    "    if testY == 1 and wynik == 1:\n",
    "            TP += 1\n",
    "    if testY == 1 and wynik == 0:\n",
    "            FN +=1           \n",
    "    if testY == 0 and wynik == 1:\n",
    "            FP +=1\n",
    "    if testY == 0 and wynik == 0:\n",
    "            TN +=1\n",
    "print('TP: ', TP)\n",
    "print('FP: ', FP)\n",
    "print('TN: ', TN)\n",
    "print('FN: ', FN)"
   ]
  },
  {
   "cell_type": "markdown",
   "metadata": {
    "colab_type": "text",
    "id": "brZS-946F6TP"
   },
   "source": [
    "Dla naszego zbioru uczącego powinniśmy uzyskać:\n",
    "```\n",
    "TP:  55\n",
    "FP:  6\n",
    "TN:  34\n",
    "FN:  5\n",
    "```"
   ]
  },
  {
   "cell_type": "markdown",
   "metadata": {
    "colab_type": "text",
    "id": "0UNsb51DF6TQ"
   },
   "source": [
    "## Krzywa ROC\n",
    "\n",
    "Aby wykreślić krzywą ROC należy przeprowadzić klasyfikację dla wielu możliwych wartości progu dla hipotezy, powyżej którego uznajemy przypadek za należący do klasy 1.\n",
    "\n",
    "\n",
    "Modyfikujemy funkcję klasyfikacja, tak aby wynik zależał też od progu:"
   ]
  },
  {
   "cell_type": "code",
   "execution_count": 27,
   "metadata": {
    "colab": {},
    "colab_type": "code",
    "id": "yZxsuikJF6TR"
   },
   "outputs": [],
   "source": [
    "def klasyfikacjaProg(testX, theta,prog):\n",
    "    h = hipoteza(testX, theta)\n",
    "    if h > prog:\n",
    "        klasa = 1\n",
    "    else:\n",
    "        klasa = 0\n",
    "    return klasa"
   ]
  },
  {
   "cell_type": "markdown",
   "metadata": {
    "colab_type": "text",
    "id": "9d837ancF6TT"
   },
   "source": [
    "Funkcję tą możemy wykorzystać do obliczenia liczebności poszczególnych przypadków klasyfikacji w zależności od progu:"
   ]
  },
  {
   "cell_type": "code",
   "execution_count": 28,
   "metadata": {
    "colab": {},
    "colab_type": "code",
    "id": "j1xNfmQkF6TU"
   },
   "outputs": [],
   "source": [
    "def liczROC(XX,y,progi):\n",
    "    '''funkcja oblicza FPR i TPR dla zadanych progów,\n",
    "       progi dla których mają być wyliczone wyniki podajemy w postaci wektora\n",
    "       '''\n",
    "    TP = np.zeros(len(progi))\n",
    "    TN = np.zeros(len(progi))\n",
    "    FP = np.zeros(len(progi))\n",
    "    FN = np.zeros(len(progi))\n",
    "    f = FloatProgress(min=0, max=len(y))\n",
    "    display(f)\n",
    "    for v in range(len(y)):\n",
    "        f.value+=1\n",
    "        \n",
    "        testX = XX[v]\n",
    "        testY = y[v]\n",
    "        tenX = np.delete(XX,v,axis=0)\n",
    "        tenY = np.delete(y,v)\n",
    "        theta_opt_t = so.fmin_bfgs(minusFunkcjaLogWiarygodnosci, theta0, \n",
    "                                 fprime=minusPochodnaLogWiarygodnosci, \n",
    "                                 args=(tenX,tenY), disp= False)\n",
    "        for ind, prog in enumerate(progi):\n",
    "            wynik = klasyfikacjaProg(testX, theta_opt_t,prog)\n",
    "            if testY == 1 and wynik == 1:\n",
    "                TP[ind] += 1\n",
    "            if testY == 1 and wynik == 0:\n",
    "                FN[ind] +=1           \n",
    "            if testY == 0 and wynik == 1:\n",
    "                FP[ind] +=1\n",
    "            if testY == 0 and wynik == 0:\n",
    "                TN[ind] +=1\n",
    "            \n",
    "            \n",
    "    TPR = TP/(TP+FN)\n",
    "    FPR = FP/(FP+TN) \n",
    "    return (FPR,TPR)\n"
   ]
  },
  {
   "cell_type": "markdown",
   "metadata": {
    "colab_type": "text",
    "id": "z479ZNuxF6TW"
   },
   "source": [
    "Do wykreślenia krzywej ROC możesz użyć następującego kodu. Zaznaczamy w nim na wykresie wartości progów dla których osiągnięto konkretne wartości FPR i TPR."
   ]
  },
  {
   "cell_type": "code",
   "execution_count": 29,
   "metadata": {
    "colab": {},
    "colab_type": "code",
    "id": "zZ1Gp7iLF6TX"
   },
   "outputs": [
    {
     "data": {
      "application/vnd.jupyter.widget-view+json": {
       "model_id": "0096088b15cb41388010e3431f3814e3",
       "version_major": 2,
       "version_minor": 0
      },
      "text/plain": [
       "FloatProgress(value=0.0)"
      ]
     },
     "metadata": {},
     "output_type": "display_data"
    },
    {
     "data": {
      "image/png": "[encoded data removed]",
      "text/plain": [
       "<Figure size 432x288 with 1 Axes>"
      ]
     },
     "metadata": {
      "needs_background": "light"
     },
     "output_type": "display_data"
    }
   ],
   "source": [
    "progi = np.arange(0.0,1.1,0.1)\n",
    "FPR,TPR= liczROC(XX,y,progi)\n",
    "plt.figure()\n",
    "plt.plot(FPR,TPR,'o')\n",
    "plt.plot(FPR,TPR)\n",
    "for ind,pr in enumerate(progi):\n",
    "    plt.text(FPR[ind],TPR[ind],str(pr))\n",
    "plt.xlabel('FPR')\n",
    "plt.ylabel('TPR')\n",
    "plt.xlim((0,1))\n",
    "plt.ylim((0,1))\n",
    "plt.show()"
   ]
  },
  {
   "cell_type": "markdown",
   "metadata": {
    "colab_type": "text",
    "id": "1CW5SdnzF6TZ"
   },
   "source": [
    "Policzmy jeszcze pole pod krzywą ROC, tzw. AUC (area under curve), za pomocą metody trapezów: "
   ]
  },
  {
   "cell_type": "code",
   "execution_count": 30,
   "metadata": {
    "colab": {},
    "colab_type": "code",
    "id": "sBa2-WN_F6TZ"
   },
   "outputs": [
    {
     "name": "stdout",
     "output_type": "stream",
     "text": [
      "AUC:  0.8233333333333335\n"
     ]
    }
   ],
   "source": [
    "AUC = 0\n",
    "for ind in range(len(progi)-1):\n",
    "    a = TPR[ind]\n",
    "    b = TPR[ind+1]\n",
    "    h = 0.1\n",
    "    AUC += 0.5*(a+b)*h\n",
    "print('AUC: ',AUC)"
   ]
  },
  {
   "cell_type": "markdown",
   "metadata": {
    "colab_type": "text",
    "id": "otc0fTTzF6Tc"
   },
   "source": [
    "Spodziewamy się wyniku:\n",
    "```\n",
    "AUC:  0.9375\n",
    "```"
   ]
  }
 ],
 "metadata": {
  "colab": {
   "collapsed_sections": [],
   "name": "02_Regresja_logistyczna.ipynb",
   "provenance": [
    {
     "file_id": "1QyygSjtzI9iNile4e8Qlcur7Qn0r_VRN",
     "timestamp": 1546856483810
    }
   ]
  },
  "kernelspec": {
   "display_name": "Python 3",
   "language": "python",
   "name": "python3"
  },
  "language_info": {
   "codemirror_mode": {
    "name": "ipython",
    "version": 3
   },
   "file_extension": ".py",
   "mimetype": "text/x-python",
   "name": "python",
   "nbconvert_exporter": "python",
   "pygments_lexer": "ipython3",
   "version": "3.7.3"
  }
 },
 "nbformat": 4,
 "nbformat_minor": 1
}
