{
  "nbformat": 4,
  "nbformat_minor": 0,
  "metadata": {
    "colab": {
      "name": "Copy of 08_Uczenie_bez_nadzoru.ipynb",
      "provenance": [],
      "collapsed_sections": []
    },
    "kernelspec": {
      "display_name": "Python 3",
      "language": "python",
      "name": "python3"
    }
  },
  "cells": [
    {
      "cell_type": "markdown",
      "metadata": {
        "colab_type": "text",
        "id": "Zdu6eCwycpM7"
      },
      "source": [
        "# Algorytm k-means #\n",
        "\n",
        "Algorytm k-means jest zaimplementowany w module *scipy.cluster.vq* ([*vq: vector quantization*](https://docs.scipy.org/doc/scipy/reference/cluster.vq.html)). Mamy tam funkcję:\n",
        "\n",
        "*kmeans(obs, k_or_guess, iter=20, thresh=1e-05)*\n",
        "\n",
        "optymalizującą położenia centroidów, oraz pomocniczą funkcję *vq*, przypisującą poszczególne obserwacje do skupisk reprezentowanych przez centroidy.\n",
        "\n",
        "Przed puszczeniem algorytmu k-means na danych dobrze jest przeskalować każdą z cech w macierzy wejściowej, tak aby miała jednostkową wariancję. Można to zrobić za pomoca funkcji *whiten*.\n",
        "\n",
        "###Przykładowy kod.###\n",
        "Kod ten pokazuje jak:\n",
        "\n",
        "*   wygenerować symulowane dane,\n",
        "*   przeskalować je, tak aby miały jednostkową wariancję w każdej z cech,\n",
        "*   podzielić je na dwa skupiska,\n",
        "*   zilustrować wynik."
      ]
    },
    {
      "cell_type": "code",
      "metadata": {
        "colab_type": "code",
        "id": "vbzIoPw7c4an",
        "outputId": "9ac389e4-ffbe-44ea-f88f-99813fc10316",
        "colab": {
          "base_uri": "https://localhost:8080/",
          "height": 265
        }
      },
      "source": [
        "from pylab import plot,show\n",
        "from numpy import vstack,array\n",
        "from numpy.random import rand\n",
        "from scipy.cluster.vq import kmeans,vq,whiten\n",
        " \n",
        "# generujemy dane: \n",
        "# - 150 dwuwymiarowych punktów z rozkładu jednorodnego ze średnią (1,1)\n",
        "# - 150 dwuwymiarowych punktów z rozkładu jednorodnego ze średnią  (0.5,0.5)\n",
        " \n",
        "data = vstack((rand(150,2) + array([.5,.5]),rand(150,2)))\n",
        "data =  whiten(data)\n",
        "# policz K-Means dla  K = 2 (2 skupiska)\n",
        "centroids,_ = kmeans(data,2)\n",
        "# przypisz wektory wejściowe do skupisk\n",
        "idx,_ = vq(data,centroids)\n",
        " \n",
        "# narysuj wyniki\n",
        "plot(data[idx==0,0],data[idx==0,1],'ob',\n",
        "     data[idx==1,0],data[idx==1,1],'or')\n",
        "plot(centroids[:,0],centroids[:,1],'sg',markersize=8)\n",
        "show()"
      ],
      "execution_count": 0,
      "outputs": [
        {
          "output_type": "display_data",
          "data": {
            "image/png": "[encoded data removed]",
            "text/plain": [
              "<Figure size 432x288 with 1 Axes>"
            ]
          },
          "metadata": {
            "tags": []
          }
        }
      ]
    },
    {
      "cell_type": "markdown",
      "metadata": {
        "colab_type": "text",
        "id": "bWC1XGKNdix4"
      },
      "source": [
        "#Segmentacja obrazu algorytmem k-means#\n",
        "\n",
        "W tym ćwiczeniu zapoznamy się z zastosowaniem algorytmu analizy skupień do segmetacji obrazu. Segmentacja tegotypu może stanowic etap wstępnego przetwarzania na potrzeby np. detekcji obiektów lub klasyfikacji. W zadaniu tym zapoznamy sie także z metodą dobierania atumatycznie ilości skupisk.\n",
        "\n",
        "\n",
        "Obrazek na którym będziemy pracować znajduje się pod [tym](https://brain.fuw.edu.pl/edu/images/b/b8/Skan.png) adresem, proszę go zapisać w bieżącym katalogu, podłączyć dysk Google'a, zimportować i obejrzeć:"
      ]
    },
    {
      "cell_type": "code",
      "metadata": {
        "colab_type": "code",
        "id": "jUPM2Q7Zdd2u",
        "outputId": "9028b5d7-1e4e-445a-a9db-ef94ec9b5617",
        "colab": {
          "base_uri": "https://localhost:8080/",
          "height": 35
        }
      },
      "source": [
        "from google.colab import drive\n",
        "drive.mount('/content/drive/')"
      ],
      "execution_count": 0,
      "outputs": [
        {
          "output_type": "stream",
          "text": [
            "Drive already mounted at /content/drive/; to attempt to forcibly remount, call drive.mount(\"/content/drive/\", force_remount=True).\n"
          ],
          "name": "stdout"
        }
      ]
    },
    {
      "cell_type": "code",
      "metadata": {
        "colab_type": "code",
        "id": "33zlikdAeLDs",
        "colab": {}
      },
      "source": [
        "folder = '/content/drive/My Drive/Colab Notebooks/' # podaj lokalizację obrazu"
      ],
      "execution_count": 0,
      "outputs": []
    },
    {
      "cell_type": "code",
      "metadata": {
        "colab_type": "code",
        "id": "othT-oHbeWtE",
        "outputId": "62d372ad-92c0-4d7c-e769-7e9d6cd070ce",
        "colab": {
          "base_uri": "https://localhost:8080/",
          "height": 248
        }
      },
      "source": [
        "from pylab import plot,show,figure,imshow,cm, imread, axis\n",
        "import matplotlib.pyplot as plt\n",
        "import numpy as np\n",
        "from scipy.cluster.vq import kmeans,vq\n",
        " \n",
        "image = imread(folder + 'Skan.png')\n",
        "# Oryginalny obrazek miał przestrzeń barwną RGB.\n",
        "# Spłaszczamy przestrzeń barwną obrazka\n",
        "image = image.mean(axis=2)\n",
        "#oglądamy obrazek\n",
        "imshow(image, cmap=cm.gray)\n",
        "axis('off')\n",
        "show()"
      ],
      "execution_count": 0,
      "outputs": [
        {
          "output_type": "display_data",
          "data": {
            "image/png": "[encoded data removed]",
            "text/plain": [
              "<Figure size 432x288 with 1 Axes>"
            ]
          },
          "metadata": {
            "tags": []
          }
        }
      ]
    },
    {
      "cell_type": "markdown",
      "metadata": {
        "colab_type": "text",
        "id": "GzBdcj8Wej95"
      },
      "source": [
        "Teraz zamieniamy rysunek (dwuwymiarowa tablica 256x256) na wektor (o długości 256*256):"
      ]
    },
    {
      "cell_type": "code",
      "metadata": {
        "colab_type": "code",
        "id": "2jFSfqhleama",
        "colab": {}
      },
      "source": [
        "data = image[:]\n",
        "data.shape = 256*256,1"
      ],
      "execution_count": 0,
      "outputs": []
    },
    {
      "cell_type": "markdown",
      "metadata": {
        "colab_type": "text",
        "id": "tNUF69V_exM8"
      },
      "source": [
        "Teraz będziemy próbować podzielić ten wektor na skupiska (w liczbie od 2 do 9). Dla każdej konkretnej liczby skupisk obliczamy dwie wielkości:\n",
        "\n",
        "$J_{intra} (K)$ - to jest miara odległości wewwnątrz centrów: równanie na $J$ znajduje się [tutaj](https://brain.fuw.edu.pl/edu/index.php/Uczenie_maszynowe_i_sztuczne_sieci_neuronowe/Wyk%C5%82ad_10#Algorytm_k-.C5.9Brednich:).\n",
        "\n",
        "$J_{inter} (K) = min_{j<i} \\sqrt{(\\mu_i - \\mu_j)^T (\\mu_i - \\mu_j)} $ - to najmniejsza odległość między centrami."
      ]
    },
    {
      "cell_type": "code",
      "metadata": {
        "colab_type": "code",
        "id": "DcNh6n7veurQ",
        "outputId": "ace10dff-e93e-4473-cfca-f4e76e6a2521",
        "colab": {
          "base_uri": "https://localhost:8080/",
          "height": 1000
        }
      },
      "source": [
        "import math  \n",
        "K_max = 9\n",
        "J_inter = np.ones(K_max)*1e16\n",
        "J_intra = np.zeros(K_max)\n",
        "centroids =[]\n",
        "for K in range(2,K_max):\n",
        "    trial =0\n",
        "    while (len(centroids)<K) & (trial<20):\n",
        "        centroids, J_intra[K] = kmeans(data,K)\n",
        "        trial+=1\n",
        "    print('K: ', K, len(centroids))\n",
        "    for ki in range(len(centroids)):\n",
        "        for kj in range(ki):\n",
        "            print(ki, kj)\n",
        "            print(centroids[ki])\n",
        "            print(centroids[kj])\n",
        "            ################\n",
        "            ## dopisz kod obliczający odległość między centrami i oznacz ją d\n",
        "            diff=centroids[ki]-centroids[kj]\n",
        "            d=math.sqrt(np.dot(diff.T, diff))\n",
        "            ################\n",
        "            # jeśli uzyskana odległość jest mniejsza niż dotychczas zapamiętana to ją zapamiętujemy:\n",
        "            if J_inter[K] > d:\n",
        "              J_inter[K] = d\n",
        "    print(K, J_intra[K],J_inter[K])"
      ],
      "execution_count": 0,
      "outputs": [
        {
          "output_type": "stream",
          "text": [
            "K:  2 2\n",
            "1 0\n",
            "[0.27430993]\n",
            "[0.66312397]\n",
            "2 0.05665720999240875 0.38881402794728276\n",
            "K:  3 3\n",
            "1 0\n",
            "[0.74030113]\n",
            "[0.25592014]\n",
            "2 0\n",
            "[0.45756742]\n",
            "[0.25592014]\n",
            "2 1\n",
            "[0.45756742]\n",
            "[0.74030113]\n",
            "3 0.030115125700831413 0.20164728008108207\n",
            "K:  4 4\n",
            "1 0\n",
            "[0.25168326]\n",
            "[0.5419282]\n",
            "2 0\n",
            "[0.7629846]\n",
            "[0.5419282]\n",
            "2 1\n",
            "[0.7629846]\n",
            "[0.25168326]\n",
            "3 0\n",
            "[0.38582045]\n",
            "[0.5419282]\n",
            "3 1\n",
            "[0.38582045]\n",
            "[0.25168326]\n",
            "3 2\n",
            "[0.38582045]\n",
            "[0.7629846]\n",
            "4 0.02183370664715767 0.13413718104176595\n",
            "K:  5 5\n",
            "1 0\n",
            "[0.67973655]\n",
            "[0.5053329]\n",
            "2 0\n",
            "[0.25146285]\n",
            "[0.5053329]\n",
            "2 1\n",
            "[0.25146285]\n",
            "[0.67973655]\n",
            "3 0\n",
            "[0.37533936]\n",
            "[0.5053329]\n",
            "3 1\n",
            "[0.37533936]\n",
            "[0.67973655]\n",
            "3 2\n",
            "[0.37533936]\n",
            "[0.25146285]\n",
            "4 0\n",
            "[0.8275601]\n",
            "[0.5053329]\n",
            "4 1\n",
            "[0.8275601]\n",
            "[0.67973655]\n",
            "4 2\n",
            "[0.8275601]\n",
            "[0.25146285]\n",
            "4 3\n",
            "[0.8275601]\n",
            "[0.37533936]\n",
            "5 0.016428597271442413 0.12387651090802392\n",
            "K:  6 6\n",
            "1 0\n",
            "[0.2507667]\n",
            "[0.8466902]\n",
            "2 0\n",
            "[0.44570774]\n",
            "[0.8466902]\n",
            "2 1\n",
            "[0.44570774]\n",
            "[0.2507667]\n",
            "3 0\n",
            "[0.3496831]\n",
            "[0.8466902]\n",
            "3 1\n",
            "[0.3496831]\n",
            "[0.2507667]\n",
            "3 2\n",
            "[0.3496831]\n",
            "[0.44570774]\n",
            "4 0\n",
            "[0.56340796]\n",
            "[0.8466902]\n",
            "4 1\n",
            "[0.56340796]\n",
            "[0.2507667]\n",
            "4 2\n",
            "[0.56340796]\n",
            "[0.44570774]\n",
            "4 3\n",
            "[0.56340796]\n",
            "[0.3496831]\n",
            "5 0\n",
            "[0.7086436]\n",
            "[0.8466902]\n",
            "5 1\n",
            "[0.7086436]\n",
            "[0.2507667]\n",
            "5 2\n",
            "[0.7086436]\n",
            "[0.44570774]\n",
            "5 3\n",
            "[0.7086436]\n",
            "[0.3496831]\n",
            "5 4\n",
            "[0.7086436]\n",
            "[0.56340796]\n",
            "6 0.013157377019524574 0.09602463008005654\n",
            "K:  7 7\n",
            "1 0\n",
            "[0.67843205]\n",
            "[0.86592317]\n",
            "2 0\n",
            "[0.4542506]\n",
            "[0.86592317]\n",
            "2 1\n",
            "[0.4542506]\n",
            "[0.67843205]\n",
            "3 0\n",
            "[0.35759422]\n",
            "[0.86592317]\n",
            "3 1\n",
            "[0.35759422]\n",
            "[0.67843205]\n",
            "3 2\n",
            "[0.35759422]\n",
            "[0.4542506]\n",
            "4 0\n",
            "[0.5585577]\n",
            "[0.86592317]\n",
            "4 1\n",
            "[0.5585577]\n",
            "[0.67843205]\n",
            "4 2\n",
            "[0.5585577]\n",
            "[0.4542506]\n",
            "4 3\n",
            "[0.5585577]\n",
            "[0.35759422]\n",
            "5 0\n",
            "[0.76479715]\n",
            "[0.86592317]\n",
            "5 1\n",
            "[0.76479715]\n",
            "[0.67843205]\n",
            "5 2\n",
            "[0.76479715]\n",
            "[0.4542506]\n",
            "5 3\n",
            "[0.76479715]\n",
            "[0.35759422]\n",
            "5 4\n",
            "[0.76479715]\n",
            "[0.5585577]\n",
            "6 0\n",
            "[0.2509025]\n",
            "[0.86592317]\n",
            "6 1\n",
            "[0.2509025]\n",
            "[0.67843205]\n",
            "6 2\n",
            "[0.2509025]\n",
            "[0.4542506]\n",
            "6 3\n",
            "[0.2509025]\n",
            "[0.35759422]\n",
            "6 4\n",
            "[0.2509025]\n",
            "[0.5585577]\n",
            "6 5\n",
            "[0.2509025]\n",
            "[0.76479715]\n",
            "7 0.011582723818719387 0.08636510464758969\n",
            "K:  8 8\n",
            "1 0\n",
            "[0.5631668]\n",
            "[0.2510964]\n",
            "2 0\n",
            "[0.8816284]\n",
            "[0.2510964]\n",
            "2 1\n",
            "[0.8816284]\n",
            "[0.5631668]\n",
            "3 0\n",
            "[0.8147671]\n",
            "[0.2510964]\n",
            "3 1\n",
            "[0.8147671]\n",
            "[0.5631668]\n",
            "3 2\n",
            "[0.8147671]\n",
            "[0.8816284]\n",
            "4 0\n",
            "[0.3625201]\n",
            "[0.2510964]\n",
            "4 1\n",
            "[0.3625201]\n",
            "[0.5631668]\n",
            "4 2\n",
            "[0.3625201]\n",
            "[0.8816284]\n",
            "4 3\n",
            "[0.3625201]\n",
            "[0.8147671]\n",
            "5 0\n",
            "[0.7393922]\n",
            "[0.2510964]\n",
            "5 1\n",
            "[0.7393922]\n",
            "[0.5631668]\n",
            "5 2\n",
            "[0.7393922]\n",
            "[0.8816284]\n",
            "5 3\n",
            "[0.7393922]\n",
            "[0.8147671]\n",
            "5 4\n",
            "[0.7393922]\n",
            "[0.3625201]\n",
            "6 0\n",
            "[0.666878]\n",
            "[0.2510964]\n",
            "6 1\n",
            "[0.666878]\n",
            "[0.5631668]\n",
            "6 2\n",
            "[0.666878]\n",
            "[0.8816284]\n",
            "6 3\n",
            "[0.666878]\n",
            "[0.8147671]\n",
            "6 4\n",
            "[0.666878]\n",
            "[0.3625201]\n",
            "6 5\n",
            "[0.666878]\n",
            "[0.7393922]\n",
            "7 0\n",
            "[0.46290165]\n",
            "[0.2510964]\n",
            "7 1\n",
            "[0.46290165]\n",
            "[0.5631668]\n",
            "7 2\n",
            "[0.46290165]\n",
            "[0.8816284]\n",
            "7 3\n",
            "[0.46290165]\n",
            "[0.8147671]\n",
            "7 4\n",
            "[0.46290165]\n",
            "[0.3625201]\n",
            "7 5\n",
            "[0.46290165]\n",
            "[0.7393922]\n",
            "7 6\n",
            "[0.46290165]\n",
            "[0.666878]\n",
            "8 0.01075829192996025 0.06686127316226917\n"
          ],
          "name": "stdout"
        }
      ]
    },
    {
      "cell_type": "markdown",
      "metadata": {
        "colab_type": "text",
        "id": "TWRVl9gDgTAK"
      },
      "source": [
        "Wykreślamy stosunek $J_{intra}/J_{inter}$ i znajdujemy $K$, dla którego jest najmniejszy:"
      ]
    },
    {
      "cell_type": "code",
      "metadata": {
        "colab_type": "code",
        "id": "OlrrmnUafHsu",
        "outputId": "d00009b2-b42f-4021-813f-8e475f9b6036",
        "colab": {
          "base_uri": "https://localhost:8080/",
          "height": 283
        }
      },
      "source": [
        "figure(1)\n",
        "plot(range(2,K_max),J_intra[2:]/J_inter[2:])\n",
        "K_opt = np.argmin(J_intra[2:]/J_inter[2:])+2\n",
        " \n",
        "print(K_opt)"
      ],
      "execution_count": 0,
      "outputs": [
        {
          "output_type": "stream",
          "text": [
            "5\n"
          ],
          "name": "stdout"
        },
        {
          "output_type": "display_data",
          "data": {
            "image/png": "[encoded data removed]",
            "text/plain": [
              "<Figure size 432x288 with 1 Axes>"
            ]
          },
          "metadata": {
            "tags": []
          }
        }
      ]
    },
    {
      "cell_type": "markdown",
      "metadata": {
        "colab_type": "text",
        "id": "_ijpVFvBgefI"
      },
      "source": [
        "Dla tej optymalnej ilości skupisk znajdujemy położenia centrów i przypisujemy klasę dla każdego punktu danych:"
      ]
    },
    {
      "cell_type": "code",
      "metadata": {
        "colab_type": "code",
        "id": "qm8wsPg3gXyl",
        "colab": {}
      },
      "source": [
        "centroids,J_intra[K] = kmeans(data, K_opt)\n",
        " \n",
        "# przypisujemy klasę\n",
        "idx,_ = vq(data,centroids)"
      ],
      "execution_count": 0,
      "outputs": []
    },
    {
      "cell_type": "markdown",
      "metadata": {
        "colab_type": "text",
        "id": "JRDHLYH-gh_y"
      },
      "source": [
        "Formatujemy wektor w obrazek i podziwiamy efekt:"
      ]
    },
    {
      "cell_type": "code",
      "metadata": {
        "colab_type": "code",
        "id": "wLwa3jSigjLW",
        "outputId": "41d4eaca-4d93-4766-e170-9ad8360b54ab",
        "colab": {
          "base_uri": "https://localhost:8080/",
          "height": 269
        }
      },
      "source": [
        "idx.shape = 256,256\n",
        "\n",
        "plt.figure(2)\n",
        "plt.imshow(idx, cmap=cm.gray)\n",
        "plt.show()"
      ],
      "execution_count": 0,
      "outputs": [
        {
          "output_type": "display_data",
          "data": {
            "image/png": "[encoded data removed]",
            "text/plain": [
              "<Figure size 432x288 with 1 Axes>"
            ]
          },
          "metadata": {
            "tags": []
          }
        }
      ]
    },
    {
      "cell_type": "markdown",
      "metadata": {
        "colab_type": "text",
        "id": "TtE7o56zgohN"
      },
      "source": [
        "Dla porównania proszę wykreślić histogram odcieni szarości dla wektora *data* i wektora *idx*."
      ]
    },
    {
      "cell_type": "code",
      "metadata": {
        "id": "vylxJXA0ElM8",
        "colab_type": "code",
        "outputId": "5042e04e-8fcd-4f7c-8211-a8ed2cd47dd5",
        "colab": {
          "base_uri": "https://localhost:8080/",
          "height": 545
        }
      },
      "source": [
        "plt.hist(data, bins = 255)\n",
        "plt.title(\"histogram\") \n",
        "plt.show()\n",
        "\n",
        "idx.shape=256*256,1\n",
        "plt.hist(idx, bins = 255)\n",
        "plt.title(\"histogram\") \n",
        "plt.show()"
      ],
      "execution_count": 0,
      "outputs": [
        {
          "output_type": "display_data",
          "data": {
            "image/png": "[encoded data removed]",
            "text/plain": [
              "<Figure size 432x288 with 1 Axes>"
            ]
          },
          "metadata": {
            "tags": []
          }
        },
        {
          "output_type": "display_data",
          "data": {
            "image/png": "[encoded data removed]",
            "text/plain": [
              "<Figure size 432x288 with 1 Axes>"
            ]
          },
          "metadata": {
            "tags": []
          }
        }
      ]
    },
    {
      "cell_type": "markdown",
      "metadata": {
        "colab_type": "text",
        "id": "WbZ-2Ajygvjz"
      },
      "source": [
        "# Algorytm EM (Expectation Maximization)#\n",
        "\n",
        "Program, który powstanie po uzupełnieniu kodu powinien ilustrować dopasowywanie modelu EM do danych będzących sumą dwóch rozkładów gaussowskich.\n",
        "\n",
        "Najpierw standardowe importy i kilka funkcji pomocniczych:"
      ]
    },
    {
      "cell_type": "code",
      "metadata": {
        "colab_type": "code",
        "id": "6PAGNYwogn5V",
        "colab": {}
      },
      "source": [
        "import matplotlib\n",
        "import pylab as py\n",
        "import random, copy\n",
        "import numpy as np\n",
        "import sys\n",
        " \n",
        " \n",
        "def pnorm(x, m, s):\n",
        "    \"\"\"\n",
        "    Oblicza gęstość wielowymiarowego rozkładu normalnego dla punktów\n",
        "    w wektorze x\n",
        "    Parametry rozkładu:\n",
        "    m - średnia\n",
        "    s- macierz kowariancji\n",
        "    dla zwiększenia czytelności kodu stosujemy typ matrix\n",
        "    \"\"\"\n",
        "    xm = np.matrix(x-m)\n",
        "    xmt = np.matrix(x-m).transpose()\n",
        "    for i in range(len(s)):\n",
        "        if s[i,i] <= sys.float_info[3]: # min float\n",
        "            s[i,i] = sys.float_info[3]\n",
        "    sinv = np.linalg.inv(s)\n",
        " \n",
        "    return (2.0*np.pi)**(-len(x)/2.0)*(1.0/np.sqrt(np.linalg.det(s)))\\\n",
        "            *np.exp(-0.5*(xm*sinv*xmt))\n",
        " \n",
        "def draw_params(t,nbclusters):\n",
        "        '''funkcja do losowania parametrów początkowych\n",
        "        t - zbiór treningowy\n",
        "        '''\n",
        "        nbobs,nbfeatures = t.shape\n",
        "        # inicjuje średnie przez losowanie punktu ze zbioru danych\n",
        "        tmpmu = np.array([t[random.randint(0,nbobs),:]],np.float64)\n",
        "        # kowariancje inicjowane są jako macierze diagonalne , wariancja dla każdej cechy inicjowana jest jako wariancja tej cechy dla całego zbioru \n",
        "        sigma = np.zeros((nbfeatures,nbfeatures))\n",
        "        for f in range(nbfeatures):\n",
        "            sigma[f,f] = np.var(t[:,f])\n",
        "        #phi inicjujemy tak, że każda składowa mieszanki ma takie samee prawdopodobieństwo\n",
        "        phi = 1.0/nbclusters\n",
        "        print ('INIT:', tmpmu, sigma, phi)\n",
        "        return {'mu': tmpmu,\\\n",
        "                'sigma': sigma,\\\n",
        "                'phi': phi}\n",
        " \n",
        "def plot_gauss(mu,sigma):\n",
        "    ''' Funkcja rysująca kontury funkcji gęstości prawdopodobieństwa \n",
        "       dwuwymiarowego rozkładu Gaussa'''\n",
        " \n",
        "    x = np.arange(-6.0, 6.0001, 0.1)\n",
        "    y = np.arange(-6.0, 6.0001, 0.1)\n",
        "    X,Y = np.meshgrid(x, y)\n",
        "    X.shape = 1,len(x)*len(y)\n",
        "    Y.shape = 1,len(x)*len(y)\n",
        "    P = np.vstack((X,Y))\n",
        "    invS = np.linalg.inv(sigma)\n",
        "    R = P.T-mu\n",
        "    z = np.zeros(len(R))\n",
        "    for i in range(len(R)):\n",
        "        z[i] = np.exp(-0.5*np.dot( R[i,:].T,np.dot(invS,R[i,:])))\n",
        " \n",
        "    z.shape = len(x),len(y)\n",
        "    py.contourf(x,y,z,alpha = 0.5)\n",
        "    py.plot(mu[0],mu[1],'o')"
      ],
      "execution_count": 0,
      "outputs": []
    },
    {
      "cell_type": "markdown",
      "metadata": {
        "colab_type": "text",
        "id": "LJjStgY9hogw"
      },
      "source": [
        "## Szkielet algorytmu ##\n",
        "Poniższy kod to szkielet właściwej funkcji wykonującej optymalizację. Trzeba go uzupełnić implementując równania z wykładu. Proszę uważnie czytać komentarze."
      ]
    },
    {
      "cell_type": "code",
      "metadata": {
        "colab_type": "code",
        "id": "kfqsAxKHg-PW",
        "colab": {}
      },
      "source": [
        "def expectation_maximization(t, nbclusters=2, nbiter=3, normalize=False,\\\n",
        "        epsilon=0.001, monotony=False, datasetinit=True):\n",
        "    \"\"\"\n",
        "    t - zbiór treningowy, \n",
        "    Każdy wiersz t jest przykładem (obserwacją), każda kolumna to cecha \n",
        "    'nbclusters' ilość klastrów, z których budujemy model mieszany\n",
        "    'nbiter' ilość iteracji\n",
        "    'epsilon' kryterium zbieżności\n",
        " \n",
        "     Powtórz kroki E i M aż do spełnienia warunku |E_t - E_{t-1}| < ε\n",
        " \n",
        "    Funkcja zwraca parametry modelu (centra i macerze kowariancji Gaussów i ich wagi \\phi) oraz \n",
        "    etykiety punktów zbioru treningowego oznaczające do którego z Gaussów w modelowanej mieszance należą.\n",
        "    \"\"\"\n",
        " \n",
        "    nbobs,nbfeatures = t.shape\n",
        " \n",
        "    ### Opcjonalna normalizacja\n",
        "    if normalize:\n",
        "        for f in range(nbfeatures):\n",
        "            t[:,f] /= np.std(t[:,f])\n",
        " \n",
        " \n",
        "    result = {}\n",
        "    random.seed()\n",
        " \n",
        "    # szykujemy tablice na prawdopodobieństwa warunkowe\n",
        "    Pz = np.zeros((nbobs,nbclusters)) # P(z|x): opisywane równaniami (2) i (3) z wykładu \n",
        "    Px = np.zeros((nbobs,nbclusters)) # P(x|z): opisywane równaniem (4)  \n",
        " \n",
        "    # inicjujemy parametry dla każdego składnika mieszanki\n",
        "    # params będzie listą taką, że params[i] to słownik\n",
        "    # zawierający parametry i-tego składnika mieszanki\n",
        "    params = []\n",
        "    for i in range(nbclusters):\n",
        "        params.append( draw_params(t,nbclusters) )\n",
        " \n",
        "    old_log_estimate = sys.maxsize                 # init\n",
        "    log_estimate = sys.maxsize/2 + epsilon      # init\n",
        "    estimation_round = 0    \n",
        " \n",
        "    # powtarzaj aż zbiegniesz \n",
        "    while (abs(log_estimate - old_log_estimate) > epsilon\\\n",
        "                and (not monotony or log_estimate < old_log_estimate)):\n",
        "        restart = False\n",
        "        old_log_estimate = log_estimate   \n",
        "        ########################################################\n",
        "        # krok E: oblicz Pz dla każdego przykładu (czyli w oznaczeniach z wykładu w_i^j)\n",
        "        ########################################################\n",
        "        # obliczamy prawdopodobieństwa  Px[j,i] = P(x_j|z_j=i)  \n",
        "        for j in range(nbobs): # iterujemy po przykładach\n",
        "            for i in range(nbclusters): # iterujemy po składnikach\n",
        "                Px[j,i] = pnorm(t[j,:], params[i]['mu'], params[i]['sigma']) #  (równanie 4)\n",
        " \n",
        "        #  obliczamy prawdopodobieństwa Pz[j,i] = P(z_j=i|x_j)   \n",
        "        #  najpierw licznik równania (3)   \n",
        "        for j in range(nbobs): \n",
        "            for i in range(nbclusters):\n",
        "                Pz[j,i] = Px[j,i]*params[i]['phi']\n",
        "        #  mianownik równania (3)\n",
        "        for j in range(nbobs): \n",
        "            tmpSum = 0.0\n",
        "            for i in range(nbclusters):\n",
        "                tmpSum += Px[j,i]\n",
        "        # składamy w całość Pz[j,i] = P(z_j=i|x_j)\n",
        "            Pz[j,:] /= tmpSum\n",
        " \n",
        "        ###########################################################\n",
        "        # krok M: uaktualnij paramertry (sets {mu, sigma, phi}) #\n",
        "        ###########################################################\n",
        "        #print \"iter:\", iteration, \" estimation#:\", estimation_round,\\\n",
        "        #            \" params:\", params\n",
        "        for i in range(nbclusters):\n",
        "            print(\"------------------\")\n",
        "            # parametr phi: równanie (6)\n",
        "            Sum_w = np.sum(Pz[:,i])\n",
        "            params[i]['phi'] = Sum_w/nbobs\n",
        "            if params[i]['phi'] <= 1.0/nbobs:           # restartujemy jeśli zanika nam któraś składowa mieszanki\n",
        "                restart = True                          \n",
        "                print(\"Restarting, p:\",params[i]['phi'])\n",
        "                break\n",
        "            print('i: ',i,' phi: ', params[i]['phi'])\n",
        "            # średnia: równanie (7)\n",
        "            m = np.zeros(nbfeatures)\n",
        "            for j in range(nbobs):\n",
        "                m += Pz[j,i]*t[j,:]\n",
        "            params[i]['mu'] = m/Sum_w\n",
        "            print('i: ',i,' mu: ', params[i]['mu'])\n",
        " \n",
        "            # macierz kowariancji: równanie (8)\n",
        "            s = np.matrix(np.zeros((nbfeatures,nbfeatures)))\n",
        "            for j in range(nbobs):\n",
        "                roznica = np.matrix(t[j,:]-params[i]['mu'])\n",
        "                s += Pz[j,i]*(roznica.T*roznica)\n",
        "            params[i]['sigma'] = s/Sum_w\n",
        " \n",
        "            print(params[i]['sigma'])\n",
        " \n",
        "            ### Testujemy czy składniki się nie sklejają i w razie potrzeby restartujemy\n",
        "            if not restart:\n",
        "                restart = True\n",
        "                for i in range(1,nbclusters):\n",
        "                    if not np.allclose(params[i]['mu'], params[i-1]['mu'])\\\n",
        "                    or not np.allclose(params[i]['sigma'], params[i-1]['sigma']):\n",
        "                        restart = False\n",
        "                        break\n",
        "            if restart:                \n",
        "                old_log_estimate = sys.maxint                 # init\n",
        "                log_estimate = sys.maxint/2 + epsilon    # init\n",
        "                params = [draw_params(t,nbclusters) for i in range(nbclusters)] # losujemy nowe parametry startowe\n",
        "                print('RESTART')\n",
        "                continue\n",
        " \n",
        " \n",
        "            ####################################\n",
        "            # liczymy estymatę log wiarygodności: równaie (1)  #\n",
        "            ####################################\n",
        "            log_estimate = np.sum([np.log(np.sum(\\\n",
        "                    [Px[j,i]*params[i]['phi'] for i in range(nbclusters)]))\\\n",
        "                    for j in range(nbobs)])\n",
        "            print(\"(EM) poprzednia i aktualna estymata log wiarygodności: \",\\\n",
        "                    old_log_estimate, log_estimate)\n",
        "            estimation_round += 1\n",
        "        ##########################\n",
        "        #  rysujemy aktualny stan modelu\n",
        "        ##########################\n",
        "        py.ioff()\n",
        "        py.clf()\n",
        "        py.ion()\n",
        "        for i in range(nbclusters):\n",
        "            plot_gauss(np.array(params[i]['mu']),np.array(params[i]['sigma']))\n",
        "        py.plot(x[:,0],x[:,1],'g.')\n",
        "        py.axis('equal')\n",
        "        py.draw()\n",
        " \n",
        " \n",
        "        # Pakujemy wyniki\n",
        "        result['quality'] = -log_estimate\n",
        "        result['params'] = copy.deepcopy(params)\n",
        "        result['clusters'] = [[o for o in range(nbobs)\\\n",
        "                if Px[o,c] == max(Px[o,:])]\\\n",
        "                for c in range(nbclusters)]\n",
        "    return result"
      ],
      "execution_count": 0,
      "outputs": []
    },
    {
      "cell_type": "markdown",
      "metadata": {
        "colab_type": "text",
        "id": "GNj17_QjiKOW"
      },
      "source": [
        "## Finalny program ##\n",
        "Przykładowy program korzystający z powyższych funkcji:"
      ]
    },
    {
      "cell_type": "code",
      "metadata": {
        "colab_type": "code",
        "id": "BxEgccceiOcU",
        "outputId": "b2caf8cc-60c1-4e00-f1c8-5bdfd95ae6f9",
        "colab": {
          "base_uri": "https://localhost:8080/",
          "height": 1000
        }
      },
      "source": [
        "# robimy mieszankę dwóch gaussów:\n",
        "#parametry rozkładu\n",
        "# wektor średnich:\n",
        "mu1 = [-2,-3] \n",
        "# macierz kowariancji:\n",
        "Sigma1 = np.array([[1, 0.5],\n",
        "                  [0.5, 1]])\n",
        "# generujemy dane: \n",
        "x1 = np.random.multivariate_normal(mu1, Sigma1, 150) #\n",
        "mu2 = [-0.5,2] \n",
        "# macierz kowariancji:\n",
        "Sigma2 = np.array([[3, 0.5],\n",
        "                  [0.5, 1]])\n",
        "# generujemy dane: \n",
        "x2 = np.random.multivariate_normal(mu2, Sigma2, 150) #\n",
        "# łączymy x1 i x2 aby otrzymac jeden zbiór\n",
        "x = np.vstack((x1,x2))\n",
        "py.plot(x[:,0],x[:,1],'g.')\n",
        "py.axis('equal')\n",
        "py.show()\n",
        "py.figure()\n",
        "res = expectation_maximization(x, nbclusters=2, nbiter=3, normalize=False,\\\n",
        "        epsilon=0.001, monotony=False, datasetinit=True)\n",
        "py.ioff()\n",
        "py.show()\n",
        "# wypisz parametry\n",
        "print('Dopasowany model: ')\n",
        "print(res['params'])"
      ],
      "execution_count": 0,
      "outputs": [
        {
          "output_type": "display_data",
          "data": {
            "image/png": "[encoded data removed]",
            "text/plain": [
              "<Figure size 432x288 with 1 Axes>"
            ]
          },
          "metadata": {
            "tags": []
          }
        },
        {
          "output_type": "stream",
          "text": [
            "INIT: [[-1.64907814 -2.35013622]] [[2.57655256 0.        ]\n",
            " [0.         6.74801982]] 0.5\n",
            "INIT: [[1.17903893 2.29575063]] [[2.57655256 0.        ]\n",
            " [0.         6.74801982]] 0.5\n",
            "------------------\n",
            "i:  0  phi:  0.3351948516044562\n",
            "i:  0  mu:  [-2.11559165 -1.76956975]\n",
            "[[1.27218227 0.64019   ]\n",
            " [0.64019    4.74142904]]\n",
            "(EM) poprzednia i aktualna estymata log wiarygodności:  4.611686018427388e+18 -1393.279429274129\n",
            "------------------\n",
            "i:  1  phi:  0.16480514839554375\n",
            "i:  1  mu:  [0.06145419 1.90502499]\n",
            "[[2.0521616  0.60496574]\n",
            " [0.60496574 1.77716116]]\n",
            "(EM) poprzednia i aktualna estymata log wiarygodności:  4.611686018427388e+18 -1498.649612709431\n",
            "------------------\n",
            "i:  0  phi:  0.20366016028881528\n",
            "i:  0  mu:  [-2.16280182 -2.20455769]\n",
            "[[1.20053643 0.40548836]\n",
            " [0.40548836 3.57961469]]\n",
            "(EM) poprzednia i aktualna estymata log wiarygodności:  -1498.649612709431 -1482.0630385190702\n",
            "------------------\n",
            "i:  1  phi:  0.0646716207533423\n",
            "i:  1  mu:  [-0.21386632  1.99044548]\n",
            "[[2.39926138 0.51115485]\n",
            " [0.51115485 0.96142787]]\n",
            "(EM) poprzednia i aktualna estymata log wiarygodności:  -1498.649612709431 -1578.8426947285288\n",
            "------------------\n",
            "i:  0  phi:  0.11475661364083954\n",
            "i:  0  mu:  [-2.15138199 -2.5575477 ]\n",
            "[[1.19568445 0.40612966]\n",
            " [0.40612966 2.26304118]]\n",
            "(EM) poprzednia i aktualna estymata log wiarygodności:  -1578.8426947285288 -1664.4557407851087\n",
            "------------------\n",
            "i:  1  phi:  0.028231031755505887\n",
            "i:  1  mu:  [-0.42556944  2.0221312 ]\n",
            "[[2.68071718 0.51164342]\n",
            " [0.51164342 0.71928817]]\n",
            "(EM) poprzednia i aktualna estymata log wiarygodności:  -1578.8426947285288 -1761.391184060668\n",
            "------------------\n",
            "i:  0  phi:  0.061345313242321925\n",
            "i:  0  mu:  [-2.13936831 -2.77589975]\n",
            "[[1.18130224 0.45512901]\n",
            " [0.45512901 1.42832825]]\n",
            "(EM) poprzednia i aktualna estymata log wiarygodności:  -1761.391184060668 -1858.0675576535107\n",
            "------------------\n",
            "i:  1  phi:  0.013139601020056589\n",
            "i:  1  mu:  [-0.54653677  1.98853072]\n",
            "[[2.82279991 0.56894132]\n",
            " [0.56894132 0.7233229 ]]\n",
            "(EM) poprzednia i aktualna estymata log wiarygodności:  -1761.391184060668 -1958.9633427919912\n",
            "------------------\n",
            "i:  0  phi:  0.031595868968519056\n",
            "i:  0  mu:  [-2.13933565 -2.89913879]\n",
            "[[1.15406124 0.4543786 ]\n",
            " [0.4543786  1.04735044]]\n",
            "(EM) poprzednia i aktualna estymata log wiarygodności:  -1958.9633427919912 -2057.821689194331\n",
            "------------------\n",
            "i:  1  phi:  0.0063720569293058745\n",
            "i:  1  mu:  [-0.6106835   1.92764867]\n",
            "[[2.88377615 0.65839632]\n",
            " [0.65839632 0.80294763]]\n",
            "(EM) poprzednia i aktualna estymata log wiarygodności:  -1958.9633427919912 -2160.280454403965\n",
            "------------------\n",
            "i:  0  phi:  0.015886514929827827\n",
            "i:  0  mu:  [-2.1401391  -2.96880488]\n",
            "[[1.14889065 0.45367507]\n",
            " [0.45367507 0.86340026]]\n",
            "(EM) poprzednia i aktualna estymata log wiarygodności:  -2160.280454403965 -2262.662966203352\n",
            "------------------\n",
            "Restarting, p: 0.0031681641152803384\n",
            "------------------\n",
            "i:  0  phi:  0.007921816176950503\n",
            "i:  0  mu:  [-2.14088024 -2.99188017]\n",
            "[[1.15251061 0.45350906]\n",
            " [0.45350906 0.8050189 ]]\n",
            "(EM) poprzednia i aktualna estymata log wiarygodności:  -2262.662966203352 -2469.9928088904676\n",
            "------------------\n",
            "Restarting, p: 0.0015883579809254907\n",
            "------------------\n",
            "i:  0  phi:  0.0039419929474084296\n",
            "i:  0  mu:  [-2.1410403  -2.99749827]\n",
            "[[1.15388826 0.45370526]\n",
            " [0.45370526 0.79129011]]\n",
            "(EM) poprzednia i aktualna estymata log wiarygodności:  -2469.9928088904676 -2678.2017670522764\n",
            "------------------\n",
            "Restarting, p: 0.0007979715570412575\n",
            "------------------\n",
            "Restarting, p: 0.0019607122770145193\n"
          ],
          "name": "stdout"
        },
        {
          "output_type": "display_data",
          "data": {
            "image/png": "[encoded data removed]",
            "text/plain": [
              "<Figure size 432x288 with 1 Axes>"
            ]
          },
          "metadata": {
            "tags": []
          }
        },
        {
          "output_type": "stream",
          "text": [
            "Dopasowany model: \n",
            "[{'mu': array([-2.1410403 , -2.99749827]), 'sigma': matrix([[1.15388826, 0.45370526],\n",
            "        [0.45370526, 0.79129011]]), 'phi': 0.0019607122770145193}, {'mu': array([-0.6106835 ,  1.92764867]), 'sigma': matrix([[2.88377615, 0.65839632],\n",
            "        [0.65839632, 0.80294763]]), 'phi': 0.0007979715570412575}]\n"
          ],
          "name": "stdout"
        }
      ]
    },
    {
      "cell_type": "markdown",
      "metadata": {
        "colab_type": "text",
        "id": "F6bCHBu9iUjw"
      },
      "source": [
        "Aby obliczyć gęstość prawdopodobieństwa rozkładu mieszanego dla pewnego nowego punktu \"x\" możemy zastosować poniższą funkcję:"
      ]
    },
    {
      "cell_type": "code",
      "metadata": {
        "colab_type": "code",
        "id": "vviQVJYmiWXU",
        "outputId": "df93c74e-e280-430b-a182-c698b1d263ca",
        "colab": {
          "base_uri": "https://localhost:8080/",
          "height": 35
        }
      },
      "source": [
        "def prob_mix(params, x):\n",
        "    '''params - parametry dopasowanego gaussowskiego modelu mieszanego\n",
        "    x - punkt wejścowy,\n",
        " \n",
        "    funkcja zwraca gestość prawdopodobieństwa, dla x w rozkładzie mieszanym\n",
        "    '''\n",
        "    prob = 0\n",
        "    for i in range(len(params)):\n",
        "        prob+= pnorm(x, params[i]['mu'], params[i]['sigma']) * params[i]['phi']\n",
        " \n",
        " \n",
        "    return prob\n",
        "#---------------- przykładowe użycie: ----------------\n",
        "x=(-1,2)\n",
        "print('P(x=(',str(x),')):', prob_mix(res['params'], x))"
      ],
      "execution_count": 0,
      "outputs": [
        {
          "output_type": "stream",
          "text": [
            "P(x=( (-1, 2) )): [[8.83956232e-05]]\n"
          ],
          "name": "stdout"
        }
      ]
    }
  ]
}