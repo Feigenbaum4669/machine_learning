{
  "nbformat": 4,
  "nbformat_minor": 0,
  "metadata": {
    "colab": {
      "name": "Copy of 11_DNN_vs_CNN.ipynb",
      "provenance": [],
      "collapsed_sections": []
    },
    "kernelspec": {
      "name": "python3",
      "display_name": "Python 3"
    }
  },
  "cells": [
    {
      "cell_type": "markdown",
      "metadata": {
        "collapsed": true,
        "id": "s8VMvVvjkj74",
        "colab_type": "text"
      },
      "source": [
        "# Porównanie sieci warstwowej o połączeniach gęstych z siecią konwolucyjną w zadaniu klasyfikacji cyfr MNIST\n",
        "Na podstawie projektu zaliczeniowego Adama Kordeczki"
      ]
    },
    {
      "cell_type": "markdown",
      "metadata": {
        "nbpresent": {
          "id": "54ce8149-cf9e-4c6f-bc77-f48051000ae4"
        },
        "id": "OrbOObqmkj79",
        "colab_type": "text"
      },
      "source": [
        "Zacznijmy od załadowania koniecznych bibliotek:"
      ]
    },
    {
      "cell_type": "code",
      "metadata": {
        "nbpresent": {
          "id": "ea197401-eb12-43b7-88f0-d57b226aba3c"
        },
        "id": "wddSOCQqkj8D",
        "colab_type": "code",
        "colab": {}
      },
      "source": [
        "import keras.datasets.mnist as mnist\n",
        "import matplotlib.pyplot as plt\n",
        "import numpy as np\n",
        "from IPython.display import Image\n",
        "%matplotlib inline"
      ],
      "execution_count": 0,
      "outputs": []
    },
    {
      "cell_type": "markdown",
      "metadata": {
        "nbpresent": {
          "id": "e697237a-9fb5-4a07-bf8b-1af78d0f095a"
        },
        "id": "2b3OMfR5kj8P",
        "colab_type": "text"
      },
      "source": [
        "## Badanie zbioru danych\n",
        "Wczytujemy do pamięci dane.  Tym razem skorzystamy z wersji dostarczonej razem z keras (plik `mnist.npz`). Metoda wczytująca zwraca od razu zbiór podzielony na część treningową i testową:"
      ]
    },
    {
      "cell_type": "code",
      "metadata": {
        "nbpresent": {
          "id": "33d11ace-3048-4620-839a-f49051d3d3ee"
        },
        "id": "BF0YdmAhkj8T",
        "colab_type": "code",
        "colab": {}
      },
      "source": [
        "(X_train, y_train), (X_test, y_test) = mnist.load_data()"
      ],
      "execution_count": 0,
      "outputs": []
    },
    {
      "cell_type": "markdown",
      "metadata": {
        "nbpresent": {
          "id": "1bea1656-0d8a-45b7-9e90-adf7cd134fea"
        },
        "id": "5-qFNa7Hkj8Y",
        "colab_type": "text"
      },
      "source": [
        "Sprawdźmy wymiarowość danych:"
      ]
    },
    {
      "cell_type": "code",
      "metadata": {
        "nbpresent": {
          "id": "9f5b217a-de33-4571-9ffc-d9cd591291bc"
        },
        "id": "PkzQKg0Nkj8a",
        "colab_type": "code",
        "colab": {
          "base_uri": "https://localhost:8080/",
          "height": 54
        },
        "outputId": "afba255a-48c4-4fee-f812-2fb3dfc35e04"
      },
      "source": [
        "print(\" X_train shape\", X_train.shape,\" \\n y_train shape\", y_train.shape)"
      ],
      "execution_count": 19,
      "outputs": [
        {
          "output_type": "stream",
          "text": [
            " X_train shape (60000, 28, 28)  \n",
            " y_train shape (60000,)\n"
          ],
          "name": "stdout"
        }
      ]
    },
    {
      "cell_type": "markdown",
      "metadata": {
        "id": "uQOspGHFkj8h",
        "colab_type": "text"
      },
      "source": [
        "* Ile mamy przykładów w ciągu uczącym?\n",
        "* Jakiego rozmiaru są obrazki?"
      ]
    },
    {
      "cell_type": "markdown",
      "metadata": {
        "id": "RPWuy36vkj8j",
        "colab_type": "text"
      },
      "source": [
        "To samo dla zbioru testowego:"
      ]
    },
    {
      "cell_type": "code",
      "metadata": {
        "nbpresent": {
          "id": "4323026d-ca8c-4db9-8c97-b9cca072740c"
        },
        "id": "bBJ5aZEGkj8k",
        "colab_type": "code",
        "colab": {
          "base_uri": "https://localhost:8080/",
          "height": 54
        },
        "outputId": "1d484b2e-5c52-46a8-e252-223e83519e89"
      },
      "source": [
        "print( \" X_test shape\", X_test.shape,\" \\n y_test shape\",y_test.shape )"
      ],
      "execution_count": 20,
      "outputs": [
        {
          "output_type": "stream",
          "text": [
            " X_test shape (10000, 28, 28)  \n",
            " y_test shape (10000,)\n"
          ],
          "name": "stdout"
        }
      ]
    },
    {
      "cell_type": "markdown",
      "metadata": {
        "id": "pfBiMe8Kkj8p",
        "colab_type": "text"
      },
      "source": [
        "Zobaczmy 10 przykładowych cyfr:"
      ]
    },
    {
      "cell_type": "code",
      "metadata": {
        "nbpresent": {
          "id": "33188be5-2821-4c85-a2b5-36df52067d61"
        },
        "id": "OgAq5vl9kj8q",
        "colab_type": "code",
        "colab": {
          "base_uri": "https://localhost:8080/",
          "height": 227
        },
        "outputId": "5de64702-f1d3-4294-c8f7-77f3f0e97d6a"
      },
      "source": [
        "matrix_grid = 10\n",
        "for i in range(matrix_grid):\n",
        "    plt.subplot(2, 5, i + 1)\n",
        "    plt.imshow(X_train[i], cmap='gray',interpolation=\"none\")"
      ],
      "execution_count": 21,
      "outputs": [
        {
          "output_type": "display_data",
          "data": {
            "image/png": "[encoded data removed]",
            "text/plain": [
              "<Figure size 432x288 with 10 Axes>"
            ]
          },
          "metadata": {
            "tags": []
          }
        }
      ]
    },
    {
      "cell_type": "markdown",
      "metadata": {
        "id": "7zkHRsTVkj8u",
        "colab_type": "text"
      },
      "source": [
        "Zobaczmy jak te cyfry są kodowane w `y`:"
      ]
    },
    {
      "cell_type": "code",
      "metadata": {
        "nbpresent": {
          "id": "d13f3a8c-e731-461a-808c-107f5782625e"
        },
        "scrolled": true,
        "id": "MDwgoZRFkj8u",
        "colab_type": "code",
        "colab": {
          "base_uri": "https://localhost:8080/",
          "height": 35
        },
        "outputId": "4d145254-d77f-4d44-a480-279d89f3b383"
      },
      "source": [
        "print(y_train[0:10])"
      ],
      "execution_count": 22,
      "outputs": [
        {
          "output_type": "stream",
          "text": [
            "[5 0 4 1 9 2 1 3 1 4]\n"
          ],
          "name": "stdout"
        }
      ]
    },
    {
      "cell_type": "markdown",
      "metadata": {
        "id": "J3nxNCspkj8y",
        "colab_type": "text"
      },
      "source": [
        "Do zadań klasyfikacyjnych lepsze jest kodowanie 'one-hot' (na wyjściu mamy wektor o długości liczba klas i 1 na odpowiednim miejscu koduje klasę). Do zmiany kodowania użyjemy funkcji bibliotecznej:"
      ]
    },
    {
      "cell_type": "code",
      "metadata": {
        "id": "6IOCAu4ckj8y",
        "colab_type": "code",
        "colab": {}
      },
      "source": [
        "from keras.utils.np_utils import to_categorical"
      ],
      "execution_count": 0,
      "outputs": []
    },
    {
      "cell_type": "code",
      "metadata": {
        "id": "n-eBIVx9kj82",
        "colab_type": "code",
        "colab": {}
      },
      "source": [
        "y_train = to_categorical(y_train)\n",
        "y_test = to_categorical(y_test)"
      ],
      "execution_count": 0,
      "outputs": []
    },
    {
      "cell_type": "markdown",
      "metadata": {
        "id": "RANqv_uxkj85",
        "colab_type": "text"
      },
      "source": [
        "Zobaczmy co stało się z `y_train`"
      ]
    },
    {
      "cell_type": "code",
      "metadata": {
        "nbpresent": {
          "id": "695ee99b-cf81-4537-b95e-65b6cbfa6010"
        },
        "id": "vdf_IIDwkj86",
        "colab_type": "code",
        "colab": {
          "base_uri": "https://localhost:8080/",
          "height": 219
        },
        "outputId": "84e613ac-16d7-4f96-eb55-047ab6a8c44c"
      },
      "source": [
        "print(y_train.shape)\n",
        "print(y_train[0:10])\n",
        "num_classes = y_test.shape[1]"
      ],
      "execution_count": 25,
      "outputs": [
        {
          "output_type": "stream",
          "text": [
            "(60000, 10)\n",
            "[[0. 0. 0. 0. 0. 1. 0. 0. 0. 0.]\n",
            " [1. 0. 0. 0. 0. 0. 0. 0. 0. 0.]\n",
            " [0. 0. 0. 0. 1. 0. 0. 0. 0. 0.]\n",
            " [0. 1. 0. 0. 0. 0. 0. 0. 0. 0.]\n",
            " [0. 0. 0. 0. 0. 0. 0. 0. 0. 1.]\n",
            " [0. 0. 1. 0. 0. 0. 0. 0. 0. 0.]\n",
            " [0. 1. 0. 0. 0. 0. 0. 0. 0. 0.]\n",
            " [0. 0. 0. 1. 0. 0. 0. 0. 0. 0.]\n",
            " [0. 1. 0. 0. 0. 0. 0. 0. 0. 0.]\n",
            " [0. 0. 0. 0. 1. 0. 0. 0. 0. 0.]]\n"
          ],
          "name": "stdout"
        }
      ]
    },
    {
      "cell_type": "code",
      "metadata": {
        "nbpresent": {
          "id": "5e484e5a-2ca3-49e3-a368-6fc5ce543c33"
        },
        "id": "_uDkuZBPkj88",
        "colab_type": "code",
        "colab": {
          "base_uri": "https://localhost:8080/",
          "height": 320
        },
        "outputId": "ed18cfad-df72-4188-ab2d-d1c0cdb25683"
      },
      "source": [
        "plt.subplot(2,1,1)\n",
        "plt.hist(X_train[0].flatten())\n",
        "\n",
        "X_train = X_train / 255\n",
        "X_test = X_test / 255\n",
        "\n",
        "plt.subplot(2,1,2)\n",
        "plt.hist(X_train[0].flatten())"
      ],
      "execution_count": 26,
      "outputs": [
        {
          "output_type": "execute_result",
          "data": {
            "text/plain": [
              "(array([639.,  11.,   6.,  11.,   6.,   9.,  11.,  12.,  11.,  68.]),\n",
              " array([0. , 0.1, 0.2, 0.3, 0.4, 0.5, 0.6, 0.7, 0.8, 0.9, 1. ]),\n",
              " <a list of 10 Patch objects>)"
            ]
          },
          "metadata": {
            "tags": []
          },
          "execution_count": 26
        },
        {
          "output_type": "display_data",
          "data": {
            "image/png": "[encoded data removed]",
            "text/plain": [
              "<Figure size 432x288 with 2 Axes>"
            ]
          },
          "metadata": {
            "tags": []
          }
        }
      ]
    },
    {
      "cell_type": "markdown",
      "metadata": {
        "id": "LrmOLwKwkj9A",
        "colab_type": "text"
      },
      "source": [
        "* Zwróć uwagę na zakres skali `x` obu histogramów."
      ]
    },
    {
      "cell_type": "markdown",
      "metadata": {
        "id": "rtehTdUUkj9A",
        "colab_type": "text"
      },
      "source": [
        "## Klasyfikator: sieć gęsta\n",
        "Dla tej sieci musimy zmienić kształt wektorów wejściowych. Oryginalnie są one kształtu `28x28`. potrzebujemy je 'spłaszczyć' do kształtu `1x784`:"
      ]
    },
    {
      "cell_type": "code",
      "metadata": {
        "id": "xUZ2fgzykj9B",
        "colab_type": "code",
        "colab": {
          "base_uri": "https://localhost:8080/",
          "height": 90
        },
        "outputId": "f1ef37ca-3b62-4023-bb4a-95337b2e08ac"
      },
      "source": [
        "print(\"oryginalnie: X_train shape\", X_train.shape)\n",
        "(N_przykladow, N,N) = X_train.shape\n",
        "print(N)\n",
        "num_pixels = N*N\n",
        "print('liczba pikseli w obrazku = ',num_pixels)\n",
        "X_train = X_train.reshape(X_train.shape[0], num_pixels)\n",
        "print(\"po spłaszczeniu: X_train shape\", X_train.shape)"
      ],
      "execution_count": 27,
      "outputs": [
        {
          "output_type": "stream",
          "text": [
            "oryginalnie: X_train shape (60000, 28, 28)\n",
            "28\n",
            "liczba pikseli w obrazku =  784\n",
            "po spłaszczeniu: X_train shape (60000, 784)\n"
          ],
          "name": "stdout"
        }
      ]
    },
    {
      "cell_type": "markdown",
      "metadata": {
        "id": "a4DDoG75kj9F",
        "colab_type": "text"
      },
      "source": [
        "To samo robimy dla zbioru testowego:"
      ]
    },
    {
      "cell_type": "code",
      "metadata": {
        "nbpresent": {
          "id": "d6a12c8c-df42-4a36-a908-78e49bae4d5f"
        },
        "id": "K7X-py5Mkj9F",
        "colab_type": "code",
        "colab": {}
      },
      "source": [
        "X_test = X_test.reshape(X_test.shape[0], num_pixels)"
      ],
      "execution_count": 0,
      "outputs": []
    },
    {
      "cell_type": "markdown",
      "metadata": {
        "nbpresent": {
          "id": "2c07e277-2829-409e-acf3-2c0b78474ed9"
        },
        "id": "sKi4FEyikj9J",
        "colab_type": "text"
      },
      "source": [
        "Teraz ładujemy składowe architektury naszej sieci:"
      ]
    },
    {
      "cell_type": "code",
      "metadata": {
        "nbpresent": {
          "id": "68977463-4188-4778-9956-67c764cf79e7"
        },
        "id": "x50nfWTvkj9K",
        "colab_type": "code",
        "colab": {}
      },
      "source": [
        "from keras.models import Sequential\n",
        "from keras.layers import Dense"
      ],
      "execution_count": 0,
      "outputs": []
    },
    {
      "cell_type": "markdown",
      "metadata": {
        "nbpresent": {
          "id": "d8b2c901-716c-412a-b505-43a7e0ad0b46"
        },
        "id": "Hu1Z2mDekj9M",
        "colab_type": "text"
      },
      "source": [
        "W celu inicjacji modelu używamy konstruktora klasy: Seqiential(). Następnie możemy dodawać interesujące nas struktury, pamiętając o odpowiedniej kolejności. Na początku nasza sieć musi mieć zdefiniowane wymiary wejścia oraz wyjścia - robimy to za pomocą funkcji *Dense*.  "
      ]
    },
    {
      "cell_type": "markdown",
      "metadata": {
        "nbpresent": {
          "id": "70027bb9-4003-425d-afe6-b7afb6979b56"
        },
        "id": "ynck1ySgkj9N",
        "colab_type": "text"
      },
      "source": [
        "Na początku zajmijmy się charakterystyką wejścia. \n",
        "* Pierwszy argument funkcji Dense oznacza liczbę jednostek naszej sieci (w naszym przypadku jest równy rozmiarowi obrazka: 28 * 28, jedna warstwa ukryta). \n",
        "* Input_dim to wymiar wejścia, w naszym przypadku płaska macierz mająca 728 pixeli. \n",
        "* Kernel_initializer informuje nas w jaki sposób zamierzamy zainicjować macierz wag, ustawienie parametru na wartość random_normal gwarantuje losowani wag z rozkładu normalnego: N(0, 1/2). \n",
        "* Argument activation oznacza funkcję aktywacji. \n",
        "  * Wybieramy ReLU:                $\\quad f(x) = \\max(0, x)$"
      ]
    },
    {
      "cell_type": "code",
      "metadata": {
        "nbpresent": {
          "id": "9549d61c-e7de-4abc-aaa2-36061207586c"
        },
        "id": "utKSlpqZkj9O",
        "colab_type": "code",
        "colab": {}
      },
      "source": [
        "model = Sequential() \n",
        "N_jednostek = 256#num_pixels\n",
        "model.add(Dense(N_jednostek,\n",
        "                    input_dim = num_pixels,\n",
        "                    kernel_initializer='normal',\n",
        "                    activation='relu'))"
      ],
      "execution_count": 0,
      "outputs": []
    },
    {
      "cell_type": "markdown",
      "metadata": {
        "nbpresent": {
          "id": "fde9da7c-5024-41c2-abf0-d14b2552f31a"
        },
        "id": "RdEMjka-kj9S",
        "colab_type": "text"
      },
      "source": [
        "Teraz zajmiemy się charakterystyką wyjścia. \n",
        "* Jako pierwszy argument przekazujemy wymiar wartwy wyjściowej - u nas będzie to liczba klas. \n",
        "* Tym razem jako aktywacje dajemy softmax - na wyjściu chcemy mieć wektor prawdopodobieństw przynależności do jednej z dziesięciu klas. "
      ]
    },
    {
      "cell_type": "code",
      "metadata": {
        "nbpresent": {
          "id": "7653ecc4-795f-4318-a8e7-5bbb5837362d"
        },
        "id": "r1tQ3Olukj9U",
        "colab_type": "code",
        "colab": {}
      },
      "source": [
        "model.add(Dense(num_classes,\n",
        "                    kernel_initializer='normal',\n",
        "                    activation='softmax'))"
      ],
      "execution_count": 0,
      "outputs": []
    },
    {
      "cell_type": "markdown",
      "metadata": {
        "id": "c8pP94V1kj9Y",
        "colab_type": "text"
      },
      "source": [
        "Policzmy ile parametrów ma nasz model:"
      ]
    },
    {
      "cell_type": "code",
      "metadata": {
        "id": "EFI3PbqMkj9a",
        "colab_type": "code",
        "colab": {
          "base_uri": "https://localhost:8080/",
          "height": 35
        },
        "outputId": "969c348f-ffae-458d-fa6e-05db477fa2b3"
      },
      "source": [
        "model.count_params()"
      ],
      "execution_count": 44,
      "outputs": [
        {
          "output_type": "execute_result",
          "data": {
            "text/plain": [
              "203530"
            ]
          },
          "metadata": {
            "tags": []
          },
          "execution_count": 44
        }
      ]
    },
    {
      "cell_type": "markdown",
      "metadata": {
        "id": "u7TBZqgTkj9d",
        "colab_type": "text"
      },
      "source": [
        "Zobaczmy jego strukturę:"
      ]
    },
    {
      "cell_type": "code",
      "metadata": {
        "id": "OgU3qs01kj9f",
        "colab_type": "code",
        "colab": {
          "base_uri": "https://localhost:8080/",
          "height": 287
        },
        "outputId": "96a5a135-9958-4379-8d16-e7ebc69bb387"
      },
      "source": [
        "from IPython.display import SVG\n",
        "from keras.utils.vis_utils import model_to_dot\n",
        "tmp = model_to_dot(model, show_shapes=True, show_layer_names=False, dpi=65).create(prog='dot', format='svg')\n",
        "SVG(tmp)"
      ],
      "execution_count": 45,
      "outputs": [
        {
          "output_type": "execute_result",
          "data": {
            "text/plain": [
              "<IPython.core.display.SVG object>"
            ],
            "image/svg+xml": "<svg height=\"200pt\" viewBox=\"0.00 0.00 233.00 221.00\" width=\"210pt\" xmlns=\"http://www.w3.org/2000/svg\" xmlns:xlink=\"http://www.w3.org/1999/xlink\">\n<g class=\"graph\" id=\"graph0\" transform=\"scale(.9028 .9028) rotate(0) translate(4 217)\">\n<title>G</title>\n<polygon fill=\"#ffffff\" points=\"-4,4 -4,-217 229,-217 229,4 -4,4\" stroke=\"transparent\"/>\n<!-- 139657263125000 -->\n<g class=\"node\" id=\"node1\">\n<title>139657263125000</title>\n<polygon fill=\"none\" points=\"0,-166.5 0,-212.5 225,-212.5 225,-166.5 0,-166.5\" stroke=\"#000000\"/>\n<text fill=\"#000000\" font-family=\"Times,serif\" font-size=\"14.00\" text-anchor=\"middle\" x=\"40\" y=\"-185.8\">InputLayer</text>\n<polyline fill=\"none\" points=\"80,-166.5 80,-212.5 \" stroke=\"#000000\"/>\n<text fill=\"#000000\" font-family=\"Times,serif\" font-size=\"14.00\" text-anchor=\"middle\" x=\"109\" y=\"-197.3\">input:</text>\n<polyline fill=\"none\" points=\"80,-189.5 138,-189.5 \" stroke=\"#000000\"/>\n<text fill=\"#000000\" font-family=\"Times,serif\" font-size=\"14.00\" text-anchor=\"middle\" x=\"109\" y=\"-174.3\">output:</text>\n<polyline fill=\"none\" points=\"138,-166.5 138,-212.5 \" stroke=\"#000000\"/>\n<text fill=\"#000000\" font-family=\"Times,serif\" font-size=\"14.00\" text-anchor=\"middle\" x=\"181.5\" y=\"-197.3\">(None, 784)</text>\n<polyline fill=\"none\" points=\"138,-189.5 225,-189.5 \" stroke=\"#000000\"/>\n<text fill=\"#000000\" font-family=\"Times,serif\" font-size=\"14.00\" text-anchor=\"middle\" x=\"181.5\" y=\"-174.3\">(None, 784)</text>\n</g>\n<!-- 139657263126736 -->\n<g class=\"node\" id=\"node2\">\n<title>139657263126736</title>\n<polygon fill=\"none\" points=\"14,-83.5 14,-129.5 211,-129.5 211,-83.5 14,-83.5\" stroke=\"#000000\"/>\n<text fill=\"#000000\" font-family=\"Times,serif\" font-size=\"14.00\" text-anchor=\"middle\" x=\"40\" y=\"-102.8\">Dense</text>\n<polyline fill=\"none\" points=\"66,-83.5 66,-129.5 \" stroke=\"#000000\"/>\n<text fill=\"#000000\" font-family=\"Times,serif\" font-size=\"14.00\" text-anchor=\"middle\" x=\"95\" y=\"-114.3\">input:</text>\n<polyline fill=\"none\" points=\"66,-106.5 124,-106.5 \" stroke=\"#000000\"/>\n<text fill=\"#000000\" font-family=\"Times,serif\" font-size=\"14.00\" text-anchor=\"middle\" x=\"95\" y=\"-91.3\">output:</text>\n<polyline fill=\"none\" points=\"124,-83.5 124,-129.5 \" stroke=\"#000000\"/>\n<text fill=\"#000000\" font-family=\"Times,serif\" font-size=\"14.00\" text-anchor=\"middle\" x=\"167.5\" y=\"-114.3\">(None, 784)</text>\n<polyline fill=\"none\" points=\"124,-106.5 211,-106.5 \" stroke=\"#000000\"/>\n<text fill=\"#000000\" font-family=\"Times,serif\" font-size=\"14.00\" text-anchor=\"middle\" x=\"167.5\" y=\"-91.3\">(None, 256)</text>\n</g>\n<!-- 139657263125000&#45;&gt;139657263126736 -->\n<g class=\"edge\" id=\"edge1\">\n<title>139657263125000-&gt;139657263126736</title>\n<path d=\"M112.5,-166.3799C112.5,-158.1745 112.5,-148.7679 112.5,-139.8786\" fill=\"none\" stroke=\"#000000\"/>\n<polygon fill=\"#000000\" points=\"116.0001,-139.784 112.5,-129.784 109.0001,-139.784 116.0001,-139.784\" stroke=\"#000000\"/>\n</g>\n<!-- 139657154128136 -->\n<g class=\"node\" id=\"node3\">\n<title>139657154128136</title>\n<polygon fill=\"none\" points=\"14,-.5 14,-46.5 211,-46.5 211,-.5 14,-.5\" stroke=\"#000000\"/>\n<text fill=\"#000000\" font-family=\"Times,serif\" font-size=\"14.00\" text-anchor=\"middle\" x=\"40\" y=\"-19.8\">Dense</text>\n<polyline fill=\"none\" points=\"66,-.5 66,-46.5 \" stroke=\"#000000\"/>\n<text fill=\"#000000\" font-family=\"Times,serif\" font-size=\"14.00\" text-anchor=\"middle\" x=\"95\" y=\"-31.3\">input:</text>\n<polyline fill=\"none\" points=\"66,-23.5 124,-23.5 \" stroke=\"#000000\"/>\n<text fill=\"#000000\" font-family=\"Times,serif\" font-size=\"14.00\" text-anchor=\"middle\" x=\"95\" y=\"-8.3\">output:</text>\n<polyline fill=\"none\" points=\"124,-.5 124,-46.5 \" stroke=\"#000000\"/>\n<text fill=\"#000000\" font-family=\"Times,serif\" font-size=\"14.00\" text-anchor=\"middle\" x=\"167.5\" y=\"-31.3\">(None, 256)</text>\n<polyline fill=\"none\" points=\"124,-23.5 211,-23.5 \" stroke=\"#000000\"/>\n<text fill=\"#000000\" font-family=\"Times,serif\" font-size=\"14.00\" text-anchor=\"middle\" x=\"167.5\" y=\"-8.3\">(None, 10)</text>\n</g>\n<!-- 139657263126736&#45;&gt;139657154128136 -->\n<g class=\"edge\" id=\"edge2\">\n<title>139657263126736-&gt;139657154128136</title>\n<path d=\"M112.5,-83.3799C112.5,-75.1745 112.5,-65.7679 112.5,-56.8786\" fill=\"none\" stroke=\"#000000\"/>\n<polygon fill=\"#000000\" points=\"116.0001,-56.784 112.5,-46.784 109.0001,-56.784 116.0001,-56.784\" stroke=\"#000000\"/>\n</g>\n</g>\n</svg>"
          },
          "metadata": {
            "tags": []
          },
          "execution_count": 45
        }
      ]
    },
    {
      "cell_type": "markdown",
      "metadata": {
        "nbpresent": {
          "id": "aac47c2e-742d-4975-97db-225e10db528c"
        },
        "id": "y5HZBWLMkj9i",
        "colab_type": "text"
      },
      "source": [
        "Tak zdefiniowaną sieć wraz z jej architekturą musimy teraz skompilować.\n",
        "Najważniejsze argumenty to: \n",
        "* loss - funkcja którą będziemy optymalizować, \n",
        "* optimizer - funkcja, której użyjemy do optymalizacji, \n",
        "* metrics - metryka, według której ocenimy jakość modelu. "
      ]
    },
    {
      "cell_type": "code",
      "metadata": {
        "nbpresent": {
          "id": "bf68efe2-01c4-4808-ad80-e72a6d4cc961"
        },
        "id": "15qhe5LVkj9k",
        "colab_type": "code",
        "colab": {}
      },
      "source": [
        "model.compile(loss='categorical_crossentropy', optimizer='adam', metrics=['accuracy'])"
      ],
      "execution_count": 0,
      "outputs": []
    },
    {
      "cell_type": "markdown",
      "metadata": {
        "nbpresent": {
          "id": "4d822457-398a-4b70-81aa-9dafa48842b1"
        },
        "id": "_wJrl4mHkj9o",
        "colab_type": "text"
      },
      "source": [
        "Teraz będziemy uczyć model. Do metody *fit* obiektu model podajemy:\n",
        "* ciąg uczący, \n",
        "* zbiór walidacyjny, \n",
        "* liczbę epok (przejść przez zbiór uczący, osiągnięcie pożądanej wartości błędu wymaga czasem przejścia przez cały ciąg uczący kilka razy), \n",
        "* batchsize (liczba próbek po której następuje update gradientu, skraca czas uczenia), \n",
        "* varbose - typ informacji wyświetlanych w czasie uczenia (0 - nic, 1 - progress bar, 2 - linia per epoch)"
      ]
    },
    {
      "cell_type": "code",
      "metadata": {
        "nbpresent": {
          "id": "d5170542-e271-4fa8-af9c-a4a379d3bdbe"
        },
        "id": "kV_yvz7ckj9q",
        "colab_type": "code",
        "colab": {
          "base_uri": "https://localhost:8080/",
          "height": 770
        },
        "outputId": "4528f0d4-84d0-4012-a945-5d4187704ef0"
      },
      "source": [
        "fit = model.fit(X_train, y_train,\n",
        "          validation_data=(X_test, y_test),\n",
        "          epochs = 20, batch_size = 200,\n",
        "          verbose = 1)"
      ],
      "execution_count": 47,
      "outputs": [
        {
          "output_type": "stream",
          "text": [
            "Train on 60000 samples, validate on 10000 samples\n",
            "Epoch 1/20\n",
            "60000/60000 [==============================] - 3s 50us/step - loss: 0.3856 - acc: 0.8988 - val_loss: 0.1989 - val_acc: 0.9425\n",
            "Epoch 2/20\n",
            "60000/60000 [==============================] - 3s 46us/step - loss: 0.1662 - acc: 0.9525 - val_loss: 0.1342 - val_acc: 0.9601\n",
            "Epoch 3/20\n",
            "60000/60000 [==============================] - 3s 44us/step - loss: 0.1162 - acc: 0.9675 - val_loss: 0.1054 - val_acc: 0.9691\n",
            "Epoch 4/20\n",
            "60000/60000 [==============================] - 3s 43us/step - loss: 0.0885 - acc: 0.9746 - val_loss: 0.0933 - val_acc: 0.9737\n",
            "Epoch 5/20\n",
            "60000/60000 [==============================] - 3s 46us/step - loss: 0.0702 - acc: 0.9802 - val_loss: 0.0860 - val_acc: 0.9749\n",
            "Epoch 6/20\n",
            "60000/60000 [==============================] - 3s 45us/step - loss: 0.0571 - acc: 0.9839 - val_loss: 0.0743 - val_acc: 0.9777\n",
            "Epoch 7/20\n",
            "60000/60000 [==============================] - 3s 46us/step - loss: 0.0470 - acc: 0.9867 - val_loss: 0.0701 - val_acc: 0.9786\n",
            "Epoch 8/20\n",
            "60000/60000 [==============================] - 3s 45us/step - loss: 0.0385 - acc: 0.9896 - val_loss: 0.0656 - val_acc: 0.9795\n",
            "Epoch 9/20\n",
            "60000/60000 [==============================] - 3s 47us/step - loss: 0.0321 - acc: 0.9919 - val_loss: 0.0686 - val_acc: 0.9793\n",
            "Epoch 10/20\n",
            "60000/60000 [==============================] - 3s 49us/step - loss: 0.0268 - acc: 0.9927 - val_loss: 0.0623 - val_acc: 0.9820\n",
            "Epoch 11/20\n",
            "60000/60000 [==============================] - 3s 49us/step - loss: 0.0223 - acc: 0.9945 - val_loss: 0.0679 - val_acc: 0.9792\n",
            "Epoch 12/20\n",
            "60000/60000 [==============================] - 3s 49us/step - loss: 0.0182 - acc: 0.9957 - val_loss: 0.0631 - val_acc: 0.9810\n",
            "Epoch 13/20\n",
            "60000/60000 [==============================] - 3s 46us/step - loss: 0.0149 - acc: 0.9971 - val_loss: 0.0646 - val_acc: 0.9807\n",
            "Epoch 14/20\n",
            "60000/60000 [==============================] - 3s 45us/step - loss: 0.0130 - acc: 0.9973 - val_loss: 0.0625 - val_acc: 0.9811\n",
            "Epoch 15/20\n",
            "60000/60000 [==============================] - 3s 45us/step - loss: 0.0100 - acc: 0.9984 - val_loss: 0.0641 - val_acc: 0.9816\n",
            "Epoch 16/20\n",
            "60000/60000 [==============================] - 3s 45us/step - loss: 0.0080 - acc: 0.9990 - val_loss: 0.0709 - val_acc: 0.9789\n",
            "Epoch 17/20\n",
            "60000/60000 [==============================] - 3s 44us/step - loss: 0.0070 - acc: 0.9990 - val_loss: 0.0665 - val_acc: 0.9799\n",
            "Epoch 18/20\n",
            "60000/60000 [==============================] - 3s 44us/step - loss: 0.0056 - acc: 0.9994 - val_loss: 0.0683 - val_acc: 0.9801\n",
            "Epoch 19/20\n",
            "60000/60000 [==============================] - 3s 43us/step - loss: 0.0051 - acc: 0.9994 - val_loss: 0.0690 - val_acc: 0.9821\n",
            "Epoch 20/20\n",
            "60000/60000 [==============================] - 3s 44us/step - loss: 0.0040 - acc: 0.9997 - val_loss: 0.0690 - val_acc: 0.9815\n"
          ],
          "name": "stdout"
        }
      ]
    },
    {
      "cell_type": "markdown",
      "metadata": {
        "nbpresent": {
          "id": "0abbb1cc-7c8a-4a75-962b-80e515f87f8b"
        },
        "id": "AbwYiEc7kj9u",
        "colab_type": "text"
      },
      "source": [
        "## Zobaczmy historię funkcji błędu i dokładności "
      ]
    },
    {
      "cell_type": "code",
      "metadata": {
        "nbpresent": {
          "id": "538da532-f6b5-4179-a66b-0b8fe65e7c3e"
        },
        "id": "2HrJZh2bkj9v",
        "colab_type": "code",
        "colab": {
          "base_uri": "https://localhost:8080/",
          "height": 281
        },
        "outputId": "007ff5c1-34d4-4bbd-ccef-4c69626393e1"
      },
      "source": [
        "plt.figure()\n",
        "plt.plot(fit.history['val_loss'] )# na zbiorze walidacyjnym\n",
        "plt.plot(fit.history['loss'])# na zb. uczącym \n",
        "plt.legend(('zb. walidacyjny', 'zb. uczący'))\n",
        "plt.xlabel('epoki')\n",
        "plt.ylabel('błąd')\n",
        "plt.show()"
      ],
      "execution_count": 48,
      "outputs": [
        {
          "output_type": "display_data",
          "data": {
            "image/png": "[encoded data removed]",
            "text/plain": [
              "<Figure size 432x288 with 1 Axes>"
            ]
          },
          "metadata": {
            "tags": []
          }
        }
      ]
    },
    {
      "cell_type": "code",
      "metadata": {
        "nbpresent": {
          "id": "8b51585d-25ad-434b-a67f-136b3fa8cd5e"
        },
        "id": "70rsx4mIkj9x",
        "colab_type": "code",
        "colab": {
          "base_uri": "https://localhost:8080/",
          "height": 279
        },
        "outputId": "16095085-7261-4cd6-ce4b-1d317f1581ae"
      },
      "source": [
        "plt.figure()\n",
        "plt.plot(fit.history['val_acc'] )# na zbiorze walidacyjnym\n",
        "plt.plot(fit.history['acc'])# na zb. uczącym \n",
        "plt.legend(('zb. walidacyjny', 'zb. uczący'))\n",
        "plt.xlabel('epoki')\n",
        "plt.ylabel('dokładność')\n",
        "plt.show()"
      ],
      "execution_count": 49,
      "outputs": [
        {
          "output_type": "display_data",
          "data": {
            "image/png": "[encoded data removed]",
            "text/plain": [
              "<Figure size 432x288 with 1 Axes>"
            ]
          },
          "metadata": {
            "tags": []
          }
        }
      ]
    },
    {
      "cell_type": "code",
      "metadata": {
        "nbpresent": {
          "id": "cdc19944-5911-4423-b72f-c8f08e97987c"
        },
        "id": "vWtpX6Klkj9z",
        "colab_type": "code",
        "colab": {
          "base_uri": "https://localhost:8080/",
          "height": 35
        },
        "outputId": "adda3bc6-9108-4ac8-b633-a175790895f6"
      },
      "source": [
        "scores = model.evaluate(X_test, y_test, verbose=0)\n",
        "print(\"Błąd na zbiorze testowym: %.2f%%\" % (100-scores[1]*100))"
      ],
      "execution_count": 50,
      "outputs": [
        {
          "output_type": "stream",
          "text": [
            "Błąd na zbiorze testowym: 1.85%\n"
          ],
          "name": "stdout"
        }
      ]
    },
    {
      "cell_type": "markdown",
      "metadata": {
        "id": "o7XpEq8Nkj91",
        "colab_type": "text"
      },
      "source": [
        "### Zobaczmy jak wygląda macierz pomyłek na zbiorze testowym:"
      ]
    },
    {
      "cell_type": "code",
      "metadata": {
        "id": "dQLK49wIkj92",
        "colab_type": "code",
        "colab": {
          "base_uri": "https://localhost:8080/",
          "height": 256
        },
        "outputId": "ff2a7595-3a12-49ba-ef14-bc739740d924"
      },
      "source": [
        "y_pred = model.predict(X_test)\n",
        "print(y_pred)"
      ],
      "execution_count": 51,
      "outputs": [
        {
          "output_type": "stream",
          "text": [
            "[[1.7719607e-09 3.2105821e-10 3.0990179e-08 ... 9.9993241e-01\n",
            "  2.4305875e-08 2.8581039e-06]\n",
            " [1.2896084e-11 1.7368102e-07 9.9999928e-01 ... 6.5610270e-18\n",
            "  4.8404786e-07 5.4606965e-18]\n",
            " [3.4015812e-09 9.9950218e-01 9.1820468e-05 ... 9.7401709e-05\n",
            "  3.0541187e-04 8.7015685e-08]\n",
            " ...\n",
            " [2.2005320e-17 6.4110848e-15 2.3710609e-17 ... 7.3172992e-09\n",
            "  4.4614894e-09 4.1470507e-08]\n",
            " [1.4873546e-12 8.1436479e-16 1.5910281e-15 ... 2.1386881e-12\n",
            "  1.8145258e-06 1.7948973e-15]\n",
            " [1.0388692e-13 8.4413324e-16 1.1261483e-11 ... 4.6831616e-20\n",
            "  8.0944840e-15 2.0648541e-15]]\n"
          ],
          "name": "stdout"
        }
      ]
    },
    {
      "cell_type": "markdown",
      "metadata": {
        "id": "e-88bbWtkj94",
        "colab_type": "text"
      },
      "source": [
        "Widać, że dostaliśmy prawdopodobieństwa przynależności do każdej z klas (warstwa wyjściowa to softmax). Na potrzeby policzenia macierzy pomyłek sprawdzimy dla każdego przykładu, która klasa jest najbardziej prawdopodobna:"
      ]
    },
    {
      "cell_type": "code",
      "metadata": {
        "id": "5nk-fV6okj94",
        "colab_type": "code",
        "colab": {
          "base_uri": "https://localhost:8080/",
          "height": 201
        },
        "outputId": "6d80a8ac-60dc-42b4-cf8c-c9740230081b"
      },
      "source": [
        "from sklearn.metrics import confusion_matrix\n",
        "\n",
        "cm = confusion_matrix(np.argmax(y_test,axis =1), np.argmax(y_pred,axis =1))\n",
        "print(cm)"
      ],
      "execution_count": 52,
      "outputs": [
        {
          "output_type": "stream",
          "text": [
            "[[ 967    0    1    0    1    1    3    1    4    2]\n",
            " [   0 1125    3    1    0    1    2    1    2    0]\n",
            " [   2    0 1012    4    1    0    2    4    6    1]\n",
            " [   0    0    2  991    0    5    0    2    4    6]\n",
            " [   1    0    1    1  966    0    3    1    1    8]\n",
            " [   2    0    0   12    1  868    2    1    4    2]\n",
            " [   4    1    2    1    2    6  940    0    2    0]\n",
            " [   0    4   10    3    0    0    0 1003    1    7]\n",
            " [   1    0    4    3    4    1    1    3  955    2]\n",
            " [   0    2    0    4    8    3    1    1    2  988]]\n"
          ],
          "name": "stdout"
        }
      ]
    },
    {
      "cell_type": "markdown",
      "metadata": {
        "nbpresent": {
          "id": "172c7b96-86eb-468a-9489-f78f5723b6f8"
        },
        "id": "Ruu2VLO5kj96",
        "colab_type": "text"
      },
      "source": [
        "## Wybierzmy kilka przykładów ze zbioru walidacyjnego, które zostały niepoprawnie sklasyfikowane przez naszą sieć"
      ]
    },
    {
      "cell_type": "code",
      "metadata": {
        "nbpresent": {
          "id": "2d4976b4-7ba7-47ce-abaa-6214ca999399"
        },
        "id": "SyXbXWuFkj97",
        "colab_type": "code",
        "colab": {}
      },
      "source": [
        "predict = model.predict_classes(X_test)\n",
        "miss_classified = np.unique(\n",
        "                    np.nonzero(to_categorical(predict) != y_test)[0])\n",
        "\n"
      ],
      "execution_count": 0,
      "outputs": []
    },
    {
      "cell_type": "code",
      "metadata": {
        "nbpresent": {
          "id": "ced865b3-bfaa-499d-a3dd-3d06fa84df75"
        },
        "id": "Q8RXg2FGkj9-",
        "colab_type": "code",
        "colab": {
          "base_uri": "https://localhost:8080/",
          "height": 373
        },
        "outputId": "ff870193-7aff-47ef-a816-e020cb818826"
      },
      "source": [
        "for i, incorrect in enumerate(miss_classified[:4]):\n",
        "    fig = plt.gcf()\n",
        "    fig.set_size_inches(14,6)\n",
        "    plt.subplot(2,2,i+1)\n",
        "    plt.imshow(X_test[incorrect].reshape(28,28), cmap='gray', interpolation='none')\n",
        "    plt.title(\"Predicted={}, True={}\".format(predict[incorrect], np.nonzero(y_test[incorrect])[0][0]))\n",
        "    plt.axis(\"off\")"
      ],
      "execution_count": 54,
      "outputs": [
        {
          "output_type": "display_data",
          "data": {
            "image/png": "[encoded data removed]",
            "text/plain": [
              "<Figure size 1008x432 with 4 Axes>"
            ]
          },
          "metadata": {
            "tags": []
          }
        }
      ]
    },
    {
      "cell_type": "markdown",
      "metadata": {
        "nbpresent": {
          "id": "4ec4f974-cd6a-45c6-af78-341021cc1bc5"
        },
        "id": "bns644hlkj-A",
        "colab_type": "text"
      },
      "source": [
        "# Wersja z siecią konwolucyjną"
      ]
    },
    {
      "cell_type": "markdown",
      "metadata": {
        "nbpresent": {
          "id": "3216659c-c67e-47cd-9ebc-52243288c3fe"
        },
        "id": "w6lEzjUSkj-B",
        "colab_type": "text"
      },
      "source": [
        "Żeby poprawnie zbudować sieć konwolucyjną musimy w inny sposób poukładać dane w przykładach. Wczytajmy je zatem i przekształćmy raz jeszcze.\n",
        "* Kolejne wymiary oznaczają teraz: \n",
        "  * liczbę obserwacji, \n",
        "  * kanał koloru (ustawiony jako 1 bo mamy tylko odcień szarości. Dla obrazka kolorowego byłoby 3 (RGB)),\n",
        "  * szerokość ,\n",
        "  * wysokość obrazka.\n",
        "  \n",
        "Reszta przekształceń (kategoryzacja, zmian zakresu zmienności) pozostaje bez zmian."
      ]
    },
    {
      "cell_type": "code",
      "metadata": {
        "nbpresent": {
          "id": "3988209f-2649-4dc3-b33d-1a5427f58e81"
        },
        "id": "dMUZV58Hkj-D",
        "colab_type": "code",
        "colab": {
          "base_uri": "https://localhost:8080/",
          "height": 54
        },
        "outputId": "60dbaf3f-0c72-4537-ccb1-5a3578372932"
      },
      "source": [
        "(X_train, y_train), (X_test, y_test) = mnist.load_data()\n",
        "X_train = X_train.reshape(X_train.shape[0], 1, 28, 28).astype('float32')\n",
        "X_test = X_test.reshape(X_test.shape[0], 1, 28, 28).astype('float32')\n",
        "X_train = X_train / 255\n",
        "X_test = X_test / 255\n",
        "y_train = to_categorical(y_train)\n",
        "y_test = to_categorical(y_test)\n",
        "num_classes = y_test.shape[1]\n",
        "print('Kształt macierzy z wejściami: ',X_train.shape)\n",
        "print('Kształt wektorów wyjściowych: ', y_train.shape)"
      ],
      "execution_count": 56,
      "outputs": [
        {
          "output_type": "stream",
          "text": [
            "Kształt macierzy z wejściami:  (60000, 1, 28, 28)\n",
            "Kształt wektorów wyjściowych:  (60000, 10)\n"
          ],
          "name": "stdout"
        }
      ]
    },
    {
      "cell_type": "markdown",
      "metadata": {
        "nbpresent": {
          "id": "197f2d49-3c28-4b7d-8347-c04c9afadde4"
        },
        "id": "Was6LeaUkj-F",
        "colab_type": "text"
      },
      "source": [
        "* ustawiamy orientację obrazków dla tensorflow: (https://keras.io/backend/)"
      ]
    },
    {
      "cell_type": "code",
      "metadata": {
        "nbpresent": {
          "id": "b12e0416-5720-4162-88ad-34e9d6da1441"
        },
        "id": "zyfzSp1ckj-G",
        "colab_type": "code",
        "colab": {}
      },
      "source": [
        "from keras import backend as K\n",
        "K.set_image_data_format('channels_first')"
      ],
      "execution_count": 0,
      "outputs": []
    },
    {
      "cell_type": "markdown",
      "metadata": {
        "id": "Knv1SXxXkj-H",
        "colab_type": "text"
      },
      "source": [
        "## Zbudujmy sieć o nastepującej architekturze:\n",
        "* warstwa konwolucyjna - 8 filtrów 3 x 3  (zatem wyjście: (28 - 3) / 1 + 1 = 26\n",
        "* warstwa zwężająca MaxPooling2D (przemieszczamy się po warstwie konwolucyjnej filtrem 2x2 i wybieramy max). Zmniejszamy wymiarowość warstwy. Redukujemy podatność na przeuczenie. Należy pamiętać, że zmniejszanie wymiarowości może odbyć sie kosztem utraty precyzji (używanie zwężania do stweirdzenia czy np. piłka jest na obrazku da dobre rezultaty, ale precyzyjna lokalizaca piłeczki już niekoniecznie ). \n",
        "* warstwa Dropout - regularyzacja, zapobiegamy przeuczeniu. Bardzo prosta zasada działania: usuń 20% jednostek (wraz z połączeniami)\n",
        "* Warstwa Flatten - dostosowujemy wymiary do warstwy FC\n",
        "* Warstwa Dense - fully conect, output. Jako aktywacje dajemy softmax. Na końcu kompulijemy model. "
      ]
    },
    {
      "cell_type": "markdown",
      "metadata": {
        "nbpresent": {
          "id": "e18164f0-d15e-49ed-9081-9f7827820f92"
        },
        "id": "roU3yQjHkj-I",
        "colab_type": "text"
      },
      "source": [
        "Importujemy warstwy:"
      ]
    },
    {
      "cell_type": "code",
      "metadata": {
        "id": "6GCdvO11kj-J",
        "colab_type": "code",
        "colab": {}
      },
      "source": [
        "from keras.layers import Convolution2D, MaxPooling2D, Conv2D, Dropout, Activation, Flatten"
      ],
      "execution_count": 0,
      "outputs": []
    },
    {
      "cell_type": "markdown",
      "metadata": {
        "id": "y4yrRrb-kj-L",
        "colab_type": "text"
      },
      "source": [
        "Składamy model i kompilujemy go:"
      ]
    },
    {
      "cell_type": "code",
      "metadata": {
        "nbpresent": {
          "id": "8aced5ac-d169-4c7b-b250-22628ac31d31"
        },
        "id": "zYpmM_S7kj-L",
        "colab_type": "code",
        "colab": {}
      },
      "source": [
        "model = Sequential()\n",
        "model.add(Conv2D(10, (3, 3), input_shape=(1, 28, 28), activation='relu'))\n",
        "model.add(MaxPooling2D(pool_size=(2, 2)))\n",
        "model.add(Conv2D(8, (3, 3), activation='relu'))\n",
        "model.add(Dropout(0.2))\n",
        "model.add(Flatten())\n",
        "model.add(Dense(1024, activation='relu'))\n",
        "model.add(Dense(num_classes, activation='softmax'))\n",
        "model.compile(loss='categorical_crossentropy', optimizer='adam', metrics=['accuracy'])"
      ],
      "execution_count": 0,
      "outputs": []
    },
    {
      "cell_type": "markdown",
      "metadata": {
        "id": "GwkbQWIYkj-N",
        "colab_type": "text"
      },
      "source": [
        "Policzmy ile parametrów ma nasz model:"
      ]
    },
    {
      "cell_type": "code",
      "metadata": {
        "id": "FW9TpMj3kj-O",
        "colab_type": "code",
        "colab": {
          "base_uri": "https://localhost:8080/",
          "height": 35
        },
        "outputId": "aa541504-cbe0-440c-dc5d-5bbbf413dce7"
      },
      "source": [
        "model.count_params()"
      ],
      "execution_count": 61,
      "outputs": [
        {
          "output_type": "execute_result",
          "data": {
            "text/plain": [
              "1003334"
            ]
          },
          "metadata": {
            "tags": []
          },
          "execution_count": 61
        }
      ]
    },
    {
      "cell_type": "markdown",
      "metadata": {
        "id": "NKiUjPXwkj-R",
        "colab_type": "text"
      },
      "source": [
        "Zobaczmy jego strukturę:"
      ]
    },
    {
      "cell_type": "code",
      "metadata": {
        "id": "uSFI3PzEkj-R",
        "colab_type": "code",
        "colab": {
          "base_uri": "https://localhost:8080/",
          "height": 786
        },
        "outputId": "1a5fc24a-f721-4866-9ac6-ce8b05a23f10"
      },
      "source": [
        "from IPython.display import SVG\n",
        "from keras.utils.vis_utils import model_to_dot\n",
        "tmp = model_to_dot(model, show_shapes=True, show_layer_names=False, dpi=65).create(prog='dot', format='svg')\n",
        "SVG(tmp)"
      ],
      "execution_count": 81,
      "outputs": [
        {
          "output_type": "execute_result",
          "data": {
            "text/plain": [
              "<IPython.core.display.SVG object>"
            ],
            "image/svg+xml": "<svg height=\"574pt\" viewBox=\"0.00 0.00 298.00 636.00\" width=\"269pt\" xmlns=\"http://www.w3.org/2000/svg\" xmlns:xlink=\"http://www.w3.org/1999/xlink\">\n<g class=\"graph\" id=\"graph0\" transform=\"scale(.9028 .9028) rotate(0) translate(4 632)\">\n<title>G</title>\n<polygon fill=\"#ffffff\" points=\"-4,4 -4,-632 294,-632 294,4 -4,4\" stroke=\"transparent\"/>\n<!-- 139657143229128 -->\n<g class=\"node\" id=\"node1\">\n<title>139657143229128</title>\n<polygon fill=\"none\" points=\"17.5,-581.5 17.5,-627.5 272.5,-627.5 272.5,-581.5 17.5,-581.5\" stroke=\"#000000\"/>\n<text fill=\"#000000\" font-family=\"Times,serif\" font-size=\"14.00\" text-anchor=\"middle\" x=\"57.5\" y=\"-600.8\">InputLayer</text>\n<polyline fill=\"none\" points=\"97.5,-581.5 97.5,-627.5 \" stroke=\"#000000\"/>\n<text fill=\"#000000\" font-family=\"Times,serif\" font-size=\"14.00\" text-anchor=\"middle\" x=\"126.5\" y=\"-612.3\">input:</text>\n<polyline fill=\"none\" points=\"97.5,-604.5 155.5,-604.5 \" stroke=\"#000000\"/>\n<text fill=\"#000000\" font-family=\"Times,serif\" font-size=\"14.00\" text-anchor=\"middle\" x=\"126.5\" y=\"-589.3\">output:</text>\n<polyline fill=\"none\" points=\"155.5,-581.5 155.5,-627.5 \" stroke=\"#000000\"/>\n<text fill=\"#000000\" font-family=\"Times,serif\" font-size=\"14.00\" text-anchor=\"middle\" x=\"214\" y=\"-612.3\">(None, 1, 28, 28)</text>\n<polyline fill=\"none\" points=\"155.5,-604.5 272.5,-604.5 \" stroke=\"#000000\"/>\n<text fill=\"#000000\" font-family=\"Times,serif\" font-size=\"14.00\" text-anchor=\"middle\" x=\"214\" y=\"-589.3\">(None, 1, 28, 28)</text>\n</g>\n<!-- 139657143228624 -->\n<g class=\"node\" id=\"node2\">\n<title>139657143228624</title>\n<polygon fill=\"none\" points=\"20,-498.5 20,-544.5 270,-544.5 270,-498.5 20,-498.5\" stroke=\"#000000\"/>\n<text fill=\"#000000\" font-family=\"Times,serif\" font-size=\"14.00\" text-anchor=\"middle\" x=\"53.5\" y=\"-517.8\">Conv2D</text>\n<polyline fill=\"none\" points=\"87,-498.5 87,-544.5 \" stroke=\"#000000\"/>\n<text fill=\"#000000\" font-family=\"Times,serif\" font-size=\"14.00\" text-anchor=\"middle\" x=\"116\" y=\"-529.3\">input:</text>\n<polyline fill=\"none\" points=\"87,-521.5 145,-521.5 \" stroke=\"#000000\"/>\n<text fill=\"#000000\" font-family=\"Times,serif\" font-size=\"14.00\" text-anchor=\"middle\" x=\"116\" y=\"-506.3\">output:</text>\n<polyline fill=\"none\" points=\"145,-498.5 145,-544.5 \" stroke=\"#000000\"/>\n<text fill=\"#000000\" font-family=\"Times,serif\" font-size=\"14.00\" text-anchor=\"middle\" x=\"207.5\" y=\"-529.3\">(None, 1, 28, 28)</text>\n<polyline fill=\"none\" points=\"145,-521.5 270,-521.5 \" stroke=\"#000000\"/>\n<text fill=\"#000000\" font-family=\"Times,serif\" font-size=\"14.00\" text-anchor=\"middle\" x=\"207.5\" y=\"-506.3\">(None, 10, 26, 26)</text>\n</g>\n<!-- 139657143229128&#45;&gt;139657143228624 -->\n<g class=\"edge\" id=\"edge1\">\n<title>139657143229128-&gt;139657143228624</title>\n<path d=\"M145,-581.3799C145,-573.1745 145,-563.7679 145,-554.8786\" fill=\"none\" stroke=\"#000000\"/>\n<polygon fill=\"#000000\" points=\"148.5001,-554.784 145,-544.784 141.5001,-554.784 148.5001,-554.784\" stroke=\"#000000\"/>\n</g>\n<!-- 139657279624808 -->\n<g class=\"node\" id=\"node3\">\n<title>139657279624808</title>\n<polygon fill=\"none\" points=\"0,-415.5 0,-461.5 290,-461.5 290,-415.5 0,-415.5\" stroke=\"#000000\"/>\n<text fill=\"#000000\" font-family=\"Times,serif\" font-size=\"14.00\" text-anchor=\"middle\" x=\"53.5\" y=\"-434.8\">MaxPooling2D</text>\n<polyline fill=\"none\" points=\"107,-415.5 107,-461.5 \" stroke=\"#000000\"/>\n<text fill=\"#000000\" font-family=\"Times,serif\" font-size=\"14.00\" text-anchor=\"middle\" x=\"136\" y=\"-446.3\">input:</text>\n<polyline fill=\"none\" points=\"107,-438.5 165,-438.5 \" stroke=\"#000000\"/>\n<text fill=\"#000000\" font-family=\"Times,serif\" font-size=\"14.00\" text-anchor=\"middle\" x=\"136\" y=\"-423.3\">output:</text>\n<polyline fill=\"none\" points=\"165,-415.5 165,-461.5 \" stroke=\"#000000\"/>\n<text fill=\"#000000\" font-family=\"Times,serif\" font-size=\"14.00\" text-anchor=\"middle\" x=\"227.5\" y=\"-446.3\">(None, 10, 26, 26)</text>\n<polyline fill=\"none\" points=\"165,-438.5 290,-438.5 \" stroke=\"#000000\"/>\n<text fill=\"#000000\" font-family=\"Times,serif\" font-size=\"14.00\" text-anchor=\"middle\" x=\"227.5\" y=\"-423.3\">(None, 10, 13, 13)</text>\n</g>\n<!-- 139657143228624&#45;&gt;139657279624808 -->\n<g class=\"edge\" id=\"edge2\">\n<title>139657143228624-&gt;139657279624808</title>\n<path d=\"M145,-498.3799C145,-490.1745 145,-480.7679 145,-471.8786\" fill=\"none\" stroke=\"#000000\"/>\n<polygon fill=\"#000000\" points=\"148.5001,-471.784 145,-461.784 141.5001,-471.784 148.5001,-471.784\" stroke=\"#000000\"/>\n</g>\n<!-- 139657143228736 -->\n<g class=\"node\" id=\"node4\">\n<title>139657143228736</title>\n<polygon fill=\"none\" points=\"20,-332.5 20,-378.5 270,-378.5 270,-332.5 20,-332.5\" stroke=\"#000000\"/>\n<text fill=\"#000000\" font-family=\"Times,serif\" font-size=\"14.00\" text-anchor=\"middle\" x=\"53.5\" y=\"-351.8\">Conv2D</text>\n<polyline fill=\"none\" points=\"87,-332.5 87,-378.5 \" stroke=\"#000000\"/>\n<text fill=\"#000000\" font-family=\"Times,serif\" font-size=\"14.00\" text-anchor=\"middle\" x=\"116\" y=\"-363.3\">input:</text>\n<polyline fill=\"none\" points=\"87,-355.5 145,-355.5 \" stroke=\"#000000\"/>\n<text fill=\"#000000\" font-family=\"Times,serif\" font-size=\"14.00\" text-anchor=\"middle\" x=\"116\" y=\"-340.3\">output:</text>\n<polyline fill=\"none\" points=\"145,-332.5 145,-378.5 \" stroke=\"#000000\"/>\n<text fill=\"#000000\" font-family=\"Times,serif\" font-size=\"14.00\" text-anchor=\"middle\" x=\"207.5\" y=\"-363.3\">(None, 10, 13, 13)</text>\n<polyline fill=\"none\" points=\"145,-355.5 270,-355.5 \" stroke=\"#000000\"/>\n<text fill=\"#000000\" font-family=\"Times,serif\" font-size=\"14.00\" text-anchor=\"middle\" x=\"207.5\" y=\"-340.3\">(None, 8, 11, 11)</text>\n</g>\n<!-- 139657279624808&#45;&gt;139657143228736 -->\n<g class=\"edge\" id=\"edge3\">\n<title>139657279624808-&gt;139657143228736</title>\n<path d=\"M145,-415.3799C145,-407.1745 145,-397.7679 145,-388.8786\" fill=\"none\" stroke=\"#000000\"/>\n<polygon fill=\"#000000\" points=\"148.5001,-388.784 145,-378.784 141.5001,-388.784 148.5001,-388.784\" stroke=\"#000000\"/>\n</g>\n<!-- 139657142775536 -->\n<g class=\"node\" id=\"node5\">\n<title>139657142775536</title>\n<polygon fill=\"none\" points=\"25.5,-249.5 25.5,-295.5 264.5,-295.5 264.5,-249.5 25.5,-249.5\" stroke=\"#000000\"/>\n<text fill=\"#000000\" font-family=\"Times,serif\" font-size=\"14.00\" text-anchor=\"middle\" x=\"58\" y=\"-268.8\">Dropout</text>\n<polyline fill=\"none\" points=\"90.5,-249.5 90.5,-295.5 \" stroke=\"#000000\"/>\n<text fill=\"#000000\" font-family=\"Times,serif\" font-size=\"14.00\" text-anchor=\"middle\" x=\"119.5\" y=\"-280.3\">input:</text>\n<polyline fill=\"none\" points=\"90.5,-272.5 148.5,-272.5 \" stroke=\"#000000\"/>\n<text fill=\"#000000\" font-family=\"Times,serif\" font-size=\"14.00\" text-anchor=\"middle\" x=\"119.5\" y=\"-257.3\">output:</text>\n<polyline fill=\"none\" points=\"148.5,-249.5 148.5,-295.5 \" stroke=\"#000000\"/>\n<text fill=\"#000000\" font-family=\"Times,serif\" font-size=\"14.00\" text-anchor=\"middle\" x=\"206.5\" y=\"-280.3\">(None, 8, 11, 11)</text>\n<polyline fill=\"none\" points=\"148.5,-272.5 264.5,-272.5 \" stroke=\"#000000\"/>\n<text fill=\"#000000\" font-family=\"Times,serif\" font-size=\"14.00\" text-anchor=\"middle\" x=\"206.5\" y=\"-257.3\">(None, 8, 11, 11)</text>\n</g>\n<!-- 139657143228736&#45;&gt;139657142775536 -->\n<g class=\"edge\" id=\"edge4\">\n<title>139657143228736-&gt;139657142775536</title>\n<path d=\"M145,-332.3799C145,-324.1745 145,-314.7679 145,-305.8786\" fill=\"none\" stroke=\"#000000\"/>\n<polygon fill=\"#000000\" points=\"148.5001,-305.784 145,-295.784 141.5001,-305.784 148.5001,-305.784\" stroke=\"#000000\"/>\n</g>\n<!-- 139657142750624 -->\n<g class=\"node\" id=\"node6\">\n<title>139657142750624</title>\n<polygon fill=\"none\" points=\"30,-166.5 30,-212.5 260,-212.5 260,-166.5 30,-166.5\" stroke=\"#000000\"/>\n<text fill=\"#000000\" font-family=\"Times,serif\" font-size=\"14.00\" text-anchor=\"middle\" x=\"58\" y=\"-185.8\">Flatten</text>\n<polyline fill=\"none\" points=\"86,-166.5 86,-212.5 \" stroke=\"#000000\"/>\n<text fill=\"#000000\" font-family=\"Times,serif\" font-size=\"14.00\" text-anchor=\"middle\" x=\"115\" y=\"-197.3\">input:</text>\n<polyline fill=\"none\" points=\"86,-189.5 144,-189.5 \" stroke=\"#000000\"/>\n<text fill=\"#000000\" font-family=\"Times,serif\" font-size=\"14.00\" text-anchor=\"middle\" x=\"115\" y=\"-174.3\">output:</text>\n<polyline fill=\"none\" points=\"144,-166.5 144,-212.5 \" stroke=\"#000000\"/>\n<text fill=\"#000000\" font-family=\"Times,serif\" font-size=\"14.00\" text-anchor=\"middle\" x=\"202\" y=\"-197.3\">(None, 8, 11, 11)</text>\n<polyline fill=\"none\" points=\"144,-189.5 260,-189.5 \" stroke=\"#000000\"/>\n<text fill=\"#000000\" font-family=\"Times,serif\" font-size=\"14.00\" text-anchor=\"middle\" x=\"202\" y=\"-174.3\">(None, 968)</text>\n</g>\n<!-- 139657142775536&#45;&gt;139657142750624 -->\n<g class=\"edge\" id=\"edge5\">\n<title>139657142775536-&gt;139657142750624</title>\n<path d=\"M145,-249.3799C145,-241.1745 145,-231.7679 145,-222.8786\" fill=\"none\" stroke=\"#000000\"/>\n<polygon fill=\"#000000\" points=\"148.5001,-222.784 145,-212.784 141.5001,-222.784 148.5001,-222.784\" stroke=\"#000000\"/>\n</g>\n<!-- 139657142749056 -->\n<g class=\"node\" id=\"node7\">\n<title>139657142749056</title>\n<polygon fill=\"none\" points=\"42.5,-83.5 42.5,-129.5 247.5,-129.5 247.5,-83.5 42.5,-83.5\" stroke=\"#000000\"/>\n<text fill=\"#000000\" font-family=\"Times,serif\" font-size=\"14.00\" text-anchor=\"middle\" x=\"68.5\" y=\"-102.8\">Dense</text>\n<polyline fill=\"none\" points=\"94.5,-83.5 94.5,-129.5 \" stroke=\"#000000\"/>\n<text fill=\"#000000\" font-family=\"Times,serif\" font-size=\"14.00\" text-anchor=\"middle\" x=\"123.5\" y=\"-114.3\">input:</text>\n<polyline fill=\"none\" points=\"94.5,-106.5 152.5,-106.5 \" stroke=\"#000000\"/>\n<text fill=\"#000000\" font-family=\"Times,serif\" font-size=\"14.00\" text-anchor=\"middle\" x=\"123.5\" y=\"-91.3\">output:</text>\n<polyline fill=\"none\" points=\"152.5,-83.5 152.5,-129.5 \" stroke=\"#000000\"/>\n<text fill=\"#000000\" font-family=\"Times,serif\" font-size=\"14.00\" text-anchor=\"middle\" x=\"200\" y=\"-114.3\">(None, 968)</text>\n<polyline fill=\"none\" points=\"152.5,-106.5 247.5,-106.5 \" stroke=\"#000000\"/>\n<text fill=\"#000000\" font-family=\"Times,serif\" font-size=\"14.00\" text-anchor=\"middle\" x=\"200\" y=\"-91.3\">(None, 1024)</text>\n</g>\n<!-- 139657142750624&#45;&gt;139657142749056 -->\n<g class=\"edge\" id=\"edge6\">\n<title>139657142750624-&gt;139657142749056</title>\n<path d=\"M145,-166.3799C145,-158.1745 145,-148.7679 145,-139.8786\" fill=\"none\" stroke=\"#000000\"/>\n<polygon fill=\"#000000\" points=\"148.5001,-139.784 145,-129.784 141.5001,-139.784 148.5001,-139.784\" stroke=\"#000000\"/>\n</g>\n<!-- 139657142906216 -->\n<g class=\"node\" id=\"node8\">\n<title>139657142906216</title>\n<polygon fill=\"none\" points=\"42.5,-.5 42.5,-46.5 247.5,-46.5 247.5,-.5 42.5,-.5\" stroke=\"#000000\"/>\n<text fill=\"#000000\" font-family=\"Times,serif\" font-size=\"14.00\" text-anchor=\"middle\" x=\"68.5\" y=\"-19.8\">Dense</text>\n<polyline fill=\"none\" points=\"94.5,-.5 94.5,-46.5 \" stroke=\"#000000\"/>\n<text fill=\"#000000\" font-family=\"Times,serif\" font-size=\"14.00\" text-anchor=\"middle\" x=\"123.5\" y=\"-31.3\">input:</text>\n<polyline fill=\"none\" points=\"94.5,-23.5 152.5,-23.5 \" stroke=\"#000000\"/>\n<text fill=\"#000000\" font-family=\"Times,serif\" font-size=\"14.00\" text-anchor=\"middle\" x=\"123.5\" y=\"-8.3\">output:</text>\n<polyline fill=\"none\" points=\"152.5,-.5 152.5,-46.5 \" stroke=\"#000000\"/>\n<text fill=\"#000000\" font-family=\"Times,serif\" font-size=\"14.00\" text-anchor=\"middle\" x=\"200\" y=\"-31.3\">(None, 1024)</text>\n<polyline fill=\"none\" points=\"152.5,-23.5 247.5,-23.5 \" stroke=\"#000000\"/>\n<text fill=\"#000000\" font-family=\"Times,serif\" font-size=\"14.00\" text-anchor=\"middle\" x=\"200\" y=\"-8.3\">(None, 10)</text>\n</g>\n<!-- 139657142749056&#45;&gt;139657142906216 -->\n<g class=\"edge\" id=\"edge7\">\n<title>139657142749056-&gt;139657142906216</title>\n<path d=\"M145,-83.3799C145,-75.1745 145,-65.7679 145,-56.8786\" fill=\"none\" stroke=\"#000000\"/>\n<polygon fill=\"#000000\" points=\"148.5001,-56.784 145,-46.784 141.5001,-56.784 148.5001,-56.784\" stroke=\"#000000\"/>\n</g>\n</g>\n</svg>"
          },
          "metadata": {
            "tags": []
          },
          "execution_count": 81
        }
      ]
    },
    {
      "cell_type": "code",
      "metadata": {
        "nbpresent": {
          "id": "dbfccc3e-a0e2-4d4a-872a-69b973b08dda"
        },
        "id": "8UnLZJ8Wkj-U",
        "colab_type": "code",
        "colab": {
          "base_uri": "https://localhost:8080/",
          "height": 1000
        },
        "outputId": "186ce12f-e1d2-4884-dc1f-b93328e66c1b"
      },
      "source": [
        "fit = model.fit(X_train, y_train, validation_data=(X_test, y_test),\n",
        "          epochs=30, batch_size=200, verbose=1)\n"
      ],
      "execution_count": 82,
      "outputs": [
        {
          "output_type": "stream",
          "text": [
            "Train on 60000 samples, validate on 10000 samples\n",
            "Epoch 1/30\n",
            "60000/60000 [==============================] - 36s 597us/step - loss: 0.2677 - acc: 0.9196 - val_loss: 0.0764 - val_acc: 0.9761\n",
            "Epoch 2/30\n",
            "60000/60000 [==============================] - 35s 576us/step - loss: 0.0816 - acc: 0.9753 - val_loss: 0.0483 - val_acc: 0.9846\n",
            "Epoch 3/30\n",
            "60000/60000 [==============================] - 35s 581us/step - loss: 0.0567 - acc: 0.9827 - val_loss: 0.0430 - val_acc: 0.9847\n",
            "Epoch 4/30\n",
            "60000/60000 [==============================] - 35s 577us/step - loss: 0.0419 - acc: 0.9868 - val_loss: 0.0345 - val_acc: 0.9887\n",
            "Epoch 5/30\n",
            "60000/60000 [==============================] - 35s 576us/step - loss: 0.0323 - acc: 0.9898 - val_loss: 0.0295 - val_acc: 0.9910\n",
            "Epoch 6/30\n",
            "60000/60000 [==============================] - 35s 577us/step - loss: 0.0267 - acc: 0.9915 - val_loss: 0.0305 - val_acc: 0.9906\n",
            "Epoch 7/30\n",
            "60000/60000 [==============================] - 35s 575us/step - loss: 0.0230 - acc: 0.9922 - val_loss: 0.0292 - val_acc: 0.9896\n",
            "Epoch 8/30\n",
            "60000/60000 [==============================] - 35s 576us/step - loss: 0.0197 - acc: 0.9937 - val_loss: 0.0318 - val_acc: 0.9900\n",
            "Epoch 9/30\n",
            "60000/60000 [==============================] - 35s 576us/step - loss: 0.0182 - acc: 0.9941 - val_loss: 0.0321 - val_acc: 0.9900\n",
            "Epoch 10/30\n",
            "60000/60000 [==============================] - 35s 580us/step - loss: 0.0136 - acc: 0.9956 - val_loss: 0.0325 - val_acc: 0.9901\n",
            "Epoch 11/30\n",
            "60000/60000 [==============================] - 35s 581us/step - loss: 0.0132 - acc: 0.9956 - val_loss: 0.0306 - val_acc: 0.9902\n",
            "Epoch 12/30\n",
            "60000/60000 [==============================] - 35s 582us/step - loss: 0.0109 - acc: 0.9963 - val_loss: 0.0338 - val_acc: 0.9898\n",
            "Epoch 13/30\n",
            "60000/60000 [==============================] - 35s 576us/step - loss: 0.0107 - acc: 0.9967 - val_loss: 0.0334 - val_acc: 0.9904\n",
            "Epoch 14/30\n",
            "60000/60000 [==============================] - 35s 575us/step - loss: 0.0101 - acc: 0.9968 - val_loss: 0.0295 - val_acc: 0.9914\n",
            "Epoch 15/30\n",
            "60000/60000 [==============================] - 35s 576us/step - loss: 0.0081 - acc: 0.9972 - val_loss: 0.0350 - val_acc: 0.9909\n",
            "Epoch 16/30\n",
            "60000/60000 [==============================] - 34s 573us/step - loss: 0.0096 - acc: 0.9969 - val_loss: 0.0344 - val_acc: 0.9914\n",
            "Epoch 17/30\n",
            "60000/60000 [==============================] - 34s 574us/step - loss: 0.0060 - acc: 0.9981 - val_loss: 0.0346 - val_acc: 0.9917\n",
            "Epoch 18/30\n",
            "60000/60000 [==============================] - 34s 575us/step - loss: 0.0072 - acc: 0.9976 - val_loss: 0.0345 - val_acc: 0.9917\n",
            "Epoch 19/30\n",
            "60000/60000 [==============================] - 35s 577us/step - loss: 0.0071 - acc: 0.9977 - val_loss: 0.0351 - val_acc: 0.9903\n",
            "Epoch 20/30\n",
            "60000/60000 [==============================] - 35s 576us/step - loss: 0.0065 - acc: 0.9978 - val_loss: 0.0332 - val_acc: 0.9906\n",
            "Epoch 21/30\n",
            "60000/60000 [==============================] - 34s 575us/step - loss: 0.0068 - acc: 0.9977 - val_loss: 0.0326 - val_acc: 0.9900\n",
            "Epoch 22/30\n",
            "60000/60000 [==============================] - 34s 575us/step - loss: 0.0060 - acc: 0.9981 - val_loss: 0.0344 - val_acc: 0.9900\n",
            "Epoch 23/30\n",
            "60000/60000 [==============================] - 34s 574us/step - loss: 0.0057 - acc: 0.9982 - val_loss: 0.0344 - val_acc: 0.9907\n",
            "Epoch 24/30\n",
            "60000/60000 [==============================] - 34s 571us/step - loss: 0.0056 - acc: 0.9981 - val_loss: 0.0341 - val_acc: 0.9916\n",
            "Epoch 25/30\n",
            "60000/60000 [==============================] - 35s 575us/step - loss: 0.0055 - acc: 0.9981 - val_loss: 0.0389 - val_acc: 0.9905\n",
            "Epoch 26/30\n",
            "60000/60000 [==============================] - 34s 574us/step - loss: 0.0057 - acc: 0.9981 - val_loss: 0.0355 - val_acc: 0.9920\n",
            "Epoch 27/30\n",
            "60000/60000 [==============================] - 35s 581us/step - loss: 0.0050 - acc: 0.9983 - val_loss: 0.0326 - val_acc: 0.9922\n",
            "Epoch 28/30\n",
            "60000/60000 [==============================] - 35s 576us/step - loss: 0.0047 - acc: 0.9987 - val_loss: 0.0402 - val_acc: 0.9908\n",
            "Epoch 29/30\n",
            "60000/60000 [==============================] - 34s 572us/step - loss: 0.0039 - acc: 0.9987 - val_loss: 0.0360 - val_acc: 0.9923\n",
            "Epoch 30/30\n",
            "60000/60000 [==============================] - 35s 578us/step - loss: 0.0041 - acc: 0.9987 - val_loss: 0.0370 - val_acc: 0.9920\n"
          ],
          "name": "stdout"
        }
      ]
    },
    {
      "cell_type": "markdown",
      "metadata": {
        "id": "Asp20FGjkj-X",
        "colab_type": "text"
      },
      "source": [
        "## Zobaczmy historię funkcji błędu i dokładności "
      ]
    },
    {
      "cell_type": "code",
      "metadata": {
        "id": "lTHFsJjRkj-Y",
        "colab_type": "code",
        "colab": {
          "base_uri": "https://localhost:8080/",
          "height": 559
        },
        "outputId": "14b7770c-b444-48e5-ea64-5dcde5cf4918"
      },
      "source": [
        "plt.figure()\n",
        "plt.plot(fit.history['val_loss'] )# na zbiorze walidacyjnym\n",
        "plt.plot(fit.history['loss'])# na zb. uczącym \n",
        "plt.legend(('zb. walidacyjny', 'zb. uczący'))\n",
        "plt.xlabel('epoki')\n",
        "plt.ylabel('błąd')\n",
        "plt.show()\n",
        "\n",
        "plt.figure()\n",
        "plt.plot(fit.history['val_acc'] )# na zbiorze walidacyjnym\n",
        "plt.plot(fit.history['acc'])# na zb. uczącym \n",
        "plt.legend(('zb. walidacyjny', 'zb. uczący'))\n",
        "plt.xlabel('epoki')\n",
        "plt.ylabel('dokładność')\n",
        "plt.show()\n",
        "\n",
        "scores = model.evaluate(X_test, y_test, verbose=0)\n",
        "print(\"Błąd na zbiorze testowym: %.2f%%\" % (100-scores[1]*100))"
      ],
      "execution_count": 83,
      "outputs": [
        {
          "output_type": "display_data",
          "data": {
            "image/png": "[encoded data removed]",
            "text/plain": [
              "<Figure size 432x288 with 1 Axes>"
            ]
          },
          "metadata": {
            "tags": []
          }
        },
        {
          "output_type": "display_data",
          "data": {
            "image/png": "[encoded data removed]",
            "text/plain": [
              "<Figure size 432x288 with 1 Axes>"
            ]
          },
          "metadata": {
            "tags": []
          }
        },
        {
          "output_type": "stream",
          "text": [
            "Błąd na zbiorze testowym: 0.80%\n"
          ],
          "name": "stdout"
        }
      ]
    },
    {
      "cell_type": "markdown",
      "metadata": {
        "id": "ipSHhVp2kj-b",
        "colab_type": "text"
      },
      "source": [
        "Sprawdźmy macierz pomyłek:"
      ]
    },
    {
      "cell_type": "code",
      "metadata": {
        "id": "JEDCOuaQkj-c",
        "colab_type": "code",
        "colab": {
          "base_uri": "https://localhost:8080/",
          "height": 201
        },
        "outputId": "49b1dfea-ccd6-45d0-f31c-e78624001eb7"
      },
      "source": [
        "y_pred = model.predict(X_test)\n",
        "cm = confusion_matrix(np.argmax(y_test,axis =1), np.argmax(y_pred,axis =1))\n",
        "print(cm)"
      ],
      "execution_count": 84,
      "outputs": [
        {
          "output_type": "stream",
          "text": [
            "[[ 977    0    1    0    0    0    1    1    0    0]\n",
            " [   0 1133    0    1    0    0    1    0    0    0]\n",
            " [   1    0 1027    0    0    0    1    3    0    0]\n",
            " [   0    0    1 1000    0    5    0    1    2    1]\n",
            " [   0    0    3    0  970    0    1    0    0    8]\n",
            " [   1    0    0    5    0  882    2    0    0    2]\n",
            " [   3    3    0    0    1    2  949    0    0    0]\n",
            " [   0    1    3    0    0    0    0 1020    1    3]\n",
            " [   2    0    3    1    0    0    0    0  967    1]\n",
            " [   1    2    0    0    5    1    0    4    1  995]]\n"
          ],
          "name": "stdout"
        }
      ]
    },
    {
      "cell_type": "markdown",
      "metadata": {
        "nbpresent": {
          "id": "868c3801-4053-4819-830b-0207fa774d6f"
        },
        "id": "XJDmQimrkj-g",
        "colab_type": "text"
      },
      "source": [
        "## Podobnie jak dla poprzedniego modelu, wyświetlmy kilka źle sklasyfikowanych rekordów"
      ]
    },
    {
      "cell_type": "code",
      "metadata": {
        "nbpresent": {
          "id": "c282d8fd-700d-40ef-8442-8dcb00b463f6"
        },
        "id": "enrJf8o4kj-g",
        "colab_type": "code",
        "colab": {}
      },
      "source": [
        "predict = model.predict_classes(X_test)\n",
        "\n",
        "miss_classified = np.unique(\n",
        "                    np.nonzero(\n",
        "                        to_categorical(predict) != y_test)[0])\n",
        "\n",
        "\n"
      ],
      "execution_count": 0,
      "outputs": []
    },
    {
      "cell_type": "code",
      "metadata": {
        "nbpresent": {
          "id": "04d08b3a-ff02-4b31-a828-a93d6610ce0e"
        },
        "id": "4lbvINfekj-i",
        "colab_type": "code",
        "colab": {
          "base_uri": "https://localhost:8080/",
          "height": 373
        },
        "outputId": "06170ce6-d76f-4f97-d74a-bd3da56a086b"
      },
      "source": [
        "for i, incorrect in enumerate(miss_classified[:4]):\n",
        "    fig = plt.gcf()\n",
        "    fig.set_size_inches(14,6)\n",
        "    plt.subplot(2,2,i+1)\n",
        "    plt.imshow(X_test[incorrect].reshape(28,28), cmap='gray', interpolation='none')\n",
        "    plt.title(\"Predicted={}, True={}\".format(predict[incorrect], np.nonzero(y_test[incorrect])[0][0]))\n",
        "    plt.axis(\"off\")"
      ],
      "execution_count": 86,
      "outputs": [
        {
          "output_type": "display_data",
          "data": {
            "image/png": "[encoded data removed]",
            "text/plain": [
              "<Figure size 1008x432 with 4 Axes>"
            ]
          },
          "metadata": {
            "tags": []
          }
        }
      ]
    },
    {
      "cell_type": "markdown",
      "metadata": {
        "nbpresent": {
          "id": "9fae0003-fec8-4bfb-8142-c5790b975e4e"
        },
        "id": "_xXUUWVZkj-l",
        "colab_type": "text"
      },
      "source": [
        "## Warto spróbować:##\n",
        "* Wpływ algorytmu optymalizacyjnego na szybkość uczenia\n",
        "* Wpływ wielkości batcha na tempo uczenia\n",
        "* Efekty przeuczenia przy zbyt dużej liczbie parametrów: \n",
        "  * ustaw rozmiar warstwy wejściowej w modelu gęstym na 256 -> naucz model i obejrzyj wykresy zbiegania funkji kosztu i miary dokładności dla danych uczących i testowych\n",
        "  * Wypróbuj inne architektury sieci głębokiej (konwolucyjnej) -> wymyśl własną kombinację warstw i ich parametrów i zbadaj jakość tej architektury\n",
        "* dla ustalonego modelu zbadaj krzywe uczenia, czyli zależność funkcji kosztu od liczby przykładów uczących na zbiorze uczącym i testowym (to może trochę potrwać ;))"
      ]
    },
    {
      "cell_type": "markdown",
      "metadata": {
        "id": "loTl6PLEVW4Q",
        "colab_type": "text"
      },
      "source": [
        "## Zadania na dzisiaj:##\n",
        "* Porównanie błędu DNN i CNN. Czemu jedno radzi sobie lepiej niż drugie?\n",
        "* Dokładny opis warstw CNN (własnymi słowami). Źródło: wykład, internet.\n",
        "* Własny model CNN + trening + zapisać błąd."
      ]
    },
    {
      "cell_type": "markdown",
      "metadata": {
        "id": "_m0wFy8N9lVU",
        "colab_type": "text"
      },
      "source": [
        "Algorytm optymalizacyjny może polepszać szybkość uczenia na epokę ale zwykle kosztem wydłużenia czasu obliczeń. Taki sam wpływ ma zwiększenie rozmiaru batcha. Przeuczenie jest związane ze zbyt dużą liczbą parametrów sieci - sieć dzięki temu może za dobrze dopasować swoje działanie do danych trenujących co ewentuanie powoduje większe błędy na innych danych (np. testowych).\n",
        "\n",
        "1. W przpadku analizy obrazów ważne jest rozpoznawanie detali - lokalnego ułożenia pikseli w przestrzeni (np. detekcji linii). Jest to informacja lokalna, którą dobrze uzyskać wykonując splot z pewną małą macierzą (jak w sieciach CNN). W przypadku sieci DNN wpływ na ustalenie wag mają wszystkie piksele (sieć CNN \"nie widzi\" lokalnego ułożenia pikseli; traktuje je wszystkie równorzędnie) więc trudnej jest wyłapywać lokalne związki między pikselami które ze sobą sąsiadują.\n",
        "2. \n",
        "\n",
        "  a) warstwa konwolucyjna - główny składnik sieci CNN. Składa się z zestawu filtrów które mogą sę uczyć (są adaptowalne). Jeśli obraz wejściowy ma kilka kanałów (np. 3 kanały dla RGB) to filtrem jest efektywnie zestaw filtrów dla każdego kanału. Każdy filtr ma jądro (macierz) z którą splatany jest (odpowiedni iloczyn skalarny) obraz wejściowy. Wynikiem jest mapa aktywacji dla danego filtra w każdym kanale. Mapy aktywacji dla danego filtra układane są na stercie wzdłuż wymiaru głębokości sieci i dostajemy obraz wyjściowy (sumę) dla danego filtra. Na wyjściu mmay więc tyle obrazów ile filtrów (tutaj filtr= de facto zestaw N filtrów jak na wejściu mamy N kanałów). Zadaniem tej warstwy jest detekcja detali (lokalnych konfiguracji pikseli).\n",
        "\n",
        "  b) warsta łącząca - dokokuje tzw. próbkowania przestzrennego czyli np. liczenia max w danym okienku. W efekcie następuje uproszczenie: redukcja liczby danych co przyspiesza obiczenia i zapobiega overfitingowi.\n",
        "\n",
        "  c) warstwa ReLU - stosuje funkcję aktywacji ReLU (tzn. max(x,0)) z zerowym progiem. Rozmiar danych nie ulega zmianie.\n",
        "\n",
        "  d) warstwa strat - odrzucamy część neuronów w warstwie razem z połączniami. Przypsiesza obliczenia i zapobiega overfittingowi.\n",
        "\n",
        "  e) warstwa gęsta - neurony połączone każdy z każdym z sąsiednimi warstwami. Służy do obliczenia wyniku klasyfikacji - redukuje wymiar do wyjściowego (1 neuron = 1 klasa). Jest uczona metodami uczenia nadzorowanego (np. wstecznej propagacji błędów).\n",
        "\n",
        "3. Zaproponowano architekturę która jest podobna do poprzedniej lecz posiada dodatkową warstwę łączącą. Ponadto zmniejszono liczbę odrzuconych neuronów w warstwie strat do 10%."
      ]
    },
    {
      "cell_type": "code",
      "metadata": {
        "id": "Ayqjp4ebnIHY",
        "colab_type": "code",
        "colab": {
          "base_uri": "https://localhost:8080/",
          "height": 886
        },
        "outputId": "9168482b-2c9c-4582-f13a-b0c60a6edf23"
      },
      "source": [
        "from keras.layers import Convolution2D, MaxPooling2D, Conv2D, Dropout, Activation, Flatten\n",
        "\n",
        "model = Sequential()\n",
        "model.add(Conv2D(5, (3, 3), input_shape=(1, 28, 28), activation='relu'))\n",
        "model.add(MaxPooling2D(pool_size=(2, 2)))\n",
        "model.add(Conv2D(5, (3, 3), input_shape=(1, 28, 28), activation='relu'))\n",
        "model.add(MaxPooling2D(pool_size=(2, 2)))\n",
        "model.add(Dropout(0.1))\n",
        "model.add(Flatten())\n",
        "model.add(Dense(1024, activation='relu'))\n",
        "model.add(Dense(num_classes, activation='softmax'))\n",
        "model.compile(loss='categorical_crossentropy', optimizer='adam', metrics=['accuracy'])\n",
        "\n",
        "model.count_params()\n",
        "from IPython.display import SVG\n",
        "from keras.utils.vis_utils import model_to_dot\n",
        "tmp = model_to_dot(model, show_shapes=True, show_layer_names=False, dpi=65).create(prog='dot', format='svg')\n",
        "SVG(tmp)\n",
        "\n"
      ],
      "execution_count": 69,
      "outputs": [
        {
          "output_type": "execute_result",
          "data": {
            "text/plain": [
              "<IPython.core.display.SVG object>"
            ],
            "image/svg+xml": "<svg height=\"649pt\" viewBox=\"0.00 0.00 290.00 719.00\" width=\"262pt\" xmlns=\"http://www.w3.org/2000/svg\" xmlns:xlink=\"http://www.w3.org/1999/xlink\">\n<g class=\"graph\" id=\"graph0\" transform=\"scale(.9028 .9028) rotate(0) translate(4 715)\">\n<title>G</title>\n<polygon fill=\"#ffffff\" points=\"-4,4 -4,-715 286,-715 286,4 -4,4\" stroke=\"transparent\"/>\n<!-- 139657514411288 -->\n<g class=\"node\" id=\"node1\">\n<title>139657514411288</title>\n<polygon fill=\"none\" points=\"13.5,-664.5 13.5,-710.5 268.5,-710.5 268.5,-664.5 13.5,-664.5\" stroke=\"#000000\"/>\n<text fill=\"#000000\" font-family=\"Times,serif\" font-size=\"14.00\" text-anchor=\"middle\" x=\"53.5\" y=\"-683.8\">InputLayer</text>\n<polyline fill=\"none\" points=\"93.5,-664.5 93.5,-710.5 \" stroke=\"#000000\"/>\n<text fill=\"#000000\" font-family=\"Times,serif\" font-size=\"14.00\" text-anchor=\"middle\" x=\"122.5\" y=\"-695.3\">input:</text>\n<polyline fill=\"none\" points=\"93.5,-687.5 151.5,-687.5 \" stroke=\"#000000\"/>\n<text fill=\"#000000\" font-family=\"Times,serif\" font-size=\"14.00\" text-anchor=\"middle\" x=\"122.5\" y=\"-672.3\">output:</text>\n<polyline fill=\"none\" points=\"151.5,-664.5 151.5,-710.5 \" stroke=\"#000000\"/>\n<text fill=\"#000000\" font-family=\"Times,serif\" font-size=\"14.00\" text-anchor=\"middle\" x=\"210\" y=\"-695.3\">(None, 1, 28, 28)</text>\n<polyline fill=\"none\" points=\"151.5,-687.5 268.5,-687.5 \" stroke=\"#000000\"/>\n<text fill=\"#000000\" font-family=\"Times,serif\" font-size=\"14.00\" text-anchor=\"middle\" x=\"210\" y=\"-672.3\">(None, 1, 28, 28)</text>\n</g>\n<!-- 139657145514304 -->\n<g class=\"node\" id=\"node2\">\n<title>139657145514304</title>\n<polygon fill=\"none\" points=\"20,-581.5 20,-627.5 262,-627.5 262,-581.5 20,-581.5\" stroke=\"#000000\"/>\n<text fill=\"#000000\" font-family=\"Times,serif\" font-size=\"14.00\" text-anchor=\"middle\" x=\"53.5\" y=\"-600.8\">Conv2D</text>\n<polyline fill=\"none\" points=\"87,-581.5 87,-627.5 \" stroke=\"#000000\"/>\n<text fill=\"#000000\" font-family=\"Times,serif\" font-size=\"14.00\" text-anchor=\"middle\" x=\"116\" y=\"-612.3\">input:</text>\n<polyline fill=\"none\" points=\"87,-604.5 145,-604.5 \" stroke=\"#000000\"/>\n<text fill=\"#000000\" font-family=\"Times,serif\" font-size=\"14.00\" text-anchor=\"middle\" x=\"116\" y=\"-589.3\">output:</text>\n<polyline fill=\"none\" points=\"145,-581.5 145,-627.5 \" stroke=\"#000000\"/>\n<text fill=\"#000000\" font-family=\"Times,serif\" font-size=\"14.00\" text-anchor=\"middle\" x=\"203.5\" y=\"-612.3\">(None, 1, 28, 28)</text>\n<polyline fill=\"none\" points=\"145,-604.5 262,-604.5 \" stroke=\"#000000\"/>\n<text fill=\"#000000\" font-family=\"Times,serif\" font-size=\"14.00\" text-anchor=\"middle\" x=\"203.5\" y=\"-589.3\">(None, 5, 26, 26)</text>\n</g>\n<!-- 139657514411288&#45;&gt;139657145514304 -->\n<g class=\"edge\" id=\"edge1\">\n<title>139657514411288-&gt;139657145514304</title>\n<path d=\"M141,-664.3799C141,-656.1745 141,-646.7679 141,-637.8786\" fill=\"none\" stroke=\"#000000\"/>\n<polygon fill=\"#000000\" points=\"144.5001,-637.784 141,-627.784 137.5001,-637.784 144.5001,-637.784\" stroke=\"#000000\"/>\n</g>\n<!-- 139657285859424 -->\n<g class=\"node\" id=\"node3\">\n<title>139657285859424</title>\n<polygon fill=\"none\" points=\"0,-498.5 0,-544.5 282,-544.5 282,-498.5 0,-498.5\" stroke=\"#000000\"/>\n<text fill=\"#000000\" font-family=\"Times,serif\" font-size=\"14.00\" text-anchor=\"middle\" x=\"53.5\" y=\"-517.8\">MaxPooling2D</text>\n<polyline fill=\"none\" points=\"107,-498.5 107,-544.5 \" stroke=\"#000000\"/>\n<text fill=\"#000000\" font-family=\"Times,serif\" font-size=\"14.00\" text-anchor=\"middle\" x=\"136\" y=\"-529.3\">input:</text>\n<polyline fill=\"none\" points=\"107,-521.5 165,-521.5 \" stroke=\"#000000\"/>\n<text fill=\"#000000\" font-family=\"Times,serif\" font-size=\"14.00\" text-anchor=\"middle\" x=\"136\" y=\"-506.3\">output:</text>\n<polyline fill=\"none\" points=\"165,-498.5 165,-544.5 \" stroke=\"#000000\"/>\n<text fill=\"#000000\" font-family=\"Times,serif\" font-size=\"14.00\" text-anchor=\"middle\" x=\"223.5\" y=\"-529.3\">(None, 5, 26, 26)</text>\n<polyline fill=\"none\" points=\"165,-521.5 282,-521.5 \" stroke=\"#000000\"/>\n<text fill=\"#000000\" font-family=\"Times,serif\" font-size=\"14.00\" text-anchor=\"middle\" x=\"223.5\" y=\"-506.3\">(None, 5, 13, 13)</text>\n</g>\n<!-- 139657145514304&#45;&gt;139657285859424 -->\n<g class=\"edge\" id=\"edge2\">\n<title>139657145514304-&gt;139657285859424</title>\n<path d=\"M141,-581.3799C141,-573.1745 141,-563.7679 141,-554.8786\" fill=\"none\" stroke=\"#000000\"/>\n<polygon fill=\"#000000\" points=\"144.5001,-554.784 141,-544.784 137.5001,-554.784 144.5001,-554.784\" stroke=\"#000000\"/>\n</g>\n<!-- 139657145514248 -->\n<g class=\"node\" id=\"node4\">\n<title>139657145514248</title>\n<polygon fill=\"none\" points=\"20,-415.5 20,-461.5 262,-461.5 262,-415.5 20,-415.5\" stroke=\"#000000\"/>\n<text fill=\"#000000\" font-family=\"Times,serif\" font-size=\"14.00\" text-anchor=\"middle\" x=\"53.5\" y=\"-434.8\">Conv2D</text>\n<polyline fill=\"none\" points=\"87,-415.5 87,-461.5 \" stroke=\"#000000\"/>\n<text fill=\"#000000\" font-family=\"Times,serif\" font-size=\"14.00\" text-anchor=\"middle\" x=\"116\" y=\"-446.3\">input:</text>\n<polyline fill=\"none\" points=\"87,-438.5 145,-438.5 \" stroke=\"#000000\"/>\n<text fill=\"#000000\" font-family=\"Times,serif\" font-size=\"14.00\" text-anchor=\"middle\" x=\"116\" y=\"-423.3\">output:</text>\n<polyline fill=\"none\" points=\"145,-415.5 145,-461.5 \" stroke=\"#000000\"/>\n<text fill=\"#000000\" font-family=\"Times,serif\" font-size=\"14.00\" text-anchor=\"middle\" x=\"203.5\" y=\"-446.3\">(None, 5, 13, 13)</text>\n<polyline fill=\"none\" points=\"145,-438.5 262,-438.5 \" stroke=\"#000000\"/>\n<text fill=\"#000000\" font-family=\"Times,serif\" font-size=\"14.00\" text-anchor=\"middle\" x=\"203.5\" y=\"-423.3\">(None, 5, 11, 11)</text>\n</g>\n<!-- 139657285859424&#45;&gt;139657145514248 -->\n<g class=\"edge\" id=\"edge3\">\n<title>139657285859424-&gt;139657145514248</title>\n<path d=\"M141,-498.3799C141,-490.1745 141,-480.7679 141,-471.8786\" fill=\"none\" stroke=\"#000000\"/>\n<polygon fill=\"#000000\" points=\"144.5001,-471.784 141,-461.784 137.5001,-471.784 144.5001,-471.784\" stroke=\"#000000\"/>\n</g>\n<!-- 139657285942576 -->\n<g class=\"node\" id=\"node5\">\n<title>139657285942576</title>\n<polygon fill=\"none\" points=\".5,-332.5 .5,-378.5 281.5,-378.5 281.5,-332.5 .5,-332.5\" stroke=\"#000000\"/>\n<text fill=\"#000000\" font-family=\"Times,serif\" font-size=\"14.00\" text-anchor=\"middle\" x=\"54\" y=\"-351.8\">MaxPooling2D</text>\n<polyline fill=\"none\" points=\"107.5,-332.5 107.5,-378.5 \" stroke=\"#000000\"/>\n<text fill=\"#000000\" font-family=\"Times,serif\" font-size=\"14.00\" text-anchor=\"middle\" x=\"136.5\" y=\"-363.3\">input:</text>\n<polyline fill=\"none\" points=\"107.5,-355.5 165.5,-355.5 \" stroke=\"#000000\"/>\n<text fill=\"#000000\" font-family=\"Times,serif\" font-size=\"14.00\" text-anchor=\"middle\" x=\"136.5\" y=\"-340.3\">output:</text>\n<polyline fill=\"none\" points=\"165.5,-332.5 165.5,-378.5 \" stroke=\"#000000\"/>\n<text fill=\"#000000\" font-family=\"Times,serif\" font-size=\"14.00\" text-anchor=\"middle\" x=\"223.5\" y=\"-363.3\">(None, 5, 11, 11)</text>\n<polyline fill=\"none\" points=\"165.5,-355.5 281.5,-355.5 \" stroke=\"#000000\"/>\n<text fill=\"#000000\" font-family=\"Times,serif\" font-size=\"14.00\" text-anchor=\"middle\" x=\"223.5\" y=\"-340.3\">(None, 5, 5, 5)</text>\n</g>\n<!-- 139657145514248&#45;&gt;139657285942576 -->\n<g class=\"edge\" id=\"edge4\">\n<title>139657145514248-&gt;139657285942576</title>\n<path d=\"M141,-415.3799C141,-407.1745 141,-397.7679 141,-388.8786\" fill=\"none\" stroke=\"#000000\"/>\n<polygon fill=\"#000000\" points=\"144.5001,-388.784 141,-378.784 137.5001,-388.784 144.5001,-388.784\" stroke=\"#000000\"/>\n</g>\n<!-- 139657145527936 -->\n<g class=\"node\" id=\"node6\">\n<title>139657145527936</title>\n<polygon fill=\"none\" points=\"28.5,-249.5 28.5,-295.5 253.5,-295.5 253.5,-249.5 28.5,-249.5\" stroke=\"#000000\"/>\n<text fill=\"#000000\" font-family=\"Times,serif\" font-size=\"14.00\" text-anchor=\"middle\" x=\"61\" y=\"-268.8\">Dropout</text>\n<polyline fill=\"none\" points=\"93.5,-249.5 93.5,-295.5 \" stroke=\"#000000\"/>\n<text fill=\"#000000\" font-family=\"Times,serif\" font-size=\"14.00\" text-anchor=\"middle\" x=\"122.5\" y=\"-280.3\">input:</text>\n<polyline fill=\"none\" points=\"93.5,-272.5 151.5,-272.5 \" stroke=\"#000000\"/>\n<text fill=\"#000000\" font-family=\"Times,serif\" font-size=\"14.00\" text-anchor=\"middle\" x=\"122.5\" y=\"-257.3\">output:</text>\n<polyline fill=\"none\" points=\"151.5,-249.5 151.5,-295.5 \" stroke=\"#000000\"/>\n<text fill=\"#000000\" font-family=\"Times,serif\" font-size=\"14.00\" text-anchor=\"middle\" x=\"202.5\" y=\"-280.3\">(None, 5, 5, 5)</text>\n<polyline fill=\"none\" points=\"151.5,-272.5 253.5,-272.5 \" stroke=\"#000000\"/>\n<text fill=\"#000000\" font-family=\"Times,serif\" font-size=\"14.00\" text-anchor=\"middle\" x=\"202.5\" y=\"-257.3\">(None, 5, 5, 5)</text>\n</g>\n<!-- 139657285942576&#45;&gt;139657145527936 -->\n<g class=\"edge\" id=\"edge5\">\n<title>139657285942576-&gt;139657145527936</title>\n<path d=\"M141,-332.3799C141,-324.1745 141,-314.7679 141,-305.8786\" fill=\"none\" stroke=\"#000000\"/>\n<polygon fill=\"#000000\" points=\"144.5001,-305.784 141,-295.784 137.5001,-305.784 144.5001,-305.784\" stroke=\"#000000\"/>\n</g>\n<!-- 139657147157808 -->\n<g class=\"node\" id=\"node7\">\n<title>139657147157808</title>\n<polygon fill=\"none\" points=\"33,-166.5 33,-212.5 249,-212.5 249,-166.5 33,-166.5\" stroke=\"#000000\"/>\n<text fill=\"#000000\" font-family=\"Times,serif\" font-size=\"14.00\" text-anchor=\"middle\" x=\"61\" y=\"-185.8\">Flatten</text>\n<polyline fill=\"none\" points=\"89,-166.5 89,-212.5 \" stroke=\"#000000\"/>\n<text fill=\"#000000\" font-family=\"Times,serif\" font-size=\"14.00\" text-anchor=\"middle\" x=\"118\" y=\"-197.3\">input:</text>\n<polyline fill=\"none\" points=\"89,-189.5 147,-189.5 \" stroke=\"#000000\"/>\n<text fill=\"#000000\" font-family=\"Times,serif\" font-size=\"14.00\" text-anchor=\"middle\" x=\"118\" y=\"-174.3\">output:</text>\n<polyline fill=\"none\" points=\"147,-166.5 147,-212.5 \" stroke=\"#000000\"/>\n<text fill=\"#000000\" font-family=\"Times,serif\" font-size=\"14.00\" text-anchor=\"middle\" x=\"198\" y=\"-197.3\">(None, 5, 5, 5)</text>\n<polyline fill=\"none\" points=\"147,-189.5 249,-189.5 \" stroke=\"#000000\"/>\n<text fill=\"#000000\" font-family=\"Times,serif\" font-size=\"14.00\" text-anchor=\"middle\" x=\"198\" y=\"-174.3\">(None, 125)</text>\n</g>\n<!-- 139657145527936&#45;&gt;139657147157808 -->\n<g class=\"edge\" id=\"edge6\">\n<title>139657145527936-&gt;139657147157808</title>\n<path d=\"M141,-249.3799C141,-241.1745 141,-231.7679 141,-222.8786\" fill=\"none\" stroke=\"#000000\"/>\n<polygon fill=\"#000000\" points=\"144.5001,-222.784 141,-212.784 137.5001,-222.784 144.5001,-222.784\" stroke=\"#000000\"/>\n</g>\n<!-- 139657147157080 -->\n<g class=\"node\" id=\"node8\">\n<title>139657147157080</title>\n<polygon fill=\"none\" points=\"38.5,-83.5 38.5,-129.5 243.5,-129.5 243.5,-83.5 38.5,-83.5\" stroke=\"#000000\"/>\n<text fill=\"#000000\" font-family=\"Times,serif\" font-size=\"14.00\" text-anchor=\"middle\" x=\"64.5\" y=\"-102.8\">Dense</text>\n<polyline fill=\"none\" points=\"90.5,-83.5 90.5,-129.5 \" stroke=\"#000000\"/>\n<text fill=\"#000000\" font-family=\"Times,serif\" font-size=\"14.00\" text-anchor=\"middle\" x=\"119.5\" y=\"-114.3\">input:</text>\n<polyline fill=\"none\" points=\"90.5,-106.5 148.5,-106.5 \" stroke=\"#000000\"/>\n<text fill=\"#000000\" font-family=\"Times,serif\" font-size=\"14.00\" text-anchor=\"middle\" x=\"119.5\" y=\"-91.3\">output:</text>\n<polyline fill=\"none\" points=\"148.5,-83.5 148.5,-129.5 \" stroke=\"#000000\"/>\n<text fill=\"#000000\" font-family=\"Times,serif\" font-size=\"14.00\" text-anchor=\"middle\" x=\"196\" y=\"-114.3\">(None, 125)</text>\n<polyline fill=\"none\" points=\"148.5,-106.5 243.5,-106.5 \" stroke=\"#000000\"/>\n<text fill=\"#000000\" font-family=\"Times,serif\" font-size=\"14.00\" text-anchor=\"middle\" x=\"196\" y=\"-91.3\">(None, 1024)</text>\n</g>\n<!-- 139657147157808&#45;&gt;139657147157080 -->\n<g class=\"edge\" id=\"edge7\">\n<title>139657147157808-&gt;139657147157080</title>\n<path d=\"M141,-166.3799C141,-158.1745 141,-148.7679 141,-139.8786\" fill=\"none\" stroke=\"#000000\"/>\n<polygon fill=\"#000000\" points=\"144.5001,-139.784 141,-129.784 137.5001,-139.784 144.5001,-139.784\" stroke=\"#000000\"/>\n</g>\n<!-- 139657147008560 -->\n<g class=\"node\" id=\"node9\">\n<title>139657147008560</title>\n<polygon fill=\"none\" points=\"38.5,-.5 38.5,-46.5 243.5,-46.5 243.5,-.5 38.5,-.5\" stroke=\"#000000\"/>\n<text fill=\"#000000\" font-family=\"Times,serif\" font-size=\"14.00\" text-anchor=\"middle\" x=\"64.5\" y=\"-19.8\">Dense</text>\n<polyline fill=\"none\" points=\"90.5,-.5 90.5,-46.5 \" stroke=\"#000000\"/>\n<text fill=\"#000000\" font-family=\"Times,serif\" font-size=\"14.00\" text-anchor=\"middle\" x=\"119.5\" y=\"-31.3\">input:</text>\n<polyline fill=\"none\" points=\"90.5,-23.5 148.5,-23.5 \" stroke=\"#000000\"/>\n<text fill=\"#000000\" font-family=\"Times,serif\" font-size=\"14.00\" text-anchor=\"middle\" x=\"119.5\" y=\"-8.3\">output:</text>\n<polyline fill=\"none\" points=\"148.5,-.5 148.5,-46.5 \" stroke=\"#000000\"/>\n<text fill=\"#000000\" font-family=\"Times,serif\" font-size=\"14.00\" text-anchor=\"middle\" x=\"196\" y=\"-31.3\">(None, 1024)</text>\n<polyline fill=\"none\" points=\"148.5,-23.5 243.5,-23.5 \" stroke=\"#000000\"/>\n<text fill=\"#000000\" font-family=\"Times,serif\" font-size=\"14.00\" text-anchor=\"middle\" x=\"196\" y=\"-8.3\">(None, 10)</text>\n</g>\n<!-- 139657147157080&#45;&gt;139657147008560 -->\n<g class=\"edge\" id=\"edge8\">\n<title>139657147157080-&gt;139657147008560</title>\n<path d=\"M141,-83.3799C141,-75.1745 141,-65.7679 141,-56.8786\" fill=\"none\" stroke=\"#000000\"/>\n<polygon fill=\"#000000\" points=\"144.5001,-56.784 141,-46.784 137.5001,-56.784 144.5001,-56.784\" stroke=\"#000000\"/>\n</g>\n</g>\n</svg>"
          },
          "metadata": {
            "tags": []
          },
          "execution_count": 69
        }
      ]
    },
    {
      "cell_type": "code",
      "metadata": {
        "id": "kXpbLIc06NeM",
        "colab_type": "code",
        "colab": {
          "base_uri": "https://localhost:8080/",
          "height": 1000
        },
        "outputId": "456284ad-6775-4e99-9333-22957a7d596c"
      },
      "source": [
        "fit = model.fit(X_train, y_train, validation_data=(X_test, y_test),\n",
        "          epochs=30, batch_size=200, verbose=1)\n",
        "\n",
        "plt.figure()\n",
        "plt.plot(fit.history['val_loss'] )# na zbiorze walidacyjnym\n",
        "plt.plot(fit.history['loss'])# na zb. uczącym \n",
        "plt.legend(('zb. walidacyjny', 'zb. uczący'))\n",
        "plt.xlabel('epoki')\n",
        "plt.ylabel('błąd')\n",
        "plt.show()\n",
        "\n",
        "plt.figure()\n",
        "plt.plot(fit.history['val_acc'] )# na zbiorze walidacyjnym\n",
        "plt.plot(fit.history['acc'])# na zb. uczącym \n",
        "plt.legend(('zb. walidacyjny', 'zb. uczący'))\n",
        "plt.xlabel('epoki')\n",
        "plt.ylabel('dokładność')\n",
        "plt.show()\n",
        "\n",
        "scores = model.evaluate(X_test, y_test, verbose=0)\n",
        "print(\"Błąd na zbiorze testowym: %.2f%%\" % (100-scores[1]*100))\n",
        "\n",
        "y_pred = model.predict(X_test)\n",
        "cm = confusion_matrix(np.argmax(y_test,axis =1), np.argmax(y_pred,axis =1))\n",
        "print(cm)"
      ],
      "execution_count": 73,
      "outputs": [
        {
          "output_type": "stream",
          "text": [
            "Train on 60000 samples, validate on 10000 samples\n",
            "Epoch 1/30\n",
            "60000/60000 [==============================] - 22s 372us/step - loss: 0.0106 - acc: 0.9963 - val_loss: 0.0346 - val_acc: 0.9903\n",
            "Epoch 2/30\n",
            "60000/60000 [==============================] - 23s 375us/step - loss: 0.0114 - acc: 0.9963 - val_loss: 0.0411 - val_acc: 0.9888\n",
            "Epoch 3/30\n",
            "60000/60000 [==============================] - 22s 373us/step - loss: 0.0105 - acc: 0.9966 - val_loss: 0.0381 - val_acc: 0.9900\n",
            "Epoch 4/30\n",
            "60000/60000 [==============================] - 22s 372us/step - loss: 0.0105 - acc: 0.9964 - val_loss: 0.0404 - val_acc: 0.9900\n",
            "Epoch 5/30\n",
            "60000/60000 [==============================] - 23s 376us/step - loss: 0.0103 - acc: 0.9964 - val_loss: 0.0368 - val_acc: 0.9908\n",
            "Epoch 6/30\n",
            "60000/60000 [==============================] - 22s 371us/step - loss: 0.0097 - acc: 0.9967 - val_loss: 0.0395 - val_acc: 0.9905\n",
            "Epoch 7/30\n",
            "60000/60000 [==============================] - 23s 375us/step - loss: 0.0102 - acc: 0.9967 - val_loss: 0.0414 - val_acc: 0.9906\n",
            "Epoch 8/30\n",
            "60000/60000 [==============================] - 23s 382us/step - loss: 0.0107 - acc: 0.9966 - val_loss: 0.0404 - val_acc: 0.9896\n",
            "Epoch 9/30\n",
            "60000/60000 [==============================] - 22s 374us/step - loss: 0.0110 - acc: 0.9963 - val_loss: 0.0394 - val_acc: 0.9892\n",
            "Epoch 10/30\n",
            "60000/60000 [==============================] - 23s 378us/step - loss: 0.0097 - acc: 0.9967 - val_loss: 0.0415 - val_acc: 0.9886\n",
            "Epoch 11/30\n",
            "60000/60000 [==============================] - 22s 373us/step - loss: 0.0107 - acc: 0.9966 - val_loss: 0.0432 - val_acc: 0.9887\n",
            "Epoch 12/30\n",
            "60000/60000 [==============================] - 23s 377us/step - loss: 0.0092 - acc: 0.9969 - val_loss: 0.0358 - val_acc: 0.9894\n",
            "Epoch 13/30\n",
            "60000/60000 [==============================] - 23s 377us/step - loss: 0.0100 - acc: 0.9966 - val_loss: 0.0384 - val_acc: 0.9891\n",
            "Epoch 14/30\n",
            "60000/60000 [==============================] - 22s 374us/step - loss: 0.0089 - acc: 0.9971 - val_loss: 0.0390 - val_acc: 0.9900\n",
            "Epoch 15/30\n",
            "60000/60000 [==============================] - 22s 375us/step - loss: 0.0099 - acc: 0.9965 - val_loss: 0.0396 - val_acc: 0.9894\n",
            "Epoch 16/30\n",
            "60000/60000 [==============================] - 23s 377us/step - loss: 0.0093 - acc: 0.9967 - val_loss: 0.0379 - val_acc: 0.9894\n",
            "Epoch 17/30\n",
            "60000/60000 [==============================] - 23s 376us/step - loss: 0.0100 - acc: 0.9969 - val_loss: 0.0368 - val_acc: 0.9901\n",
            "Epoch 18/30\n",
            "60000/60000 [==============================] - 23s 377us/step - loss: 0.0086 - acc: 0.9973 - val_loss: 0.0401 - val_acc: 0.9893\n",
            "Epoch 19/30\n",
            "60000/60000 [==============================] - 23s 376us/step - loss: 0.0090 - acc: 0.9970 - val_loss: 0.0381 - val_acc: 0.9907\n",
            "Epoch 20/30\n",
            "60000/60000 [==============================] - 22s 375us/step - loss: 0.0092 - acc: 0.9971 - val_loss: 0.0407 - val_acc: 0.9894\n",
            "Epoch 21/30\n",
            "60000/60000 [==============================] - 23s 379us/step - loss: 0.0082 - acc: 0.9972 - val_loss: 0.0449 - val_acc: 0.9898\n",
            "Epoch 22/30\n",
            "60000/60000 [==============================] - 23s 382us/step - loss: 0.0090 - acc: 0.9971 - val_loss: 0.0451 - val_acc: 0.9875\n",
            "Epoch 23/30\n",
            "60000/60000 [==============================] - 23s 377us/step - loss: 0.0083 - acc: 0.9973 - val_loss: 0.0372 - val_acc: 0.9900\n",
            "Epoch 24/30\n",
            "60000/60000 [==============================] - 23s 379us/step - loss: 0.0088 - acc: 0.9973 - val_loss: 0.0426 - val_acc: 0.9897\n",
            "Epoch 25/30\n",
            "60000/60000 [==============================] - 23s 379us/step - loss: 0.0074 - acc: 0.9977 - val_loss: 0.0376 - val_acc: 0.9907\n",
            "Epoch 26/30\n",
            "60000/60000 [==============================] - 23s 382us/step - loss: 0.0085 - acc: 0.9973 - val_loss: 0.0399 - val_acc: 0.9910\n",
            "Epoch 27/30\n",
            "60000/60000 [==============================] - 23s 381us/step - loss: 0.0081 - acc: 0.9974 - val_loss: 0.0417 - val_acc: 0.9904\n",
            "Epoch 28/30\n",
            "60000/60000 [==============================] - 23s 378us/step - loss: 0.0089 - acc: 0.9970 - val_loss: 0.0454 - val_acc: 0.9893\n",
            "Epoch 29/30\n",
            "60000/60000 [==============================] - 23s 382us/step - loss: 0.0074 - acc: 0.9975 - val_loss: 0.0367 - val_acc: 0.9900\n",
            "Epoch 30/30\n",
            "60000/60000 [==============================] - 23s 377us/step - loss: 0.0084 - acc: 0.9971 - val_loss: 0.0439 - val_acc: 0.9892\n"
          ],
          "name": "stdout"
        },
        {
          "output_type": "display_data",
          "data": {
            "image/png": "[encoded data removed]",
            "text/plain": [
              "<Figure size 432x288 with 1 Axes>"
            ]
          },
          "metadata": {
            "tags": []
          }
        },
        {
          "output_type": "display_data",
          "data": {
            "image/png": "[encoded data removed]",
            "text/plain": [
              "<Figure size 432x288 with 1 Axes>"
            ]
          },
          "metadata": {
            "tags": []
          }
        },
        {
          "output_type": "stream",
          "text": [
            "Błąd na zbiorze testowym: 1.08%\n",
            "[[ 979    0    0    0    0    0    0    1    0    0]\n",
            " [   3 1129    0    0    0    1    0    0    1    1]\n",
            " [   1    1 1026    1    0    0    0    2    1    0]\n",
            " [   1    0    1 1000    0    3    0    1    4    0]\n",
            " [   0    0    0    0  967    1    7    1    0    6]\n",
            " [   1    0    0    5    0  884    1    1    0    0]\n",
            " [   8    3    0    0    0    1  943    0    3    0]\n",
            " [   1    1   10    4    0    0    0 1005    3    4]\n",
            " [   2    0    2    1    0    1    0    0  968    0]\n",
            " [   1    0    0    1    4    2    0    2    8  991]]\n"
          ],
          "name": "stdout"
        }
      ]
    },
    {
      "cell_type": "code",
      "metadata": {
        "id": "mPMhYztn8Tsw",
        "colab_type": "code",
        "colab": {
          "base_uri": "https://localhost:8080/",
          "height": 373
        },
        "outputId": "74502171-a82b-4441-b25d-7e8f80f989a9"
      },
      "source": [
        "predict = model.predict_classes(X_test)\n",
        "\n",
        "miss_classified = np.unique(\n",
        "                    np.nonzero(\n",
        "                        to_categorical(predict) != y_test)[0])\n",
        "\n",
        "for i, incorrect in enumerate(miss_classified[:4]):\n",
        "    fig = plt.gcf()\n",
        "    fig.set_size_inches(14,6)\n",
        "    plt.subplot(2,2,i+1)\n",
        "    plt.imshow(X_test[incorrect].reshape(28,28), cmap='gray', interpolation='none')\n",
        "    plt.title(\"Predicted={}, True={}\".format(predict[incorrect], np.nonzero(y_test[incorrect])[0][0]))\n",
        "    plt.axis(\"off\")"
      ],
      "execution_count": 71,
      "outputs": [
        {
          "output_type": "display_data",
          "data": {
            "image/png": "[encoded data removed]",
            "text/plain": [
              "<Figure size 1008x432 with 4 Axes>"
            ]
          },
          "metadata": {
            "tags": []
          }
        }
      ]
    }
  ]
}