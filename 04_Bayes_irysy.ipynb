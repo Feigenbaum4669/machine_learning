{
 "cells": [
  {
   "cell_type": "code",
   "execution_count": 1,
   "metadata": {
    "colab": {},
    "colab_type": "code",
    "id": "Gq4B3HvSZ7fU"
   },
   "outputs": [],
   "source": [
    "import matplotlib\n",
    "%matplotlib inline\n",
    "matplotlib.rcParams['figure.figsize']=(15,8)\n"
   ]
  },
  {
   "cell_type": "markdown",
   "metadata": {
    "colab_type": "text",
    "id": "g6aMBGt6Z7fY"
   },
   "source": [
    "# Naiwny klasyfikator Bayesa\n",
    "\n",
    "Z klasyfikatorem tym zapoznamy się próbując klasyfikować gatunki irysów. Jest to klasyczny już problem, często wykorzystywany przy porównywaniu różnych technik klasyfikacji. Więcej o pochodzeniu tych danych i problemie można przeczytać tu [https://en.wikipedia.org/wiki/Iris_flower_data_set]\n",
    "\n",
    "Kod napiszemy w oparciu o implementacje klasyfikatora Bayesa z biblioteki <tt>scikit-learn</tt> [http://scikit-learn.org/stable/about.html#citing-scikit-learn]\n",
    "\n",
    "Zaczerpniemy stamtąd:\n",
    "* obiekt klasyfikatora <tt>GaussianNB</tt>\n",
    "* zbiór danych\n",
    "* funkcje do oceny jakości "
   ]
  },
  {
   "cell_type": "markdown",
   "metadata": {
    "colab_type": "text",
    "id": "_yOp4madZ7fZ"
   },
   "source": [
    "Na razie importujemy:"
   ]
  },
  {
   "cell_type": "code",
   "execution_count": 2,
   "metadata": {
    "colab": {},
    "colab_type": "code",
    "id": "vgv3tI12Z7fa"
   },
   "outputs": [],
   "source": [
    "from sklearn import datasets\n",
    "import matplotlib.pyplot as plt\n",
    "import numpy as np"
   ]
  },
  {
   "cell_type": "markdown",
   "metadata": {
    "colab_type": "text",
    "id": "6R48NZA7Z7fh"
   },
   "source": [
    "## Zbiór danych irys\n",
    "Zapoznajemy się z danymi i wybieramy ich podzbiór do dalszej zabawy."
   ]
  },
  {
   "cell_type": "markdown",
   "metadata": {
    "colab_type": "text",
    "id": "UFK-4Ph7Z7fh"
   },
   "source": [
    "Ładujemy dane"
   ]
  },
  {
   "cell_type": "code",
   "execution_count": 3,
   "metadata": {
    "colab": {},
    "colab_type": "code",
    "id": "42SLWGQBZ7fi"
   },
   "outputs": [],
   "source": [
    "iris = datasets.load_iris() #https://en.wikipedia.org/wiki/Iris_flower_data_set"
   ]
  },
  {
   "cell_type": "markdown",
   "metadata": {
    "colab_type": "text",
    "id": "GAEWybxwZ7fl"
   },
   "source": [
    "Zobaczmy co ten zbiór ma w środku:"
   ]
  },
  {
   "cell_type": "code",
   "execution_count": 4,
   "metadata": {
    "colab": {},
    "colab_type": "code",
    "id": "8IihOS07Z7fm",
    "outputId": "8e7ab4e6-1d32-4be0-b74d-747c8b7a1621"
   },
   "outputs": [
    {
     "name": "stdout",
     "output_type": "stream",
     "text": [
      "['DESCR', 'data', 'feature_names', 'filename', 'target', 'target_names']\n"
     ]
    }
   ],
   "source": [
    "print(dir(iris))"
   ]
  },
  {
   "cell_type": "markdown",
   "metadata": {
    "colab_type": "text",
    "id": "JPZBOgBxZ7fs"
   },
   "source": [
    "Wypiszemy sobie opis danych:"
   ]
  },
  {
   "cell_type": "code",
   "execution_count": 5,
   "metadata": {
    "colab": {},
    "colab_type": "code",
    "id": "LR22U62NZ7fs",
    "outputId": "160709dd-c951-4a22-bcea-bbef10d1d65e"
   },
   "outputs": [
    {
     "name": "stdout",
     "output_type": "stream",
     "text": [
      ".. _iris_dataset:\n",
      "\n",
      "Iris plants dataset\n",
      "--------------------\n",
      "\n",
      "**Data Set Characteristics:**\n",
      "\n",
      "    :Number of Instances: 150 (50 in each of three classes)\n",
      "    :Number of Attributes: 4 numeric, predictive attributes and the class\n",
      "    :Attribute Information:\n",
      "        - sepal length in cm\n",
      "        - sepal width in cm\n",
      "        - petal length in cm\n",
      "        - petal width in cm\n",
      "        - class:\n",
      "                - Iris-Setosa\n",
      "                - Iris-Versicolour\n",
      "                - Iris-Virginica\n",
      "                \n",
      "    :Summary Statistics:\n",
      "\n",
      "    ============== ==== ==== ======= ===== ====================\n",
      "                    Min  Max   Mean    SD   Class Correlation\n",
      "    ============== ==== ==== ======= ===== ====================\n",
      "    sepal length:   4.3  7.9   5.84   0.83    0.7826\n",
      "    sepal width:    2.0  4.4   3.05   0.43   -0.4194\n",
      "    petal length:   1.0  6.9   3.76   1.76    0.9490  (high!)\n",
      "    petal width:    0.1  2.5   1.20   0.76    0.9565  (high!)\n",
      "    ============== ==== ==== ======= ===== ====================\n",
      "\n",
      "    :Missing Attribute Values: None\n",
      "    :Class Distribution: 33.3% for each of 3 classes.\n",
      "    :Creator: R.A. Fisher\n",
      "    :Donor: Michael Marshall (MARSHALL%PLU@io.arc.nasa.gov)\n",
      "    :Date: July, 1988\n",
      "\n",
      "The famous Iris database, first used by Sir R.A. Fisher. The dataset is taken\n",
      "from Fisher's paper. Note that it's the same as in R, but not as in the UCI\n",
      "Machine Learning Repository, which has two wrong data points.\n",
      "\n",
      "This is perhaps the best known database to be found in the\n",
      "pattern recognition literature.  Fisher's paper is a classic in the field and\n",
      "is referenced frequently to this day.  (See Duda & Hart, for example.)  The\n",
      "data set contains 3 classes of 50 instances each, where each class refers to a\n",
      "type of iris plant.  One class is linearly separable from the other 2; the\n",
      "latter are NOT linearly separable from each other.\n",
      "\n",
      ".. topic:: References\n",
      "\n",
      "   - Fisher, R.A. \"The use of multiple measurements in taxonomic problems\"\n",
      "     Annual Eugenics, 7, Part II, 179-188 (1936); also in \"Contributions to\n",
      "     Mathematical Statistics\" (John Wiley, NY, 1950).\n",
      "   - Duda, R.O., & Hart, P.E. (1973) Pattern Classification and Scene Analysis.\n",
      "     (Q327.D83) John Wiley & Sons.  ISBN 0-471-22361-1.  See page 218.\n",
      "   - Dasarathy, B.V. (1980) \"Nosing Around the Neighborhood: A New System\n",
      "     Structure and Classification Rule for Recognition in Partially Exposed\n",
      "     Environments\".  IEEE Transactions on Pattern Analysis and Machine\n",
      "     Intelligence, Vol. PAMI-2, No. 1, 67-71.\n",
      "   - Gates, G.W. (1972) \"The Reduced Nearest Neighbor Rule\".  IEEE Transactions\n",
      "     on Information Theory, May 1972, 431-433.\n",
      "   - See also: 1988 MLC Proceedings, 54-64.  Cheeseman et al\"s AUTOCLASS II\n",
      "     conceptual clustering system finds 3 classes in the data.\n",
      "   - Many, many more ...\n"
     ]
    }
   ],
   "source": [
    "print(iris['DESCR'])"
   ]
  },
  {
   "cell_type": "markdown",
   "metadata": {
    "colab_type": "text",
    "id": "-qkkkTzgZ7fw"
   },
   "source": [
    "Wypiszmy nazwy gatunków:"
   ]
  },
  {
   "cell_type": "code",
   "execution_count": 6,
   "metadata": {
    "colab": {},
    "colab_type": "code",
    "id": "dM4sQ9s_Z7fx",
    "outputId": "510497fb-b95a-42d2-e311-66d072b6983d"
   },
   "outputs": [
    {
     "name": "stdout",
     "output_type": "stream",
     "text": [
      "['setosa' 'versicolor' 'virginica']\n"
     ]
    }
   ],
   "source": [
    "print(iris['target_names'])"
   ]
  },
  {
   "cell_type": "markdown",
   "metadata": {
    "colab_type": "text",
    "id": "EYM_0H6AZ7f1"
   },
   "source": [
    "Wypiszmy nazwy cech:"
   ]
  },
  {
   "cell_type": "code",
   "execution_count": 7,
   "metadata": {
    "colab": {},
    "colab_type": "code",
    "id": "N-ZoaV6sZ7f2",
    "outputId": "044563f2-7e34-4771-edcc-fc89ba89a53b"
   },
   "outputs": [
    {
     "name": "stdout",
     "output_type": "stream",
     "text": [
      "['sepal length (cm)', 'sepal width (cm)', 'petal length (cm)', 'petal width (cm)']\n"
     ]
    }
   ],
   "source": [
    "print(iris['feature_names'])"
   ]
  },
  {
   "cell_type": "markdown",
   "metadata": {
    "colab_type": "text",
    "id": "V-_83R_CZ7f5"
   },
   "source": [
    "Wypiszmy kodowanie gatunków. To są wyjścia, które chcielibyśmy uzyskać od wytrenowanego klasyfikatora:"
   ]
  },
  {
   "cell_type": "code",
   "execution_count": 8,
   "metadata": {
    "colab": {},
    "colab_type": "code",
    "id": "rs6J2LBVZ7f6",
    "outputId": "5b921f24-5c13-4530-e5c4-9247e6d28aac"
   },
   "outputs": [
    {
     "name": "stdout",
     "output_type": "stream",
     "text": [
      "[0 0 0 0 0 0 0 0 0 0 0 0 0 0 0 0 0 0 0 0 0 0 0 0 0 0 0 0 0 0 0 0 0 0 0 0 0\n",
      " 0 0 0 0 0 0 0 0 0 0 0 0 0 1 1 1 1 1 1 1 1 1 1 1 1 1 1 1 1 1 1 1 1 1 1 1 1\n",
      " 1 1 1 1 1 1 1 1 1 1 1 1 1 1 1 1 1 1 1 1 1 1 1 1 1 1 2 2 2 2 2 2 2 2 2 2 2\n",
      " 2 2 2 2 2 2 2 2 2 2 2 2 2 2 2 2 2 2 2 2 2 2 2 2 2 2 2 2 2 2 2 2 2 2 2 2 2\n",
      " 2 2]\n"
     ]
    }
   ],
   "source": [
    "print(iris['target'])"
   ]
  },
  {
   "cell_type": "markdown",
   "metadata": {
    "colab_type": "text",
    "id": "iwNEvTXQZ7gA"
   },
   "source": [
    "Wypiszmy wartości cech. Są to dane wejściowe do klasyfkiacji. "
   ]
  },
  {
   "cell_type": "code",
   "execution_count": 9,
   "metadata": {
    "colab": {},
    "colab_type": "code",
    "id": "7secdC2uZ7gA",
    "outputId": "7cf9491d-3027-4f2a-bf62-ec7a59c76982"
   },
   "outputs": [
    {
     "name": "stdout",
     "output_type": "stream",
     "text": [
      "[[5.1 3.5 1.4 0.2]\n",
      " [4.9 3.  1.4 0.2]\n",
      " [4.7 3.2 1.3 0.2]\n",
      " [4.6 3.1 1.5 0.2]\n",
      " [5.  3.6 1.4 0.2]\n",
      " [5.4 3.9 1.7 0.4]\n",
      " [4.6 3.4 1.4 0.3]\n",
      " [5.  3.4 1.5 0.2]\n",
      " [4.4 2.9 1.4 0.2]\n",
      " [4.9 3.1 1.5 0.1]\n",
      " [5.4 3.7 1.5 0.2]\n",
      " [4.8 3.4 1.6 0.2]\n",
      " [4.8 3.  1.4 0.1]\n",
      " [4.3 3.  1.1 0.1]\n",
      " [5.8 4.  1.2 0.2]\n",
      " [5.7 4.4 1.5 0.4]\n",
      " [5.4 3.9 1.3 0.4]\n",
      " [5.1 3.5 1.4 0.3]\n",
      " [5.7 3.8 1.7 0.3]\n",
      " [5.1 3.8 1.5 0.3]\n",
      " [5.4 3.4 1.7 0.2]\n",
      " [5.1 3.7 1.5 0.4]\n",
      " [4.6 3.6 1.  0.2]\n",
      " [5.1 3.3 1.7 0.5]\n",
      " [4.8 3.4 1.9 0.2]\n",
      " [5.  3.  1.6 0.2]\n",
      " [5.  3.4 1.6 0.4]\n",
      " [5.2 3.5 1.5 0.2]\n",
      " [5.2 3.4 1.4 0.2]\n",
      " [4.7 3.2 1.6 0.2]\n",
      " [4.8 3.1 1.6 0.2]\n",
      " [5.4 3.4 1.5 0.4]\n",
      " [5.2 4.1 1.5 0.1]\n",
      " [5.5 4.2 1.4 0.2]\n",
      " [4.9 3.1 1.5 0.2]\n",
      " [5.  3.2 1.2 0.2]\n",
      " [5.5 3.5 1.3 0.2]\n",
      " [4.9 3.6 1.4 0.1]\n",
      " [4.4 3.  1.3 0.2]\n",
      " [5.1 3.4 1.5 0.2]\n",
      " [5.  3.5 1.3 0.3]\n",
      " [4.5 2.3 1.3 0.3]\n",
      " [4.4 3.2 1.3 0.2]\n",
      " [5.  3.5 1.6 0.6]\n",
      " [5.1 3.8 1.9 0.4]\n",
      " [4.8 3.  1.4 0.3]\n",
      " [5.1 3.8 1.6 0.2]\n",
      " [4.6 3.2 1.4 0.2]\n",
      " [5.3 3.7 1.5 0.2]\n",
      " [5.  3.3 1.4 0.2]\n",
      " [7.  3.2 4.7 1.4]\n",
      " [6.4 3.2 4.5 1.5]\n",
      " [6.9 3.1 4.9 1.5]\n",
      " [5.5 2.3 4.  1.3]\n",
      " [6.5 2.8 4.6 1.5]\n",
      " [5.7 2.8 4.5 1.3]\n",
      " [6.3 3.3 4.7 1.6]\n",
      " [4.9 2.4 3.3 1. ]\n",
      " [6.6 2.9 4.6 1.3]\n",
      " [5.2 2.7 3.9 1.4]\n",
      " [5.  2.  3.5 1. ]\n",
      " [5.9 3.  4.2 1.5]\n",
      " [6.  2.2 4.  1. ]\n",
      " [6.1 2.9 4.7 1.4]\n",
      " [5.6 2.9 3.6 1.3]\n",
      " [6.7 3.1 4.4 1.4]\n",
      " [5.6 3.  4.5 1.5]\n",
      " [5.8 2.7 4.1 1. ]\n",
      " [6.2 2.2 4.5 1.5]\n",
      " [5.6 2.5 3.9 1.1]\n",
      " [5.9 3.2 4.8 1.8]\n",
      " [6.1 2.8 4.  1.3]\n",
      " [6.3 2.5 4.9 1.5]\n",
      " [6.1 2.8 4.7 1.2]\n",
      " [6.4 2.9 4.3 1.3]\n",
      " [6.6 3.  4.4 1.4]\n",
      " [6.8 2.8 4.8 1.4]\n",
      " [6.7 3.  5.  1.7]\n",
      " [6.  2.9 4.5 1.5]\n",
      " [5.7 2.6 3.5 1. ]\n",
      " [5.5 2.4 3.8 1.1]\n",
      " [5.5 2.4 3.7 1. ]\n",
      " [5.8 2.7 3.9 1.2]\n",
      " [6.  2.7 5.1 1.6]\n",
      " [5.4 3.  4.5 1.5]\n",
      " [6.  3.4 4.5 1.6]\n",
      " [6.7 3.1 4.7 1.5]\n",
      " [6.3 2.3 4.4 1.3]\n",
      " [5.6 3.  4.1 1.3]\n",
      " [5.5 2.5 4.  1.3]\n",
      " [5.5 2.6 4.4 1.2]\n",
      " [6.1 3.  4.6 1.4]\n",
      " [5.8 2.6 4.  1.2]\n",
      " [5.  2.3 3.3 1. ]\n",
      " [5.6 2.7 4.2 1.3]\n",
      " [5.7 3.  4.2 1.2]\n",
      " [5.7 2.9 4.2 1.3]\n",
      " [6.2 2.9 4.3 1.3]\n",
      " [5.1 2.5 3.  1.1]\n",
      " [5.7 2.8 4.1 1.3]\n",
      " [6.3 3.3 6.  2.5]\n",
      " [5.8 2.7 5.1 1.9]\n",
      " [7.1 3.  5.9 2.1]\n",
      " [6.3 2.9 5.6 1.8]\n",
      " [6.5 3.  5.8 2.2]\n",
      " [7.6 3.  6.6 2.1]\n",
      " [4.9 2.5 4.5 1.7]\n",
      " [7.3 2.9 6.3 1.8]\n",
      " [6.7 2.5 5.8 1.8]\n",
      " [7.2 3.6 6.1 2.5]\n",
      " [6.5 3.2 5.1 2. ]\n",
      " [6.4 2.7 5.3 1.9]\n",
      " [6.8 3.  5.5 2.1]\n",
      " [5.7 2.5 5.  2. ]\n",
      " [5.8 2.8 5.1 2.4]\n",
      " [6.4 3.2 5.3 2.3]\n",
      " [6.5 3.  5.5 1.8]\n",
      " [7.7 3.8 6.7 2.2]\n",
      " [7.7 2.6 6.9 2.3]\n",
      " [6.  2.2 5.  1.5]\n",
      " [6.9 3.2 5.7 2.3]\n",
      " [5.6 2.8 4.9 2. ]\n",
      " [7.7 2.8 6.7 2. ]\n",
      " [6.3 2.7 4.9 1.8]\n",
      " [6.7 3.3 5.7 2.1]\n",
      " [7.2 3.2 6.  1.8]\n",
      " [6.2 2.8 4.8 1.8]\n",
      " [6.1 3.  4.9 1.8]\n",
      " [6.4 2.8 5.6 2.1]\n",
      " [7.2 3.  5.8 1.6]\n",
      " [7.4 2.8 6.1 1.9]\n",
      " [7.9 3.8 6.4 2. ]\n",
      " [6.4 2.8 5.6 2.2]\n",
      " [6.3 2.8 5.1 1.5]\n",
      " [6.1 2.6 5.6 1.4]\n",
      " [7.7 3.  6.1 2.3]\n",
      " [6.3 3.4 5.6 2.4]\n",
      " [6.4 3.1 5.5 1.8]\n",
      " [6.  3.  4.8 1.8]\n",
      " [6.9 3.1 5.4 2.1]\n",
      " [6.7 3.1 5.6 2.4]\n",
      " [6.9 3.1 5.1 2.3]\n",
      " [5.8 2.7 5.1 1.9]\n",
      " [6.8 3.2 5.9 2.3]\n",
      " [6.7 3.3 5.7 2.5]\n",
      " [6.7 3.  5.2 2.3]\n",
      " [6.3 2.5 5.  1.9]\n",
      " [6.5 3.  5.2 2. ]\n",
      " [6.2 3.4 5.4 2.3]\n",
      " [5.9 3.  5.1 1.8]]\n"
     ]
    }
   ],
   "source": [
    "print(iris['data'])"
   ]
  },
  {
   "cell_type": "markdown",
   "metadata": {
    "colab_type": "text",
    "id": "a3TCsNIyZ7gE"
   },
   "source": [
    "Zatem, np. obserwacja nr 5 ma cechy:"
   ]
  },
  {
   "cell_type": "code",
   "execution_count": 10,
   "metadata": {
    "colab": {},
    "colab_type": "code",
    "id": "QUWwl7w0Z7gF",
    "outputId": "a7333d59-421f-4218-89ca-29c2b63a8d0d"
   },
   "outputs": [
    {
     "name": "stdout",
     "output_type": "stream",
     "text": [
      "[5.4 3.9 1.7 0.4]\n"
     ]
    }
   ],
   "source": [
    "print(iris.data[5,:])"
   ]
  },
  {
   "cell_type": "markdown",
   "metadata": {
    "colab_type": "text",
    "id": "mPJTZoGqZ7gJ"
   },
   "source": [
    "i ma przypisaną klasę:"
   ]
  },
  {
   "cell_type": "code",
   "execution_count": 11,
   "metadata": {
    "colab": {},
    "colab_type": "code",
    "id": "Cs7o4JtcZ7gK",
    "outputId": "2b36158b-fa47-478a-d812-0cf26d7ec533"
   },
   "outputs": [
    {
     "name": "stdout",
     "output_type": "stream",
     "text": [
      "0\n"
     ]
    }
   ],
   "source": [
    "print(iris.target[5])"
   ]
  },
  {
   "cell_type": "markdown",
   "metadata": {
    "colab_type": "text",
    "id": "FdTaCybgZ7gQ"
   },
   "source": [
    "Czyli jest to gatunek:"
   ]
  },
  {
   "cell_type": "code",
   "execution_count": 12,
   "metadata": {
    "colab": {},
    "colab_type": "code",
    "id": "oPjGr9meZ7gR",
    "outputId": "12a6e8df-e0d4-4d14-94be-ffee730a2db0"
   },
   "outputs": [
    {
     "name": "stdout",
     "output_type": "stream",
     "text": [
      "setosa\n"
     ]
    }
   ],
   "source": [
    "print(iris.target_names[iris.target[5]])"
   ]
  },
  {
   "cell_type": "markdown",
   "metadata": {
    "colab_type": "text",
    "id": "qVa4NHQ4Z7gX"
   },
   "source": [
    "## Ilustrowanie własności zbioru danych"
   ]
  },
  {
   "cell_type": "markdown",
   "metadata": {
    "colab_type": "text",
    "id": "iOF6SXcoZ7gX"
   },
   "source": [
    "Do rysowania zależniści między cechami i klasami przyda nam się własną mapę kolorów:"
   ]
  },
  {
   "cell_type": "code",
   "execution_count": 13,
   "metadata": {
    "colab": {},
    "colab_type": "code",
    "id": "y2dlvcxhZ7gZ"
   },
   "outputs": [],
   "source": [
    "color_map = {-1: (1, 1, 1), 0: (0, 0, .9), 1: (1, 0, 0), 2: (.5, .5, 0)}"
   ]
  },
  {
   "cell_type": "markdown",
   "metadata": {
    "colab_type": "text",
    "id": "dd99qOSZZ7gb"
   },
   "source": [
    "Wytwarzamy wektor, który każdemu wierszowi w tabeli danych przypisze kolor odpowiadający gatunkowi irysa"
   ]
  },
  {
   "cell_type": "code",
   "execution_count": 14,
   "metadata": {
    "colab": {},
    "colab_type": "code",
    "id": "kcrKjYkZZ7gb"
   },
   "outputs": [],
   "source": [
    "colors = [color_map[y] for y in iris.target]"
   ]
  },
  {
   "cell_type": "markdown",
   "metadata": {
    "colab_type": "text",
    "id": "-77CE_gBZ7gd"
   },
   "source": [
    "### Aby przyjrzeć się zbiorowi danych warto zbadać: \n",
    "#### 1) Rozkłady cech w klasach: \n",
    "* np. histogramy. Proszę wykreślić histogramy rozkładu cech w poszczególnych klasach:"
   ]
  },
  {
   "cell_type": "code",
   "execution_count": 15,
   "metadata": {
    "colab": {},
    "colab_type": "code",
    "id": "Wd8y0wkrZ7ge",
    "outputId": "7941dbd0-6b93-45fe-a4d6-97c32ee5d184"
   },
   "outputs": [
    {
     "data": {
      "image/png": "[encoded data removed]",
      "text/plain": [
       "<Figure size 432x288 with 4 Axes>"
      ]
     },
     "metadata": {
      "needs_background": "light"
     },
     "output_type": "display_data"
    }
   ],
   "source": [
    "plt.figure()\n",
    "for f, f_name in enumerate(iris['feature_names']):\n",
    "    plt.subplot(1,4,f+1)\n",
    "    for k in range(3): # k - klasa\n",
    "        plt.hist(iris.data[iris.target==k,f],color=color_map[k],alpha=0.3,bins=np.arange(0,8,0.2))\n",
    "    plt.xlabel(str(f)+' '+ f_name)\n",
    "plt.show() "
   ]
  },
  {
   "cell_type": "markdown",
   "metadata": {
    "colab_type": "text",
    "id": "BDHoqwvpZ7gh"
   },
   "source": [
    "Violinplot"
   ]
  },
  {
   "cell_type": "code",
   "execution_count": 16,
   "metadata": {
    "colab": {},
    "colab_type": "code",
    "id": "0OiR1-7ZZ7gh",
    "outputId": "6bed4f64-6da6-47c7-b92c-8b639b2d1140"
   },
   "outputs": [
    {
     "data": {
      "image/png": "[encoded data removed]",
      "text/plain": [
       "<Figure size 432x288 with 4 Axes>"
      ]
     },
     "metadata": {
      "needs_background": "light"
     },
     "output_type": "display_data"
    }
   ],
   "source": [
    "plt.figure()\n",
    "for f, f_name in enumerate(iris['feature_names']):\n",
    "    plt.subplot(1,4,f+1)\n",
    "    data = np.zeros((50,3))\n",
    "    for k in range(3): #\n",
    "        data[:,k] = iris.data[iris.target==k,f]      \n",
    "    plt.violinplot(data)\n",
    "    plt.xlabel(str(f)+' '+ f_name)\n",
    "plt.show() "
   ]
  },
  {
   "cell_type": "markdown",
   "metadata": {
    "colab_type": "text",
    "id": "Wam5SdznZ7gk"
   },
   "source": [
    "#### Strukturę korelacji\n",
    "Tu zwróćmy uwagę na orientację macierzy podawanej do funkcji `np.cov`:"
   ]
  },
  {
   "cell_type": "code",
   "execution_count": 17,
   "metadata": {
    "colab": {},
    "colab_type": "code",
    "id": "WPNhSZOPZ7gl",
    "outputId": "04e95ef9-60fe-4bdd-9671-797a0312f398"
   },
   "outputs": [
    {
     "name": "stdout",
     "output_type": "stream",
     "text": [
      "(4, 4)\n"
     ]
    },
    {
     "data": {
      "text/plain": [
       "<Figure size 432x288 with 0 Axes>"
      ]
     },
     "metadata": {},
     "output_type": "display_data"
    },
    {
     "data": {
      "image/png": "[encoded data removed]",
      "text/plain": [
       "<Figure size 288x288 with 2 Axes>"
      ]
     },
     "metadata": {
      "needs_background": "light"
     },
     "output_type": "display_data"
    }
   ],
   "source": [
    "rho = np.cov(iris.data.T)\n",
    "print(rho.shape)\n",
    "plt.figure()\n",
    "plt.matshow(rho)\n",
    "plt.colorbar()\n",
    "plt.show()"
   ]
  },
  {
   "cell_type": "markdown",
   "metadata": {
    "colab_type": "text",
    "id": "thPoxyz0Z7go"
   },
   "source": [
    "Stukturę korelacji i rozkłady można też podsumować na takim rysunku:\n",
    "* w siatce prostokątnej rysujemy \n",
    "  * na przekątnej histogramy grupoweane, lub violinploty\n",
    "  * pod przekątną wykres punktowy (scaterplot)"
   ]
  },
  {
   "cell_type": "code",
   "execution_count": 18,
   "metadata": {
    "colab": {},
    "colab_type": "code",
    "id": "aCys9gtYZ7gr",
    "outputId": "f415f42e-a3a3-482b-d2f8-0ca988cd9efc"
   },
   "outputs": [
    {
     "data": {
      "image/png": "[encoded data removed]",
      "text/plain": [
       "<Figure size 432x288 with 10 Axes>"
      ]
     },
     "metadata": {
      "needs_background": "light"
     },
     "output_type": "display_data"
    }
   ],
   "source": [
    "plt.figure(1)\n",
    "for i, name_i in enumerate(iris['feature_names']):\n",
    "    for j, name_j in enumerate(iris['feature_names']):\n",
    "        \n",
    "        if i>j:\n",
    "            plt.subplot(4,4,i*4+j+1) # i numeruje wiersze, j kolumny\n",
    "            plt.scatter(iris.data[:,j],iris.data[:,i],c = colors)\n",
    "            \n",
    "        elif i==j:\n",
    "            plt.subplot(4,4,i*4+j+1) # i numeruje wiersze, j kolumny\n",
    "            for k in range(3):\n",
    "                plt.hist(iris.data[iris.target==k,j],color=color_map[k],alpha=0.3)\n",
    "        if j ==0:\n",
    "            plt.ylabel(name_i)\n",
    "        if i ==3:\n",
    "            plt.xlabel(name_j)\n",
    "plt.show()"
   ]
  },
  {
   "cell_type": "markdown",
   "metadata": {
    "colab_type": "text",
    "id": "Dhlnmd_TZ7gt"
   },
   "source": [
    "## Szykujemy się do zbudowania klasyfikatora\n",
    "Aby było nam łatwo ilustrować jego działanie wybieramy dwie cechy (podziały przestrzeni cech da się wtedy łatwo narysować na płaszczyźnie)\n",
    "\n",
    "* Wybieramy cechy 1 i 2 (bo są ze sobą mało skorelowane) normalizujemy je"
   ]
  },
  {
   "cell_type": "code",
   "execution_count": 19,
   "metadata": {
    "colab": {},
    "colab_type": "code",
    "id": "87MgbHRQZ7gu"
   },
   "outputs": [
    {
     "data": {
      "image/png": "[encoded data removed]",
      "text/plain": [
       "<Figure size 432x288 with 1 Axes>"
      ]
     },
     "metadata": {
      "needs_background": "light"
     },
     "output_type": "display_data"
    }
   ],
   "source": [
    "X = np.zeros((iris.data.shape[0],2))\n",
    "X[:,0] = (iris.data[:,1] - np.mean(iris.data[:,1]))/np.std(iris.data[:,1])\n",
    "X[:,1] = (iris.data[:,2] - np.mean(iris.data[:,2]))/np.std(iris.data[:,2])  \n",
    "plt.figure(2)\n",
    "plt.scatter(X[:,0],X[:,1],c = colors)  \n",
    "plt.title('Wybrane cechy po normalizacji')\n",
    "plt.show()"
   ]
  },
  {
   "cell_type": "markdown",
   "metadata": {
    "colab_type": "text",
    "id": "nwYjluymsMey"
   },
   "source": [
    "Przyda nam się funkcja do wizualizacji dwuwymiarowych gaussów:"
   ]
  },
  {
   "cell_type": "code",
   "execution_count": 20,
   "metadata": {
    "colab": {},
    "colab_type": "code",
    "id": "fqyqrgqjsSkt"
   },
   "outputs": [],
   "source": [
    "def plot_gauss(mu,sigma,xx,yy):\n",
    "    ''' Funkcja rysująca kontury funkcji gęstości prawdopodobieństwa \n",
    "       dwuwymiarowego rozkładu Gaussa'''\n",
    "\n",
    "    XX = np.c_[xx.ravel(), yy.ravel()]    \n",
    "    R = XX - mu \n",
    "    invS = np.linalg.inv(np.diag(sigma))\n",
    "    z = np.zeros(len(R))\n",
    "    for i in range(len(R)):\n",
    "        z[i] = np.exp(-0.5*np.dot( R[i,:].T,np.dot(invS,R[i,:])))\n",
    "    z.shape = xx.shape\n",
    "    plt.figure()\n",
    "    plt.contourf(xx,yy,z,alpha = 0.5)\n",
    "    plt.plot(mu[0],mu[1],'o')\n",
    "    plt.show()"
   ]
  },
  {
   "cell_type": "markdown",
   "metadata": {
    "colab_type": "text",
    "id": "f9td9_EHZ7gw"
   },
   "source": [
    "## Tworzymy i uczymy klasyfikator\n",
    "Poniżej znajduje się kod służący klasyfikacji. Proszę go uzupełnić zgodnie z komentarzami i dokumentacją:\n",
    "\n",
    "https://scikit-learn.org/stable/modules/naive_bayes.html\n",
    "\n",
    "https://scikit-learn.org/stable/modules/generated/sklearn.naive_bayes.GaussianNB.html"
   ]
  },
  {
   "cell_type": "code",
   "execution_count": 21,
   "metadata": {
    "colab": {},
    "colab_type": "code",
    "id": "k86LhFVMZ7gx"
   },
   "outputs": [
    {
     "name": "stdout",
     "output_type": "stream",
     "text": [
      "[[ 0.85326268 -1.30498732]\n",
      " [-0.66143204  0.28532388]\n",
      " [-0.19183064  1.01966344]]\n",
      "[[0.74619175 0.00954805]\n",
      " [0.51135882 0.06990787]\n",
      " [0.5401009  0.09642893]]\n"
     ]
    }
   ],
   "source": [
    "from sklearn.naive_bayes import GaussianNB\n",
    "gnb = GaussianNB() # stwórz instancję klasyfikatora Gaussian Naive Bayes \n",
    "gnb.fit(X, iris.target) # dofituj parametry klasyfikatora \n",
    "print(gnb.theta_)\n",
    "print(gnb.sigma_)"
   ]
  },
  {
   "cell_type": "markdown",
   "metadata": {
    "colab_type": "text",
    "id": "eatL-qfbZ7g0"
   },
   "source": [
    "#### Przedstaw rozkłady Gaussa, które zostały dopasowane do danych, skorzystaj z funkcji plot_gauss()\n",
    "* średnie tych rozkładów są w gnb.theta_\n",
    "* standardowe odchylenia są w gnb.sigma_\n",
    "\n",
    "Przygotowanie siatki na której będą rysowane kontury Gaussów"
   ]
  },
  {
   "cell_type": "code",
   "execution_count": 22,
   "metadata": {
    "colab": {},
    "colab_type": "code",
    "id": "jl5R2ofEZ7g0"
   },
   "outputs": [
    {
     "data": {
      "text/plain": [
       "<Figure size 432x288 with 0 Axes>"
      ]
     },
     "metadata": {},
     "output_type": "display_data"
    },
    {
     "data": {
      "image/png": "[encoded data removed]",
      "text/plain": [
       "<Figure size 432x288 with 1 Axes>"
      ]
     },
     "metadata": {
      "needs_background": "light"
     },
     "output_type": "display_data"
    },
    {
     "data": {
      "image/png": "[encoded data removed]",
      "text/plain": [
       "<Figure size 432x288 with 1 Axes>"
      ]
     },
     "metadata": {
      "needs_background": "light"
     },
     "output_type": "display_data"
    },
    {
     "data": {
      "image/png": "[encoded data removed]",
      "text/plain": [
       "<Figure size 432x288 with 1 Axes>"
      ]
     },
     "metadata": {
      "needs_background": "light"
     },
     "output_type": "display_data"
    },
    {
     "data": {
      "image/png": "[encoded data removed]",
      "text/plain": [
       "<Figure size 432x288 with 1 Axes>"
      ]
     },
     "metadata": {
      "needs_background": "light"
     },
     "output_type": "display_data"
    }
   ],
   "source": [
    "x_min, x_max = -3,3\n",
    "y_min, y_max = -3,3\n",
    "xx, yy = np.meshgrid(np.arange(x_min, x_max, 0.1),\n",
    "                     np.arange(y_min, y_max, 0.1))\n",
    "plt.figure(4)\n",
    "for i in range(3):\n",
    "    plot_gauss(gnb.theta_[i],gnb.sigma_[i],xx,yy)\n",
    "# dorzućmy do rysunku jeszcze oryginalne dane\n",
    "plt.scatter(X[:,0],X[:,1],c = colors)\n",
    "plt.title(u'Rozkłady Gaussa dopasowane do danych')\n",
    "plt.show()        "
   ]
  },
  {
   "cell_type": "markdown",
   "metadata": {
    "colab_type": "text",
    "id": "fff8gKKmZ7g3"
   },
   "source": [
    "## Rysowanie wyników klasyfikacji             \n",
    "Przekształcamy siatkę w macierz dwukolumnową - kolumny odpowiadają cechom"
   ]
  },
  {
   "cell_type": "code",
   "execution_count": 23,
   "metadata": {
    "colab": {},
    "colab_type": "code",
    "id": "Y8au8zRHZ7g5"
   },
   "outputs": [],
   "source": [
    "XX = np.c_[xx.ravel(), yy.ravel()]       "
   ]
  },
  {
   "cell_type": "markdown",
   "metadata": {
    "colab_type": "text",
    "id": "-C2WorUnZ7g7"
   },
   "source": [
    "Dla każdego punktu siatki oblicz predykcję klasyfikatora  "
   ]
  },
  {
   "cell_type": "code",
   "execution_count": 24,
   "metadata": {
    "colab": {},
    "colab_type": "code",
    "id": "W3OGd-70Z7g8"
   },
   "outputs": [],
   "source": [
    "Z = gnb.predict(XX)"
   ]
  },
  {
   "cell_type": "markdown",
   "metadata": {
    "colab_type": "text",
    "id": "K1kVo72aZ7g-"
   },
   "source": [
    "Te predykcje narysujemy w przestrzeni cech za pomocą funkcji  plt.contourf "
   ]
  },
  {
   "cell_type": "code",
   "execution_count": 25,
   "metadata": {
    "colab": {},
    "colab_type": "code",
    "id": "cWHEHs8rZ7g-"
   },
   "outputs": [
    {
     "data": {
      "image/png": "[encoded data removed]",
      "text/plain": [
       "<Figure size 432x288 with 1 Axes>"
      ]
     },
     "metadata": {
      "needs_background": "light"
     },
     "output_type": "display_data"
    }
   ],
   "source": [
    "plt.figure(3)\n",
    "Z = Z.reshape(xx.shape)\n",
    "plt.contourf(xx, yy, Z, cmap=plt.cm.Paired)\n",
    "# i dorzucamy oryginalne punkty\n",
    "plt.scatter(X[:,0],X[:,1],c = colors)\n",
    "plt.title(u'Podział przestrzeni cech na klasy')\n",
    "plt.show()"
   ]
  },
  {
   "cell_type": "markdown",
   "metadata": {
    "colab_type": "text",
    "id": "80bCH4F5Z7hB"
   },
   "source": [
    "## Ewaluacja modelu\n",
    "Teraz zajmiemy się ewaluacją dopasowanego modelu (walidacja krzyżowa). Skorzystamy z funkcji dostrczanych przez [Model evaluation](http://scikit-learn.org/stable/modules/model_evaluation.html)\n",
    "* upewnij się, że dokładnie rozumiesz co zwracają te funkcje\n",
    "* porównaj z definicjami z [wykładu](http://haar.zfb.fuw.edu.pl/edu/index.php/Uczenie_maszynowe_i_sztuczne_sieci_neuronowe/Wykład_Ocena_jakości_klasyfikacji) "
   ]
  },
  {
   "cell_type": "code",
   "execution_count": 26,
   "metadata": {
    "colab": {},
    "colab_type": "code",
    "id": "ZGF38VWxZ7hC"
   },
   "outputs": [
    {
     "name": "stdout",
     "output_type": "stream",
     "text": [
      "classification report:\n",
      "              precision    recall  f1-score   support\n",
      "\n",
      "           0       1.00      1.00      1.00        50\n",
      "           1       0.85      0.92      0.88        50\n",
      "           2       0.91      0.84      0.87        50\n",
      "\n",
      "   micro avg       0.92      0.92      0.92       150\n",
      "   macro avg       0.92      0.92      0.92       150\n",
      "weighted avg       0.92      0.92      0.92       150\n",
      "\n",
      "confusion matrix:\n",
      "[[50  0  0]\n",
      " [ 0 46  4]\n",
      " [ 0  8 42]]\n"
     ]
    }
   ],
   "source": [
    "from sklearn.metrics import classification_report, confusion_matrix\n",
    "\n",
    "y_true=iris.target\n",
    "y_pred=gnb.predict(X)\n",
    "clr=classification_report(y_true,y_pred)\n",
    "cm=confusion_matrix(y_true,y_pred)\n",
    "print(\"classification report:\")\n",
    "print(clr)\n",
    "print(\"confusion matrix:\")\n",
    "print(cm)"
   ]
  },
  {
   "cell_type": "markdown",
   "metadata": {
    "colab_type": "text",
    "id": "DQd-aixOZ7hE"
   },
   "source": [
    "## Porównanie  modeli\n",
    "Stwórz trzy modele klasyfikatorów:\n",
    "* pierwszym niech będzie korzystał z cech 1 i 2 (nasz dotychczasowy model)\n",
    "* drugim niech korzysta tylko z cech 0 i 1\n",
    "* trzeci niech korzysta ze wszytkich 4 cech\n",
    "\n",
    "Porównaj miary jakości tych modeli otrzymywane za pomocą walidacji krzyżowej.\n",
    "\n",
    "* Trzeci model można też stworzyć dla danych normalizowanych i nienormalizowanych, aby sprzwdzić czy normalizacja w tym przypadku pomaga w prawidłowej klasyfikacji."
   ]
  },
  {
   "cell_type": "code",
   "execution_count": 27,
   "metadata": {
    "colab": {},
    "colab_type": "code",
    "id": "XTUhTx4mZ7hG"
   },
   "outputs": [
    {
     "name": "stdout",
     "output_type": "stream",
     "text": [
      "MODEL 1\n",
      "classification report:\n",
      "              precision    recall  f1-score   support\n",
      "\n",
      "           0       1.00      1.00      1.00        50\n",
      "           1       0.85      0.92      0.88        50\n",
      "           2       0.91      0.84      0.87        50\n",
      "\n",
      "   micro avg       0.92      0.92      0.92       150\n",
      "   macro avg       0.92      0.92      0.92       150\n",
      "weighted avg       0.92      0.92      0.92       150\n",
      "\n",
      "confusion matrix:\n",
      "[[50  0  0]\n",
      " [ 0 46  4]\n",
      " [ 0  8 42]]\n",
      "##################\n",
      "MODEL 2\n",
      "classification report:\n",
      "              precision    recall  f1-score   support\n",
      "\n",
      "           0       1.00      0.98      0.99        50\n",
      "           1       0.65      0.74      0.69        50\n",
      "           2       0.70      0.62      0.66        50\n",
      "\n",
      "   micro avg       0.78      0.78      0.78       150\n",
      "   macro avg       0.78      0.78      0.78       150\n",
      "weighted avg       0.78      0.78      0.78       150\n",
      "\n",
      "confusion matrix:\n",
      "[[49  1  0]\n",
      " [ 0 37 13]\n",
      " [ 0 19 31]]\n",
      "##################\n",
      "MODEL 3 unnormalized\n",
      "classification report:\n",
      "              precision    recall  f1-score   support\n",
      "\n",
      "           0       1.00      1.00      1.00        50\n",
      "           1       0.94      0.94      0.94        50\n",
      "           2       0.94      0.94      0.94        50\n",
      "\n",
      "   micro avg       0.96      0.96      0.96       150\n",
      "   macro avg       0.96      0.96      0.96       150\n",
      "weighted avg       0.96      0.96      0.96       150\n",
      "\n",
      "confusion matrix:\n",
      "[[50  0  0]\n",
      " [ 0 47  3]\n",
      " [ 0  3 47]]\n",
      "##################\n",
      "MODEL 3 normalized\n",
      "classification report:\n",
      "              precision    recall  f1-score   support\n",
      "\n",
      "           0       1.00      1.00      1.00        50\n",
      "           1       0.94      0.94      0.94        50\n",
      "           2       0.94      0.94      0.94        50\n",
      "\n",
      "   micro avg       0.96      0.96      0.96       150\n",
      "   macro avg       0.96      0.96      0.96       150\n",
      "weighted avg       0.96      0.96      0.96       150\n",
      "\n",
      "confusion matrix:\n",
      "[[50  0  0]\n",
      " [ 0 47  3]\n",
      " [ 0  3 47]]\n",
      "##################\n"
     ]
    }
   ],
   "source": [
    "def model(X):\n",
    "\n",
    "    gnb = GaussianNB() # stwórz instancję klasyfikatora Gaussian Naive Bayes \n",
    "    gnb.fit(X, iris.target) # dofituj parametry klasyfikatora \n",
    "    \n",
    "    '''\n",
    "    x_min, x_max = -3,3\n",
    "    y_min, y_max = -3,3\n",
    "    xx, yy = np.meshgrid(np.arange(x_min, x_max, 0.1),\n",
    "                     np.arange(y_min, y_max, 0.1))\n",
    "    plt.figure(4)\n",
    "    for i in range(3):\n",
    "        plot_gauss(gnb.theta_[i],gnb.sigma_[i],xx,yy)\n",
    "    # dorzućmy do rysunku jeszcze oryginalne dane\n",
    "    plt.scatter(X[:,0],X[:,1],c = colors)\n",
    "    plt.title(u'Rozkłady Gaussa dopasowane do danych')\n",
    "    plt.show()  \n",
    "\n",
    "    XX = np.c_[xx.ravel(), yy.ravel()]   \n",
    "    Z = gnb.predict(XX)\n",
    "\n",
    "    plt.figure(3)\n",
    "    Z = Z.reshape(xx.shape)\n",
    "    plt.contourf(xx, yy, Z, cmap=plt.cm.Paired)\n",
    "    # i dorzucamy oryginalne punkty\n",
    "    plt.scatter(X[:,0],X[:,1],c = colors)\n",
    "    plt.title(u'Podział przestrzeni cech na klasy')\n",
    "    plt.show()\n",
    "    '''\n",
    "\n",
    "    y_true=iris.target\n",
    "    y_pred=gnb.predict(X)\n",
    "    clr=classification_report(y_true,y_pred)\n",
    "    cm=confusion_matrix(y_true,y_pred)\n",
    "    print(\"classification report:\")\n",
    "    print(clr)\n",
    "    print(\"confusion matrix:\")\n",
    "    print(cm)\n",
    "    print(\"##################\")\n",
    "\n",
    "#MODEL 1\n",
    "X = np.zeros((iris.data.shape[0],2))\n",
    "X[:,0] = (iris.data[:,1] - np.mean(iris.data[:,1]))/np.std(iris.data[:,1])\n",
    "X[:,1] = (iris.data[:,2] - np.mean(iris.data[:,2]))/np.std(iris.data[:,2])\n",
    "\n",
    "print(\"MODEL 1\")\n",
    "model(X)\n",
    "\n",
    "#print(X[:5,:])\n",
    "\n",
    "#MODEL 1 unnormalized\n",
    "#X = np.zeros((iris.data.shape[0],2))\n",
    "#X[:,0] = iris.data[:,1]\n",
    "#X[:,1] = iris.data[:,2]\n",
    "\n",
    "#print(\"MODEL 1 bis\")\n",
    "#model(X)\n",
    "\n",
    "#print(X[:5,:])\n",
    "\n",
    "#MODEL 2\n",
    "X = np.zeros((iris.data.shape[0],2))\n",
    "X[:,0] = (iris.data[:,0] - np.mean(iris.data[:,0]))/np.std(iris.data[:,0])\n",
    "X[:,1] = (iris.data[:,1] - np.mean(iris.data[:,1]))/np.std(iris.data[:,1])\n",
    "\n",
    "print(\"MODEL 2\")\n",
    "model(X)\n",
    "\n",
    "#print(X[:5,:])\n",
    "\n",
    "#MODEL 3 unnormalized\n",
    "X =iris.data\n",
    "\n",
    "print(\"MODEL 3 unnormalized\")\n",
    "model(X)\n",
    "\n",
    "#print(X[:5,:])\n",
    "\n",
    "#MODEL 3 normalized\n",
    "X = np.zeros((iris.data.shape[0],4))\n",
    "X[:,0] = (iris.data[:,0] - np.mean(iris.data[:,0]))/np.std(iris.data[:,0])\n",
    "X[:,1] = (iris.data[:,1] - np.mean(iris.data[:,1]))/np.std(iris.data[:,1])\n",
    "X[:,2] = (iris.data[:,2] - np.mean(iris.data[:,2]))/np.std(iris.data[:,2])\n",
    "X[:,3] = (iris.data[:,3] - np.mean(iris.data[:,3]))/np.std(iris.data[:,3])\n",
    "\n",
    "print(\"MODEL 3 normalized\")\n",
    "model(X)\n",
    "\n",
    "#print(X[:5,:])\n",
    "\n"
   ]
  },
  {
   "cell_type": "markdown",
   "metadata": {},
   "source": [
    "Wnioski:\n",
    "\n",
    "Najlepsze miary jakości ma model 3 (wykorzystujący wszystkie cechy). Normalizacja nie wpłynęła na miary jakości. Spośród modeli wykorzystujących dwie cechy znacznie lepszy jest model 1 któremu bliżej jakością do 3 niż do 2. Model 2 dość często myli klasy 2 z 3 - kiepskie miary jakości dla tych klas. Zaobserwowane różnice między modelem 1 i 2 można przewidzieć patrząc na klasy w funkcji dwóch używanych cech (wykresy struktury korelacji) - dla wyboru cech 0 i 1 (model 2) klasy 2 i 3 dość mocno się pokrywają - dla wyboru cech 1 i 2 (model 1) klasy 2 i 3 pokrywają się istotnie słabiej. Klasa 3 jest dobrze odseparowana od pozostałych w obydwu przypadkach."
   ]
  },
  {
   "cell_type": "code",
   "execution_count": null,
   "metadata": {},
   "outputs": [],
   "source": []
  }
 ],
 "metadata": {
  "celltoolbar": "Raw Cell Format",
  "colab": {
   "collapsed_sections": [],
   "name": "04_Bayes_irysy.ipynb",
   "provenance": [
    {
     "file_id": "18GZJRU1jLT766DuWKP8HaxfM0leRXJlH",
     "timestamp": 1573194247711
    }
   ]
  },
  "kernelspec": {
   "display_name": "Python 3",
   "language": "python",
   "name": "python3"
  },
  "language_info": {
   "codemirror_mode": {
    "name": "ipython",
    "version": 3
   },
   "file_extension": ".py",
   "mimetype": "text/x-python",
   "name": "python",
   "nbconvert_exporter": "python",
   "pygments_lexer": "ipython3",
   "version": "3.7.3"
  }
 },
 "nbformat": 4,
 "nbformat_minor": 1
}
