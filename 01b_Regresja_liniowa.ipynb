{
 "cells": [
  {
   "cell_type": "markdown",
   "metadata": {
    "colab_type": "text",
    "id": "0fVD-WRKhgE2"
   },
   "source": [
    "Importujemy ponownie powtórzone `numpy`, dodajemy moduł do tworzenia wykresów `pyplot`."
   ]
  },
  {
   "cell_type": "code",
   "execution_count": 2,
   "metadata": {
    "colab": {},
    "colab_type": "code",
    "id": "DB6NUjsLhTLd"
   },
   "outputs": [],
   "source": [
    "import numpy as np\n",
    "import pylab as py"
   ]
  },
  {
   "cell_type": "markdown",
   "metadata": {
    "colab_type": "text",
    "id": "OE_3hFYtIDv-"
   },
   "source": [
    "# Zapoznanie się z regresją liniową\n",
    "* W ramach tego ćwiczenia będziemy chcieli opisać zbiór danych modelem liniowym.\n",
    "* Zbiór danych stworzymy sami w sposób sztuczny, ale w typowych problemach zebranie i obróbka danych stanowi znaczącą część pracy.\n",
    "* Nasz liniowy model ma postać: $y = \\theta_0 + \\theta_1 x$\n",
    "* Dane wytworzymy dla konkretnych $\\theta_0$ i $\\theta_1$, a następnie zaimplementujemy regresję liniową, aby znaleźć jak najlepsze przybliżenie dla tych parametrów.\n",
    "* `(X,Y)` to ciąg uczący. *Co to ciąg uczący?*"
   ]
  },
  {
   "cell_type": "markdown",
   "metadata": {
    "colab_type": "text",
    "id": "8PHcEKITkFAc"
   },
   "source": [
    "## Produkcja danych"
   ]
  },
  {
   "cell_type": "markdown",
   "metadata": {
    "colab_type": "text",
    "id": "pnbVmOFqIDv_"
   },
   "source": [
    "Zacznijmy od produkcji $x$. W późniejszej części ćwiczenia zobaczymy, że wygodniej je mieć w postaci wektora kolumnowego, można użyć `reshape` teraz lub później:"
   ]
  },
  {
   "cell_type": "code",
   "execution_count": 3,
   "metadata": {
    "colab": {
     "base_uri": "https://localhost:8080/",
     "height": 51
    },
    "colab_type": "code",
    "executionInfo": {
     "elapsed": 421,
     "status": "ok",
     "timestamp": 1570105736073,
     "user": {
      "displayName": "Anna Dawid",
      "photoUrl": "https://lh3.googleusercontent.com/a-/AAuE7mBMAlqIzrWbyBbGSDvCFuCvvSN7Xx3h3HRKaToc0r4=s64",
      "userId": "02862484648310443813"
     },
     "user_tz": -120
    },
    "id": "ttS1qAmEIDwA",
    "outputId": "0e4bcbb7-3f88-442b-ee0f-0710ddec245a"
   },
   "outputs": [
    {
     "name": "stdout",
     "output_type": "stream",
     "text": [
      "[[ 0.        ]\n",
      " [ 1.11111111]\n",
      " [ 2.22222222]\n",
      " [ 3.33333333]\n",
      " [ 4.44444444]\n",
      " [ 5.55555556]\n",
      " [ 6.66666667]\n",
      " [ 7.77777778]\n",
      " [ 8.88888889]\n",
      " [10.        ]]\n"
     ]
    }
   ],
   "source": [
    "ile = 10 \n",
    "x = np.linspace(0, 10, ile).reshape(ile,1)\n",
    "print(x)"
   ]
  },
  {
   "cell_type": "markdown",
   "metadata": {
    "colab_type": "text",
    "id": "OwGOuzcQIDwH"
   },
   "source": [
    "Ustalamy parametry dla symulacji $\\theta_0 = 1$ i $\\theta_1 = 3$:"
   ]
  },
  {
   "cell_type": "code",
   "execution_count": 4,
   "metadata": {
    "colab": {},
    "colab_type": "code",
    "id": "8makH4WzIDwI"
   },
   "outputs": [],
   "source": [
    "theta0 = 1\n",
    "theta1 = 3"
   ]
  },
  {
   "cell_type": "markdown",
   "metadata": {
    "colab_type": "text",
    "id": "N3l9-73PIDwD"
   },
   "source": [
    "Teraz produkujemy odpowiadające $y$ korzystając z wybranych parametrów."
   ]
  },
  {
   "cell_type": "code",
   "execution_count": 5,
   "metadata": {
    "colab": {},
    "colab_type": "code",
    "id": "nYjzz8F34-xz"
   },
   "outputs": [],
   "source": [
    "y =theta0 + theta1*x"
   ]
  },
  {
   "cell_type": "markdown",
   "metadata": {
    "colab_type": "text",
    "id": "yewJ96CHIDwL"
   },
   "source": [
    "Obejrzyjmy te dane:"
   ]
  },
  {
   "cell_type": "code",
   "execution_count": 6,
   "metadata": {
    "colab": {},
    "colab_type": "code",
    "id": "EL_rSguzmlKi"
   },
   "outputs": [
    {
     "data": {
      "image/png": "[encoded data removed]",
      "text/plain": [
       "<Figure size 432x288 with 1 Axes>"
      ]
     },
     "metadata": {
      "needs_background": "light"
     },
     "output_type": "display_data"
    }
   ],
   "source": [
    "py.plot(x, y, 'bo')\n",
    "py.show()"
   ]
  },
  {
   "cell_type": "markdown",
   "metadata": {
    "colab_type": "text",
    "id": "StUPjPEbmyO5"
   },
   "source": [
    "Skomplikujmy trochę zadanie dla naszej regresji. Wprowadźmy coś na kształt szumu, dodając do każdego $y$ małą liczbę losową z N(0,1)."
   ]
  },
  {
   "cell_type": "code",
   "execution_count": 8,
   "metadata": {
    "colab": {},
    "colab_type": "code",
    "id": "qWMWQc7SIDwL"
   },
   "outputs": [
    {
     "data": {
      "image/png": "[encoded data removed]",
      "text/plain": [
       "<Figure size 432x288 with 1 Axes>"
      ]
     },
     "metadata": {
      "needs_background": "light"
     },
     "output_type": "display_data"
    }
   ],
   "source": [
    "mu, sigma = 0, 1 # mean and standard deviation\n",
    "#noise = np.random.normal(mu, sigma, ile).reshape(len(x),1)\n",
    "noise=np.random.uniform(-1,1,ile).reshape(len(x),1)\n",
    "#noise=np.random.standard_t(3,ile).reshape(len(x),1)\n",
    "y=y+noise\n",
    "py.plot(x, y, 'bo')\n",
    "py.show()"
   ]
  },
  {
   "cell_type": "markdown",
   "metadata": {
    "colab_type": "text",
    "id": "c_r-QQtsIDwR"
   },
   "source": [
    "## Algorytm równań normalnych\n",
    "Proszę napisać funkcję, która:\n",
    "* na wejściu przyjmuje ciąg uczący, implementuje wzór na parametry optymalne na podstawie [równań normalnych](http://brain.fuw.edu.pl/edu/index.php/Uczenie_maszynowe_i_sztuczne_sieci_neuronowe/Wykład_1#Minimalizacja_funkcji_kosztu ). \n",
    "* Funkcja powinna zwracać estymowane parametry theta.\n",
    "* Proszę dorysować prostą reprezentującą hipotezę do wykresu punktów ciągu uczącego.\n",
    "* dla przypomnienia: odwrotność macierzy można obliczyć w numpy funkcją: <tt>numpy.linalg.inv</tt>\n",
    "* proszę zwrócić uwagę, że konieczne jest użycie wektorów kolumnowych!\n",
    "\n",
    "Podpowiedź: aby skorzystać ze wzorów z wykładu, macierz wejść $X$ musi zawierać nie tylko kolumnę $x$, ale także kolumnę jedynek, aby przemnożona przez wektor [$\\theta_0$ $\\theta_1$] dawała odpowiedni wektor (kolumnowy) wyjść $y$."
   ]
  },
  {
   "cell_type": "code",
   "execution_count": 9,
   "metadata": {
    "colab": {},
    "colab_type": "code",
    "id": "_pK1Ue7oIDwS"
   },
   "outputs": [
    {
     "data": {
      "image/png": "[encoded data removed]",
      "text/plain": [
       "<Figure size 432x288 with 1 Axes>"
      ]
     },
     "metadata": {
      "needs_background": "light"
     },
     "output_type": "display_data"
    },
    {
     "name": "stdout",
     "output_type": "stream",
     "text": [
      "theta_est= [[1.87441412]\n",
      " [2.97422259]]\n"
     ]
    }
   ],
   "source": [
    "def licz_rownania_normalne(X, Y):\n",
    "    X = np.hstack((np.ones((len(x),1)),x ))\n",
    "    Y = y\n",
    "    theta = np.dot( np.dot(np.linalg.inv( np.dot(X.T,X)  ),X.T) ,Y)\n",
    "    \n",
    "    y_reg = np.dot(X,theta)\n",
    "    py.figure()\n",
    "    py.plot(X[:,1], Y,'bo')\n",
    "    py.plot(X[:,1],y_reg,'m')\n",
    "    py.xlabel(\"x\")\n",
    "    py.ylabel(\"y\")\n",
    "    py.show()\n",
    "    return theta\n",
    "\n",
    "\n",
    "#print(X)\n",
    "#print(Y)\n",
    "X=x\n",
    "Y=y\n",
    "theta_est = licz_rownania_normalne(X, Y)\n",
    "print(\"theta_est=\",theta_est)\n",
    "\n"
   ]
  },
  {
   "cell_type": "markdown",
   "metadata": {
    "colab_type": "text",
    "id": "3HA0EFYBIDwV"
   },
   "source": [
    "## Algorytm gradientowy stochastyczny \n",
    "Proszę napisać funkcję, która znajduje optymalne parametry theta wg algorytmu gradientowego stochastycznego (metoda najmniejszych kwadratów). Funkcja jako argumenty przyjmuje ciąg uczący, (dowolne) wartości początkowe theta i parametr szybkości zbiegania alpha.\n",
    "\n",
    "Na wyjściu funkcja powinna zwracać wyestymowane wartości parametrów.\n",
    "\n",
    "W ramach ilustracji po każdej iteracji proszę dorysować prostą parametryzowaną przez aktualne wartości parametrów. "
   ]
  },
  {
   "cell_type": "code",
   "execution_count": 10,
   "metadata": {
    "colab": {},
    "colab_type": "code",
    "id": "_Sn8K1uIIDwW"
   },
   "outputs": [
    {
     "name": "stdout",
     "output_type": "stream",
     "text": [
      "theta_est= [[1.89729749]\n",
      " [2.95819744]]\n"
     ]
    }
   ],
   "source": [
    "def licz_iteracyjnie_stoch(X, Y, theta0 = np.array([0.5,2]).reshape(2,1), alpha = 0.001, epochs = 500000):\n",
    "    X = np.hstack((np.ones((len(x),1)),x ))\n",
    "    Y = y\n",
    "    for i in range(epochs):\n",
    "        #losuję przykład\n",
    "        i = np.random.randint(len(x))\n",
    "        xx = X[i].reshape(1,2)\n",
    "        delta =(np.dot(xx,theta0) -Y[i]) * xx.T\n",
    "        theta0 = theta0 - alpha * delta\n",
    "        \n",
    "        \n",
    "        #y_reg = np.dot(X,theta0)\n",
    "        #py.figure()\n",
    "        #py.plot(X[:,1], Y,'bo')\n",
    "        #py.plot(X[:,1],y_reg,'m')\n",
    "        #py.xlabel(\"x\")\n",
    "        #py.ylabel(\"y\")\n",
    "    return theta0\n",
    "\n",
    "X=x\n",
    "Y=y\n",
    "theta_est = licz_iteracyjnie_stoch(X, Y)\n",
    "print(\"theta_est=\",theta_est)\n"
   ]
  },
  {
   "cell_type": "markdown",
   "metadata": {
    "colab_type": "text",
    "id": "HPd4lLdUIDwZ"
   },
   "source": [
    "## Algortym gradientowy zbiorczy\n",
    "Proszę napisać funkcję, która znajduje optymalne parametry theta wg. algorytmy gradientowego zbiorczego. Funkcja jako argumenty przyjmuje ciąg uczący, wartości początkowe theta i parametr szybkości zbiegania alpha.\n",
    "Na wyjściu funkcja powinna zwracać wyestymowane wartości parametrów.\n",
    "\n",
    "W ramach ilustracji po każdej iteracji proszę dorysować prostą parametryzowaną przez aktualne wartości parametrów. "
   ]
  },
  {
   "cell_type": "code",
   "execution_count": 11,
   "metadata": {
    "colab": {},
    "colab_type": "code",
    "id": "Mi3KFdUbIDwb"
   },
   "outputs": [
    {
     "name": "stdout",
     "output_type": "stream",
     "text": [
      "theta_est= [[1.87441412]\n",
      " [2.97422259]]\n"
     ]
    }
   ],
   "source": [
    "def licz_iteracyjnie_batch(X, Y, theta0 = np.array([0.5,2]).reshape(2,1), alpha = 0.001, epochs = 100000):\n",
    "    X = np.hstack((np.ones((len(X),1)),X ))\n",
    "    Y = y\n",
    "    \n",
    "    \n",
    "    for i in range(epochs):\n",
    "        delta=np.zeros(2).reshape(2,1)\n",
    "        for j in range(np.size(X,0)):\n",
    "            xx = X[j].reshape(1,2)\n",
    "            delta =delta+(np.dot(xx,theta0) -Y[j]) * xx.T\n",
    "        \n",
    "        theta0 = theta0 - alpha * delta\n",
    "        #y_reg = np.dot(X,theta0)\n",
    "        #py.figure()\n",
    "        #py.plot(X[:,1], Y,'bo')\n",
    "        #py.plot(X[:,1],y_reg,'m')\n",
    "        #py.xlabel(\"x\")\n",
    "        #py.ylabel(\"y\")\n",
    "    return theta0\n",
    "\n",
    "X=x\n",
    "Y=y\n",
    "theta_est = licz_iteracyjnie_batch(X,Y)\n",
    "print(\"theta_est=\",theta_est)\n",
    "\n",
    "# 1. Ciąg uczący - zbiór przykładów (najlepiej: dobrze reprezentujących problem).\n",
    "# 2. Szybkość zbiegania zbyt mała: potrzeba bardzo dużo kroków, za duża: skakanie między minimami lub nawet rozbieżność.\n",
    "# 3. Badane algorytmy optymalizacyjne działają sensownie również dla rozkładów błędów innych niż normalny."
   ]
  },
  {
   "cell_type": "markdown",
   "metadata": {
    "colab_type": "text",
    "id": "xKgTHdG9IDwe"
   },
   "source": [
    "## Porównanie algorytmów\n",
    "* Proszę sprawdzić zbieżność algorytmów w zależności od parametrów szybkości zbiegania.\n",
    "* Proszę sprawdzić czy algorytmy optymalizacyjne działają poprawnie dla danych gdzie błąd podlega innym rozkładom prawdopodobieństwa niż normalny. np. rozkład jednorodny lub  t o 3 st. swobody."
   ]
  }
 ],
 "metadata": {
  "colab": {
   "collapsed_sections": [],
   "name": "01b_Regresja_liniowa.ipynb",
   "provenance": [
    {
     "file_id": "0BzwQ_Lscn8yDWnZVeHU1MjluWFU",
     "timestamp": 1546856440599
    }
   ]
  },
  "kernelspec": {
   "display_name": "Python 3",
   "language": "python",
   "name": "python3"
  },
  "language_info": {
   "codemirror_mode": {
    "name": "ipython",
    "version": 3
   },
   "file_extension": ".py",
   "mimetype": "text/x-python",
   "name": "python",
   "nbconvert_exporter": "python",
   "pygments_lexer": "ipython3",
   "version": "3.7.3"
  }
 },
 "nbformat": 4,
 "nbformat_minor": 1
}
