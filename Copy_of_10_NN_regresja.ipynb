{
  "nbformat": 4,
  "nbformat_minor": 0,
  "metadata": {
    "colab": {
      "name": "Copy of 10_NN_regresja.ipynb",
      "provenance": [],
      "collapsed_sections": []
    },
    "kernelspec": {
      "display_name": "ENV",
      "language": "python",
      "name": "env"
    }
  },
  "cells": [
    {
      "cell_type": "code",
      "metadata": {
        "id": "OtbB_9Lx2lSx",
        "colab_type": "code",
        "colab": {}
      },
      "source": [
        "import matplotlib\n",
        "#matplotlib.use('TkAgg')\n",
        "import numpy as np\n",
        "import pylab as plt"
      ],
      "execution_count": 0,
      "outputs": []
    },
    {
      "cell_type": "markdown",
      "metadata": {
        "id": "GUR_p8Qq2lS5",
        "colab_type": "text"
      },
      "source": [
        "# Regresja nieliniowa za pomocą sieci neuronowej\n",
        "\n",
        "W tym ćwiczeniu chcemy zastosować sieć do wykonania regresji nieliniowej. \n",
        "\n",
        "Załóżmy, że mamy generator który dostarcza żądaną ilość par liczb zgodnie z pewnym modelem, np.: "
      ]
    },
    {
      "cell_type": "code",
      "metadata": {
        "id": "vB5wKoXD2lS6",
        "colab_type": "code",
        "colab": {}
      },
      "source": [
        "def gen(ile, eps):\n",
        "    x = np.sort(5*np.random.rand(ile))\n",
        "    y = (1+10*x+x**2)/(1+2*x**2)\n",
        "    y+= eps*y*np.random.randn(ile)\n",
        "    return(x,y)\n"
      ],
      "execution_count": 0,
      "outputs": []
    },
    {
      "cell_type": "markdown",
      "metadata": {
        "id": "x-H1Zau92lS_",
        "colab_type": "text"
      },
      "source": [
        "Niech generator dostarcza nam po N par liczb. Zobaczmy 5 realizacji. Zobaczmy dla jakiego N ta funkcja będzie spróbkowana 'rozsądnie'."
      ]
    },
    {
      "cell_type": "code",
      "metadata": {
        "id": "JwvffLaG2lTA",
        "colab_type": "code",
        "colab": {
          "base_uri": "https://localhost:8080/",
          "height": 265
        },
        "outputId": "b1adc582-0733-4014-e454-7cd9ed5e2d83"
      },
      "source": [
        "plt.figure()\n",
        "X_idealne, Y_idealne = gen(ile=500, eps=0) # przykłady do ciągu uczącego    \n",
        "l = plt.plot(X_idealne, Y_idealne,'-')\n",
        "\n",
        "N=10\n",
        "for i in range(5):\n",
        "    X, Y = gen(ile=N, eps=0.1) # przykłady do ciągu uczącego    \n",
        "    plt.plot(X, Y, 'o')\n",
        "plt.legend(('bez szumu','realizacja 1','realizacja 2','realizacja 3','realizacja 4','realizacja 5'))\n",
        "plt.show()"
      ],
      "execution_count": 4,
      "outputs": [
        {
          "output_type": "display_data",
          "data": {
            "image/png": "[encoded data removed]",
            "text/plain": [
              "<Figure size 432x288 with 1 Axes>"
            ]
          },
          "metadata": {
            "tags": []
          }
        }
      ]
    },
    {
      "cell_type": "markdown",
      "metadata": {
        "id": "cGsJcWGa2lTO",
        "colab_type": "text"
      },
      "source": [
        "Proszę przygotować zbiór uczący zawierający 60 przykładów i testujący z 20 przykładami."
      ]
    },
    {
      "cell_type": "code",
      "metadata": {
        "id": "v5YBDLZV2lTS",
        "colab_type": "code",
        "colab": {}
      },
      "source": [
        "X, Y = gen(60, 0.1) # przykłady do ciągu uczącego\n",
        "X_t, Y_t = gen(20, 0.1) # przykłady do ciągu monitorującego"
      ],
      "execution_count": 0,
      "outputs": []
    },
    {
      "cell_type": "markdown",
      "metadata": {
        "id": "mxI4Fu1r2lTW",
        "colab_type": "text"
      },
      "source": [
        "Sklejamy te zbiory, aby skorzystać wprost z gotowej implementacji metody wczesnego stopu w keras [(link)](https://keras.io/getting-started/faq/#how-can-i-interrupt-training-when-the-validation-loss-isnt-decreasing-anymore). "
      ]
    },
    {
      "cell_type": "code",
      "metadata": {
        "id": "mo28Loyt2lTW",
        "colab_type": "code",
        "colab": {}
      },
      "source": [
        "X1 = np.hstack((X,X_t))\n",
        "Y1 = np.hstack((Y,Y_t))"
      ],
      "execution_count": 0,
      "outputs": []
    },
    {
      "cell_type": "markdown",
      "metadata": {
        "id": "38fy2O9a2lTb",
        "colab_type": "text"
      },
      "source": [
        "* Proszę skonstruować sieć, którą można nauczyć zależności między punktami wejściowymi (x) i wyjściowymi (y). W tym celu najlepiej wykorzystać sieć z nieliniową warstwą ukrytą  i liniową warstwę wyjściową. Taka kombinacja warstw nieliniowej i liniowej pozwala na reprezentację dowolniej ciągłej funkcji, pod warunkiem użycia właściwej ilości neuronów w warstwie ukrytej. Liniowa warstwa wyjściowa pozwala na rozszerzenie zbioru wartości.\n",
        "\n",
        "* Proszę wykreślić funkcję reprezentowaną przez sieć na tle punktów zbioru uczącego i prawdziwej (niezaszumionej) relacji ''y(x)''.\n",
        "\n",
        "* Czy dla ustalonej architektury sieci (rozmiarów warstw) i ustalonego zbioru uczącego sieć zbiega do jednego rozwiązania? Dlaczego?\n",
        "* Podobnie jak  w poprzednim zadaniu proszę zbadać ewolucję:\n",
        "  * błędu na zbiorze uczącym\n",
        "  * błędu na zbiorze monitorującym\n",
        "  * Powyższe zależności proszę zaobserwować dla kilku rozmiarów warstwy ukrytej."
      ]
    },
    {
      "cell_type": "markdown",
      "metadata": {
        "id": "cSxdaukzE0M7",
        "colab_type": "text"
      },
      "source": [
        "1. Nawet dla ustalonej architektury sieci i ustalonego zbioru uczącego sieć nie zbiega do jednego rozwiązania gdyż za każdym razem sieć jest inicjalizowana wartościami losowymi.\n",
        "2. Błąd na zbiorze uczącym był wyższy lub równy błędowi na zbiorze monitorującym. Błąd zawsze na początku gwałtownie maleje a potem błędy się stabilizują przy czym mogą zbiec lub ustabilizować się na różnych poziomach. Mogą się też najpierw ustabilizować na różnych poziomach a po pewnej liczbie kroków zbiec (jak na dołączonym rysunku dla N=60 neuronów). Mamy więc wtedy gwałtowny spadek błędu na początku, potem stabilizację i zbiegnięcie obydwu błędów do wartości minimalnej. Za mała liczba neuronów ( np. N=2) nie pozwala na jakiekolwiek sensowne wytrenowanie sieci (dostajemy linię z grubsza poziomą). Dla N=8 można wytrenować sieć z małym błędem przy maksimum (\"kolanko\") lecz nachylenie linii opadającej (pod prawy koniec wykresu) jest błędne. Dla N=60 można dostać dobre dopasowanie. Im więcej neuronów tym pierwotna gwałtowna stabiizacja następuje szybciej."
      ]
    },
    {
      "cell_type": "code",
      "metadata": {
        "id": "UJVVweHq2lTb",
        "colab_type": "code",
        "colab": {
          "base_uri": "https://localhost:8080/",
          "height": 237
        },
        "outputId": "a42dc86b-c22d-4bf0-9ba2-a94e36ff09fd"
      },
      "source": [
        "from keras.models import Sequential\n",
        "from keras.layers import Dense\n",
        "from keras.initializers import RandomUniform\n",
        "from keras.callbacks import EarlyStopping\n",
        "from keras import regularizers\n",
        "\n",
        "init = RandomUniform(minval=-0.2, maxval=0.2, seed=None)\n",
        "model = Sequential()\n",
        "model.add(Dense( 60, \n",
        "                input_dim= 1, \n",
        "                activation= 'sigmoid',\n",
        "                kernel_initializer=init, \n",
        "                bias_initializer=init))\n",
        "\n",
        "model.add(Dense(1,kernel_initializer=init, bias_initializer=init))# warstwa liniowa\n",
        "model.summary()\n",
        "\n",
        "from keras.optimizers import SGD, Adam\n",
        "sgd = SGD(lr=0.01, decay=0, momentum=0.8, nesterov=True)\n",
        "adam = Adam(lr=0.01, beta_1=0.9, beta_2=0.999, epsilon=None, decay=0.0, amsgrad=False)\n",
        "\n",
        "model.compile(loss='mean_squared_error', \n",
        "              optimizer= adam,\n",
        "              metrics=['accuracy'])\n",
        "\n",
        "early_stopping = EarlyStopping(monitor='val_loss', patience=250)#patience: number of epochs with no improvement after which training will be stopped.\n",
        "Historia = model.fit(X1, Y1, epochs=500, batch_size=10, verbose=0,shuffle=True, validation_split=20/80, callbacks=[early_stopping])#,tensorBoard ] )"
      ],
      "execution_count": 117,
      "outputs": [
        {
          "output_type": "stream",
          "text": [
            "Model: \"sequential_39\"\n",
            "_________________________________________________________________\n",
            "Layer (type)                 Output Shape              Param #   \n",
            "=================================================================\n",
            "dense_75 (Dense)             (None, 60)                120       \n",
            "_________________________________________________________________\n",
            "dense_76 (Dense)             (None, 1)                 61        \n",
            "=================================================================\n",
            "Total params: 181\n",
            "Trainable params: 181\n",
            "Non-trainable params: 0\n",
            "_________________________________________________________________\n"
          ],
          "name": "stdout"
        }
      ]
    },
    {
      "cell_type": "markdown",
      "metadata": {
        "id": "Qa2-4DK22lTf",
        "colab_type": "text"
      },
      "source": [
        "### Wykresy"
      ]
    },
    {
      "cell_type": "code",
      "metadata": {
        "id": "a-q2Ic0q2lTf",
        "colab_type": "code",
        "colab": {
          "base_uri": "https://localhost:8080/",
          "height": 279
        },
        "outputId": "14a8d348-c62b-4996-ffb5-287fb3ca7a1f"
      },
      "source": [
        "plt.figure()\n",
        "plt.plot(Historia.history['val_loss'] )# na zbiorze walidacyjnym\n",
        "plt.plot(Historia.history['loss'])# na zb. uczącym \n",
        "plt.legend(('zb. walidacyjny', 'zb. uczący'))\n",
        "plt.xlabel('epoki')\n",
        "plt.ylabel('błąd')\n",
        "plt.show()"
      ],
      "execution_count": 118,
      "outputs": [
        {
          "output_type": "display_data",
          "data": {
            "image/png": "[encoded data removed]",
            "text/plain": [
              "<Figure size 432x288 with 1 Axes>"
            ]
          },
          "metadata": {
            "tags": []
          }
        }
      ]
    },
    {
      "cell_type": "code",
      "metadata": {
        "id": "BouhgdmB2lTl",
        "colab_type": "code",
        "colab": {
          "base_uri": "https://localhost:8080/",
          "height": 265
        },
        "outputId": "58317467-eb72-4ca5-b8f1-dff5387176d3"
      },
      "source": [
        "plt.figure()\n",
        "x = np.linspace(0,7,100)\n",
        "y_pred = model.predict(x)\n",
        "plt.plot(x,y_pred)\n",
        "plt.plot(X, Y, 'o')\n",
        "plt.plot(X_t, Y_t, 'o')\n",
        "plt.plot(X_idealne, Y_idealne,'-')\n",
        "plt.legend(('predykcja','dane uczące','dane walidacyjne','dane idealne'))\n",
        "plt.show()"
      ],
      "execution_count": 119,
      "outputs": [
        {
          "output_type": "display_data",
          "data": {
            "image/png": "[encoded data removed]",
            "text/plain": [
              "<Figure size 432x288 with 1 Axes>"
            ]
          },
          "metadata": {
            "tags": []
          }
        }
      ]
    },
    {
      "cell_type": "markdown",
      "metadata": {
        "id": "qbV5a2pQ2lTp",
        "colab_type": "text"
      },
      "source": [
        "## Analiza krzywych uczenia \n",
        "Na jakość regresji wpływ mogą mieć następujące czynniki:\n",
        "* stopień skomplikowania wewnętrznej reprezentacji (tu: ilość jednostek ukrytych):\n",
        "  * za dużo jednostek pozwala dobrze dopasować się do szczegółów w zbiorze uczącym, może jednak prowadzić do złej generalizacji\n",
        "  * zbyt uboga reprezentacja (tu: za mało jednostek ukrytych) prowadzi do zbyt dużych błędów na obu zbiorach\n",
        "* liczba przykładów w ciągu uczącym:\n",
        "  * zbyt mała może powodować błędy generalizacji poprzez słabe pokrycie przestrzeni wejść\n",
        "  * zbyt duża: niepotrzebnie podnosi czas uczenia i (w realnym świecie) koszty pozyskania przykładów\n",
        "  \n",
        "Oprócz wspomnianego już analizowania wykresów błędów na zbiorze treningowym i monitorującym pomocne może być przyjrzenie się wykresom błędów popełnianych na zbiorze uczącym i monitorującym w zależności od liczby przykładów w tych zbiorach.\n",
        "* Dla kilku ustalonych architektur (możesz zmieniać liczbę jednostek ukrytych (np.: 2,8,60), liczbę warstw (spróbuj dodać jedną), funkcje aktywacji (np. sigmoid->relu)) zbadaj zależność błędu od rozmiaru zbioru uczącego."
      ]
    },
    {
      "cell_type": "markdown",
      "metadata": {
        "id": "PeKXHmAFa0S5",
        "colab_type": "text"
      },
      "source": [
        "Zbadano zależność błędu od rozmiaru zbioru uczącego dla 6-ciu architektur. Niech L - liczba warstw wewnętrznych, N - liczba neuronów w warstwie wewnętrznej (w każdej jest po N).\n",
        "I.   L=1, sigmoid, N=2\n",
        "II.  L=1, sigmoid, N=8\n",
        "III. L=1, sigmoid, N=60\n",
        "IV.  L=2, sigmoid, N=8\n",
        "V.   L=1, relu, N=8\n",
        "VI.  L=1, relu, N=8\n",
        "\n",
        "W każdym przypadku zaobserwowano, że generalnie rozrzut błędu maleje wraz ze wzrostem rozmiaru zbioru uczącego a potem się stabilizuje. Wartości średnie błędu nie ulegają dużym zmianom."
      ]
    },
    {
      "cell_type": "markdown",
      "metadata": {
        "id": "7BhIUzQ52lTp",
        "colab_type": "text"
      },
      "source": [
        "### Inicjujemy stałe"
      ]
    },
    {
      "cell_type": "code",
      "metadata": {
        "id": "qTMAh9B62lTp",
        "colab_type": "code",
        "colab": {}
      },
      "source": [
        "N_epok = 1500 \n",
        "rozmiary = np.arange(10, 121, 30, dtype = int)\n",
        "N_rozmiarow = rozmiary.shape[0]\n",
        "N_prob = 6"
      ],
      "execution_count": 0,
      "outputs": []
    },
    {
      "cell_type": "markdown",
      "metadata": {
        "id": "1ErSmtUO2lTt",
        "colab_type": "text"
      },
      "source": [
        "### Inicjujemy tablice na ewolucje błędów"
      ]
    },
    {
      "cell_type": "code",
      "metadata": {
        "id": "0Brl-1Ci2lTt",
        "colab_type": "code",
        "colab": {}
      },
      "source": [
        "bl = np.zeros((N_rozmiarow,N_prob)) #tablica na błąd zbioru uczącego\n",
        "bl_val = np.zeros((N_rozmiarow,N_prob)) #tablica na błąd zbioru monitorującego"
      ],
      "execution_count": 0,
      "outputs": []
    },
    {
      "cell_type": "markdown",
      "metadata": {
        "id": "sSEnad652lTy",
        "colab_type": "text"
      },
      "source": [
        "### Definiujemy  sieć:"
      ]
    },
    {
      "cell_type": "code",
      "metadata": {
        "id": "TVBTZMXA2lTz",
        "colab_type": "code",
        "colab": {}
      },
      "source": [
        "model = Sequential()\n",
        "model.add(Dense( 60, \n",
        "                input_dim= 1, \n",
        "                activation= 'relu', #relu\n",
        "                kernel_initializer=init, \n",
        "                bias_initializer=init))\n",
        "\n",
        "#model.add(Dense( 8, \n",
        "#                activation= 'sigmoid', #relu\n",
        "#                kernel_initializer=init, \n",
        "#                bias_initializer=init))\n",
        "\n",
        "model.add(Dense(1,kernel_initializer=init, bias_initializer=init))# warstwa liniowa\n",
        "adam = Adam(lr=0.01, beta_1=0.9, beta_2=0.999, epsilon=None, decay=0.0, amsgrad=False)\n",
        "model.compile(loss='mean_squared_error', \n",
        "              optimizer= adam,\n",
        "              metrics=['accuracy'])"
      ],
      "execution_count": 0,
      "outputs": []
    },
    {
      "cell_type": "markdown",
      "metadata": {
        "id": "ZLq1N5uE2lT1",
        "colab_type": "text"
      },
      "source": [
        "### Uczymy sieć i zapisujemy błędy przy kolejnych rozmiarach zbioru uczącego"
      ]
    },
    {
      "cell_type": "code",
      "metadata": {
        "id": "WyeFHRqV2lT2",
        "colab_type": "code",
        "colab": {
          "base_uri": "https://localhost:8080/",
          "height": 531
        },
        "outputId": "c1039166-0e56-4d00-8c85-057f2dff5b3a"
      },
      "source": [
        "for i,N_przykladow in enumerate(rozmiary):\n",
        "    print(' ')\n",
        "    for proba in range(N_prob):\n",
        "        print( 'test dla ', N_przykladow, 'przykładów; ''próba: ', proba)\n",
        "        #zbiór uczący:\n",
        "        X,   Y      = gen(N_przykladow,0.1) # przykłady do ciągu uczącego\n",
        "        X_t, Y_t    = gen(N_przykladow,0.1) # przykłady do ciągu monitorującego\n",
        "        H = model.fit(X, Y, epochs=N_epok, batch_size=10, verbose=0,shuffle=True)\n",
        "        y_t = (1+10*X_t+X_t**2)/(1+2*X_t**2)\n",
        "        bl_val[i,proba] = np.mean((y_t - model.predict(X_t))**2)#np.array(H.history['val_loss'])[-1]         \n",
        "        y = (1+10*X+X**2)/(1+2*X**2)\n",
        "        bl[i,proba] = np.mean((y - model.predict(X))**2)#np.array(H.history['loss'])[-1] \n",
        "     "
      ],
      "execution_count": 139,
      "outputs": [
        {
          "output_type": "stream",
          "text": [
            " \n",
            "test dla  10 przykładów; próba:  0\n",
            "test dla  10 przykładów; próba:  1\n",
            "test dla  10 przykładów; próba:  2\n",
            "test dla  10 przykładów; próba:  3\n",
            "test dla  10 przykładów; próba:  4\n",
            "test dla  10 przykładów; próba:  5\n",
            " \n",
            "test dla  40 przykładów; próba:  0\n",
            "test dla  40 przykładów; próba:  1\n",
            "test dla  40 przykładów; próba:  2\n",
            "test dla  40 przykładów; próba:  3\n",
            "test dla  40 przykładów; próba:  4\n",
            "test dla  40 przykładów; próba:  5\n",
            " \n",
            "test dla  70 przykładów; próba:  0\n",
            "test dla  70 przykładów; próba:  1\n",
            "test dla  70 przykładów; próba:  2\n",
            "test dla  70 przykładów; próba:  3\n",
            "test dla  70 przykładów; próba:  4\n",
            "test dla  70 przykładów; próba:  5\n",
            " \n",
            "test dla  100 przykładów; próba:  0\n",
            "test dla  100 przykładów; próba:  1\n",
            "test dla  100 przykładów; próba:  2\n",
            "test dla  100 przykładów; próba:  3\n",
            "test dla  100 przykładów; próba:  4\n",
            "test dla  100 przykładów; próba:  5\n"
          ],
          "name": "stdout"
        }
      ]
    },
    {
      "cell_type": "markdown",
      "metadata": {
        "id": "bs6luJbs2lT7",
        "colab_type": "text"
      },
      "source": [
        "## Rysunki"
      ]
    },
    {
      "cell_type": "code",
      "metadata": {
        "id": "0m9XbRd62lT-",
        "colab_type": "code",
        "colab": {
          "base_uri": "https://localhost:8080/",
          "height": 281
        },
        "outputId": "56eba02f-593a-4bf4-e3bc-95eb299dc222"
      },
      "source": [
        "sr_bl = np.mean(bl, axis = 1)\n",
        "std_bl = np.std(bl, axis = 1) \n",
        "sr_bl_val = np.mean(bl_val, axis = 1)\n",
        "std_bl_val = np.std(bl_val, axis = 1) \n",
        "    \n",
        "plt.figure()\n",
        "plt.fill_between(rozmiary,sr_bl-std_bl,sr_bl+std_bl , alpha=0.1, color=\"b\")\n",
        "plt.plot(rozmiary,sr_bl, 'b',label='zb. uczacy')\n",
        "plt.fill_between(rozmiary,sr_bl_val-std_bl_val,sr_bl_val+std_bl_val , alpha=0.1, color=\"r\")\n",
        "plt.plot(rozmiary,sr_bl_val, 'r',label='zb. walidacyjny')\n",
        "plt.title(u'błąd')\n",
        "plt.legend()\n",
        "#plt.ylim([0,1.5])\n",
        "plt.show()"
      ],
      "execution_count": 140,
      "outputs": [
        {
          "output_type": "display_data",
          "data": {
            "image/png": "[encoded data removed]",
            "text/plain": [
              "<Figure size 432x288 with 1 Axes>"
            ]
          },
          "metadata": {
            "tags": []
          }
        }
      ]
    }
  ]
}